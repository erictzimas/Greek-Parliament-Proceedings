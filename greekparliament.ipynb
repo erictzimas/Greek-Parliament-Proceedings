{
 "cells": [
  {
   "cell_type": "markdown",
   "metadata": {
    "id": "ztPCaSJRHz-H"
   },
   "source": [
    "# **Greek Parliament Proceedings**\n",
    "\n",
    "\n",
    "> Eric Tzimas <br />\n",
    "> Department of Management Science and Technology <br />\n",
    "> Athens University of Economics and Business <br />\n",
    "\n",
    "\n",
    " "
   ]
  },
  {
   "cell_type": "markdown",
   "metadata": {
    "id": "My2sAoEpIuFT"
   },
   "source": [
    "## **Data Exploration**\n",
    "\n",
    "\n",
    "* Importing necessary modules"
   ]
  },
  {
   "cell_type": "code",
   "execution_count": 1,
   "metadata": {
    "id": "h-fiKxF1HrPh"
   },
   "outputs": [],
   "source": [
    "import pandas as pd\n",
    "from sklearn.model_selection import train_test_split\n",
    "import numpy as np\n",
    "from sklearn.linear_model import SGDClassifier\n",
    "from sklearn.naive_bayes import MultinomialNB\n",
    "from sklearn.feature_extraction.text import CountVectorizer\n",
    "from sklearn.feature_extraction.text import TfidfTransformer\n",
    "from sklearn import metrics\n",
    "from matplotlib import pyplot as plt\n",
    "\n"
   ]
  },
  {
   "cell_type": "markdown",
   "metadata": {
    "id": "OtsrWzObJ85U"
   },
   "source": [
    "* **Reading the dataset from** https://zenodo.org"
   ]
  },
  {
   "cell_type": "code",
   "execution_count": 2,
   "metadata": {
    "colab": {
     "base_uri": "https://localhost:8080/"
    },
    "id": "NlaBGvB2KHbv",
    "outputId": "018e8366-b2c9-42bd-eb8a-af701f850ac8"
   },
   "outputs": [
    {
     "data": {
      "text/plain": [
       "(1194407, 8)"
      ]
     },
     "execution_count": 2,
     "metadata": {},
     "output_type": "execute_result"
    }
   ],
   "source": [
    "speechs = pd.read_csv('https://zenodo.org/record/2587904/files/Greek_Parliament_Proceedings_1989_2019.csv.zip')\n",
    "speechs.shape"
   ]
  },
  {
   "cell_type": "markdown",
   "metadata": {
    "id": "mkDWzkeaKXCq"
   },
   "source": [
    "* Searching for null values and removing them\n",
    "* Isolating `political_party` and `speech` columns"
   ]
  },
  {
   "cell_type": "code",
   "execution_count": 3,
   "metadata": {
    "colab": {
     "base_uri": "https://localhost:8080/"
    },
    "id": "5HwP-orOKPzN",
    "outputId": "9649dbca-5d73-49ca-fcf2-2f2e28419b85"
   },
   "outputs": [
    {
     "data": {
      "text/plain": [
       "member_name               47289\n",
       "sitting_date                  0\n",
       "parliamentary_period          0\n",
       "parliamentary_session         0\n",
       "parliamentary_sitting         0\n",
       "political_party             162\n",
       "speaker_info             543871\n",
       "speech                       10\n",
       "dtype: int64"
      ]
     },
     "execution_count": 3,
     "metadata": {},
     "output_type": "execute_result"
    }
   ],
   "source": [
    "speechs.isnull().sum()"
   ]
  },
  {
   "cell_type": "code",
   "execution_count": 4,
   "metadata": {
    "colab": {
     "base_uri": "https://localhost:8080/"
    },
    "id": "GJoOmrZTKP7O",
    "outputId": "3732fdc1-e740-4ba2-a4c3-0ba682eecef8"
   },
   "outputs": [
    {
     "data": {
      "text/plain": [
       "political_party    0\n",
       "speech             0\n",
       "dtype: int64"
      ]
     },
     "execution_count": 4,
     "metadata": {},
     "output_type": "execute_result"
    }
   ],
   "source": [
    "sp = pd.DataFrame()\n",
    "sp['political_party'] = speechs['political_party']\n",
    "sp['speech'] = speechs['speech']\n",
    "speech = sp\n",
    "speech = speech.dropna()\n",
    "speech.isnull().sum()"
   ]
  },
  {
   "cell_type": "markdown",
   "metadata": {
    "id": "wplmZtB9LXHI"
   },
   "source": [
    "* Sampling some of the texts."
   ]
  },
  {
   "cell_type": "code",
   "execution_count": 5,
   "metadata": {
    "colab": {
     "base_uri": "https://localhost:8080/",
     "height": 343
    },
    "id": "Yj__vdD9KQBP",
    "outputId": "0e91e706-743f-4238-d833-0b1995c0f87a"
   },
   "outputs": [
    {
     "data": {
      "text/html": [
       "<div>\n",
       "<style scoped>\n",
       "    .dataframe tbody tr th:only-of-type {\n",
       "        vertical-align: middle;\n",
       "    }\n",
       "\n",
       "    .dataframe tbody tr th {\n",
       "        vertical-align: top;\n",
       "    }\n",
       "\n",
       "    .dataframe thead th {\n",
       "        text-align: right;\n",
       "    }\n",
       "</style>\n",
       "<table border=\"1\" class=\"dataframe\">\n",
       "  <thead>\n",
       "    <tr style=\"text-align: right;\">\n",
       "      <th></th>\n",
       "      <th>political_party</th>\n",
       "      <th>speech</th>\n",
       "    </tr>\n",
       "  </thead>\n",
       "  <tbody>\n",
       "    <tr>\n",
       "      <th>128790</th>\n",
       "      <td>νεα δημοκρατια</td>\n",
       "      <td>Δηλαδή τα π.δ. είναι αντισυνταγματικά;</td>\n",
       "    </tr>\n",
       "    <tr>\n",
       "      <th>505385</th>\n",
       "      <td>νεα δημοκρατια</td>\n",
       "      <td>Θα σας τα πω τώρα.</td>\n",
       "    </tr>\n",
       "    <tr>\n",
       "      <th>113717</th>\n",
       "      <td>συνασπισμος της αριστερας των κινηματων και τη...</td>\n",
       "      <td>Συμφωνούμε και μεις, κύριε Πρόεδρε, με τις 5 ...</td>\n",
       "    </tr>\n",
       "    <tr>\n",
       "      <th>1057520</th>\n",
       "      <td>ενωση κεντρωων</td>\n",
       "      <td>Αυτό καταγγέλλουμε ως Ένωση Κεντρώων από την ...</td>\n",
       "    </tr>\n",
       "    <tr>\n",
       "      <th>131353</th>\n",
       "      <td>πανελληνιο σοσιαλιστικο κινημα</td>\n",
       "      <td>Κύριε Πρόεδρε, μου επιτρέπετε; Θέλω να πω κάτ...</td>\n",
       "    </tr>\n",
       "    <tr>\n",
       "      <th>1115337</th>\n",
       "      <td>ανεξαρτητοι ελληνες εθνικη πατριωτικη δημοκρατ...</td>\n",
       "      <td>Έχουμε την ίδια περίοδο -και θα κλείσω με αυτ...</td>\n",
       "    </tr>\n",
       "    <tr>\n",
       "      <th>474961</th>\n",
       "      <td>πανελληνιο σοσιαλιστικο κινημα</td>\n",
       "      <td>Φοβάμαι, κύριε Πρόεδρε, ότι θα επαναλάβω αυτά...</td>\n",
       "    </tr>\n",
       "    <tr>\n",
       "      <th>617122</th>\n",
       "      <td>νεα δημοκρατια</td>\n",
       "      <td>Δύο δισεκατομμύρια ευρώ πέφτουν στην πόλη.</td>\n",
       "    </tr>\n",
       "    <tr>\n",
       "      <th>937585</th>\n",
       "      <td>δημοκρατικη αριστερα</td>\n",
       "      <td>Ευχαριστώ πολύ, κύριε Πρόεδρε.Νόμιζα, κύριε Υ...</td>\n",
       "    </tr>\n",
       "    <tr>\n",
       "      <th>197658</th>\n",
       "      <td>νεα δημοκρατια</td>\n",
       "      <td>Κάθε φορά τα ίδια λέτε για την υπέρβαση.</td>\n",
       "    </tr>\n",
       "  </tbody>\n",
       "</table>\n",
       "</div>"
      ],
      "text/plain": [
       "                                           political_party  \\\n",
       "128790                                      νεα δημοκρατια   \n",
       "505385                                      νεα δημοκρατια   \n",
       "113717   συνασπισμος της αριστερας των κινηματων και τη...   \n",
       "1057520                                     ενωση κεντρωων   \n",
       "131353                      πανελληνιο σοσιαλιστικο κινημα   \n",
       "1115337  ανεξαρτητοι ελληνες εθνικη πατριωτικη δημοκρατ...   \n",
       "474961                      πανελληνιο σοσιαλιστικο κινημα   \n",
       "617122                                      νεα δημοκρατια   \n",
       "937585                                δημοκρατικη αριστερα   \n",
       "197658                                      νεα δημοκρατια   \n",
       "\n",
       "                                                    speech  \n",
       "128790              Δηλαδή τα π.δ. είναι αντισυνταγματικά;  \n",
       "505385                                  Θα σας τα πω τώρα.  \n",
       "113717    Συμφωνούμε και μεις, κύριε Πρόεδρε, με τις 5 ...  \n",
       "1057520   Αυτό καταγγέλλουμε ως Ένωση Κεντρώων από την ...  \n",
       "131353    Κύριε Πρόεδρε, μου επιτρέπετε; Θέλω να πω κάτ...  \n",
       "1115337   Έχουμε την ίδια περίοδο -και θα κλείσω με αυτ...  \n",
       "474961    Φοβάμαι, κύριε Πρόεδρε, ότι θα επαναλάβω αυτά...  \n",
       "617122          Δύο δισεκατομμύρια ευρώ πέφτουν στην πόλη.  \n",
       "937585    Ευχαριστώ πολύ, κύριε Πρόεδρε.Νόμιζα, κύριε Υ...  \n",
       "197658            Κάθε φορά τα ίδια λέτε για την υπέρβαση.  "
      ]
     },
     "execution_count": 5,
     "metadata": {},
     "output_type": "execute_result"
    }
   ],
   "source": [
    "speech.sample(10)"
   ]
  },
  {
   "cell_type": "markdown",
   "metadata": {
    "id": "1n_EMmyVLXlo"
   },
   "source": [
    "* Counting the number of unique political parties in our dataset."
   ]
  },
  {
   "cell_type": "code",
   "execution_count": 6,
   "metadata": {
    "colab": {
     "base_uri": "https://localhost:8080/"
    },
    "id": "cjMpRqVkKQHH",
    "outputId": "4a075a06-ef92-43d2-bd57-a8269ed4f2f9"
   },
   "outputs": [
    {
     "data": {
      "text/plain": [
       "(23,)"
      ]
     },
     "execution_count": 6,
     "metadata": {},
     "output_type": "execute_result"
    }
   ],
   "source": [
    "speech['political_party'].unique().shape"
   ]
  },
  {
   "cell_type": "markdown",
   "metadata": {
    "id": "rKat96njLoH0"
   },
   "source": [
    "* Creating a new dataframe for visualisation purposes. \n",
    "The dataframe speechs is going to be the same as speech but we will add an extra column that will represent only the year the speech took place in."
   ]
  },
  {
   "cell_type": "code",
   "execution_count": 7,
   "metadata": {
    "colab": {
     "base_uri": "https://localhost:8080/"
    },
    "id": "KPv2PwiuKQJr",
    "outputId": "c03531b7-eb41-4401-c3e3-d4beb7d63c37"
   },
   "outputs": [
    {
     "name": "stderr",
     "output_type": "stream",
     "text": [
      "/opt/anaconda3/lib/python3.7/site-packages/ipykernel_launcher.py:2: SettingWithCopyWarning: \n",
      "A value is trying to be set on a copy of a slice from a DataFrame.\n",
      "Try using .loc[row_indexer,col_indexer] = value instead\n",
      "\n",
      "See the caveats in the documentation: https://pandas.pydata.org/pandas-docs/stable/user_guide/indexing.html#returning-a-view-versus-a-copy\n",
      "  \n"
     ]
    }
   ],
   "source": [
    "speechs['year'] = pd.DatetimeIndex(speechs['sitting_date']).year\n",
    "speech['year'] = speechs['year']\n"
   ]
  },
  {
   "cell_type": "markdown",
   "metadata": {
    "id": "OAfZIK0tVs-_"
   },
   "source": [
    "* **Lets plot the number of speeches per year per political_party**"
   ]
  },
  {
   "cell_type": "code",
   "execution_count": 8,
   "metadata": {
    "colab": {
     "base_uri": "https://localhost:8080/",
     "height": 621
    },
    "id": "8_CiZ4u2KQM0",
    "outputId": "560aa83e-f60c-4208-b725-12b510b8c434"
   },
   "outputs": [
    {
     "data": {
      "image/png": "[encoded data removed]",
      "text/plain": [
       "<Figure size 1800x864 with 1 Axes>"
      ]
     },
     "metadata": {
      "needs_background": "light"
     },
     "output_type": "display_data"
    }
   ],
   "source": [
    "dates = speechs.groupby(['political_party','year']).count()\n",
    "dates = dates.reset_index()\n",
    "dates.set_index('year', inplace=True)\n",
    "plt.figure(figsize =(25, 12))\n",
    "\n",
    "dates.groupby('political_party')['speech'].plot(legend='True')\n",
    "\n",
    "plt.show()"
   ]
  },
  {
   "cell_type": "markdown",
   "metadata": {
    "id": "Mb0c63MDWakh"
   },
   "source": [
    "* Lets also see the number of speeches per party in a barchart."
   ]
  },
  {
   "cell_type": "code",
   "execution_count": 9,
   "metadata": {
    "colab": {
     "base_uri": "https://localhost:8080/",
     "height": 522
    },
    "id": "xO5Gk73RWgkQ",
    "outputId": "559862b5-6bec-44b9-d5a6-6e6ac7666efc"
   },
   "outputs": [
    {
     "data": {
      "image/png": "[encoded data removed]",
      "text/plain": [
       "<Figure size 640x480 with 1 Axes>"
      ]
     },
     "metadata": {},
     "output_type": "display_data"
    },
    {
     "data": {
      "text/plain": [
       "<ggplot: (8789047788933)>"
      ]
     },
     "execution_count": 9,
     "metadata": {},
     "output_type": "execute_result"
    }
   ],
   "source": [
    "from plotnine.data import mpg\n",
    "from plotnine import ggplot, aes, geom_bar\n",
    "\n",
    "ggplot(speech) + aes(x=\"political_party\") + geom_bar()"
   ]
  },
  {
   "cell_type": "markdown",
   "metadata": {
    "id": "1m18yZ8I9OA7"
   },
   "source": [
    "* **Run the notebook up until here, then navigate to the end of this notebook, run the last two cells and access the link for a dash GUI of every political partys timeline. It is placed at the end to not interrupt the flow of the notebook**"
   ]
  },
  {
   "cell_type": "markdown",
   "metadata": {
    "id": "mgvyd5eqWGaw"
   },
   "source": [
    "# **Classification with Machine learning algorithms**\n",
    "\n",
    "* Preprocessing\n",
    "\n",
    "* Sorting `political_parties` based on number of speeches."
   ]
  },
  {
   "cell_type": "code",
   "execution_count": 10,
   "metadata": {
    "id": "WhEOx3xAKQPb"
   },
   "outputs": [],
   "source": [
    "grouped = speech.groupby(['political_party']).count()\n",
    "grouped = grouped.sort_values('speech')\n"
   ]
  },
  {
   "cell_type": "markdown",
   "metadata": {
    "id": "UcXtNrbIW1Vg"
   },
   "source": [
    "* Removing 13 classes that seem trivial for our purposes. For this part of the assignment, we are only going to keep the top 10 `political_parties` based on total number of speeches. "
   ]
  },
  {
   "cell_type": "code",
   "execution_count": 11,
   "metadata": {
    "colab": {
     "base_uri": "https://localhost:8080/"
    },
    "id": "jTibWuK4KQR6",
    "outputId": "5071894d-9547-46da-fa36-2abb83509340"
   },
   "outputs": [
    {
     "data": {
      "text/plain": [
       "(1124924, 3)"
      ]
     },
     "execution_count": 11,
     "metadata": {},
     "output_type": "execute_result"
    }
   ],
   "source": [
    "speech = speech[speech.political_party != \"αντιπολιτευση\"]\n",
    "speech = speech[speech.political_party != \"κομμουνιστικο κομμα ελλαδας εσωτερικου\"]\n",
    "speech = speech[speech.political_party != \"οικολογοι εναλλακτικοι (ομοσπονδια οικολογικων εναλλακτικων οργανωσεων)\"]\n",
    "speech = speech[speech.political_party != \"λαικη ενοτητα\"]\n",
    "speech = speech[speech.political_party != \"ανεξαρτητοι (εκτος κομματος)\"]\n",
    "speech = speech[speech.political_party != \"ανεξαρτητοι δημοκρατικοι βουλευτες\"]\n",
    "speech = speech[speech.political_party != \"πολιτικη ανοιξη\"]\n",
    "speech = speech[speech.political_party != \"δημοκρατικη αριστερα\"]\n",
    "speech = speech[speech.political_party != \"ανεξαρτητοι ελληνες εθνικη πατριωτικη δημοκρατικη συμμαχια\"]\n",
    "speech = speech[speech.political_party != \"δημοκρατικο κοινωνικο κινημα\"]\n",
    "speech = speech[speech.political_party != \"το ποταμι\"]\n",
    "speech = speech[speech.political_party != \"ενωση κεντρωων\"]\n",
    "\n",
    "speech.shape"
   ]
  },
  {
   "cell_type": "code",
   "execution_count": 12,
   "metadata": {
    "id": "tPut83gcKQUV"
   },
   "outputs": [],
   "source": [
    "speech = speech.rename(columns={\"δημοκρατικη συμπαραταξη (πανελληνιο σοσιαλιστικο κινημα - δημοκρατικη αριστερα)\": \"δημοκρατικη συμπαραταξη\", \"ανεξαρτητοι ελληνες εθνικη πατριωτικη δημοκρατικη συμμαχια\": 'Α.Ε.Ε.Π.Δ.Σ.',\"οικολογοι εναλλακτικοι (ομοσπονδια οικολογικων εναλλακτικων οργανωσεων)\":\"οικολογοι εναλλακτικοι\",\"νεα δημοκρατια\":\"Ν.Δ.\",\"κομμουνιστικο κομμα ελλαδας\":\"KKE\"})\n"
   ]
  },
  {
   "cell_type": "markdown",
   "metadata": {
    "id": "YWSAQGtAXbdt"
   },
   "source": [
    "* Shuffling the dataframe."
   ]
  },
  {
   "cell_type": "code",
   "execution_count": 13,
   "metadata": {
    "id": "IxLaRNstKQXF"
   },
   "outputs": [],
   "source": [
    "speech = speech.sample(frac = 1)"
   ]
  },
  {
   "cell_type": "markdown",
   "metadata": {
    "id": "cftktjtKXgkS"
   },
   "source": [
    "* Getting stopwords from ntlk. In addition to these, several other stopwords were added based on my assumptions."
   ]
  },
  {
   "cell_type": "code",
   "execution_count": 14,
   "metadata": {
    "id": "1rvqM0KBKQZa"
   },
   "outputs": [],
   "source": [
    "stoppers = ['αλλά','αν','αντι','από', 'αυτά', 'αυτές', 'αυτή', 'αυτό', 'αυτοί', 'αυτός', 'αυτούς', 'αυτών', 'αἱ', 'αἳ', 'αἵ', 'αὐτόσ', 'αὐτὸς', 'αὖ', 'γάρ','γα', 'γα^','γε', 'για', 'γοῦν', 'γὰρ', \"δ'\", 'δέ', 'δή', 'δαί','δαίσ', 'δαὶ', 'δαὶς', 'δε', 'δεν', \"δι'\", 'διά', 'διὰ','δὲ', 'δὴ', 'δ’', 'εάν', 'είμαι','είμαστε','είναι','είσαι','είστε','εκείνα','εκείνες', 'εκείνη', 'εκείνο', 'εκείνοι', 'εκείνος', 'εκείνους', 'εκείνων', 'ενώ', 'επ', 'επι', 'εἰ', 'εἰμί', 'εἰμὶ', 'εἰς', 'εἰσ', 'εἴ', 'εἴμι', 'εἴτε', 'η', 'θα', 'ίσως', 'κ', 'και', 'καίτοι','καθ', 'και', 'κατ', 'κατά', 'κατα', 'κατὰ', 'καὶ', 'κι', 'κἀν', 'κἂν', 'μέν', 'μή', 'μήτε', 'μα','με', 'μεθ','μετ', 'μετά','μετα','μετὰ', 'μη','μην', 'μἐν', 'μὲν','μὴ','μὴν', 'να', 'ο', 'οι', 'όμως', 'όπως','όσο','οτι','οἱ','οἳ', 'οἷς','οὐ','οὐδ', 'οὐδέ', 'οὐδείσ', 'οὐδεὶς', 'οὐδὲ', 'οὐδὲν', 'οὐκ','οὐχ', 'οὐχὶ', 'οὓς', 'οὔτε', 'οὕτω', 'οὕτως', 'οὕτωσ', 'οὖν', 'οὗ', 'οὗτος', 'οὗτοσ', 'παρ','παρά','παρα','παρὰ','περί','περὶ','ποια','ποιεσ','ποιό','ποιοί','ποιός','ποιούς','ποιών','ποτέ','που','ποῦ','προ','προσ','πρόσ','πρὸ','πρὸς','πως','πωσ','σε','στη','στην','στο','στον','σόσ','σύ','σύν','σὸς','σὺ','σὺν','τά','τήν','τί','τίς','τίσ','τα','ταῖς','τε','την','τησ','τι','τινα','τις','τισ','το','τοί','τοι','τοιοῦτος','τοιοῦτοσ','τον','τότε','του','τούσ','τοὺς','τοῖς','τοῦ','των','τό','τόν','τότε','τὰ','τὰς','τὴν','τὸ','τὸν','τῆς','τῆσ','τῇ','τῶν','τῷ','ωσ',\"ἀλλ'\",'ἀλλά','ἀλλὰ','ἀλλ’','ἀπ','ἀπό','ἀπὸ','ἀφ','ἂν','ἃ','ἄλλος','ἄλλοσ','ἄν','ἄρα','ἅμα','ἐάν','ἐγώ','εγώ','ἐκ','ἐμόσ','ἐμὸς','ἐν','ἐξ','ἐπί','ἐπεὶ','ἐπὶ','ἐστι','ἐφ','ἐὰν','ἑαυτοῦ','ἔτι','ἡ','ἢ','ἣ','ἤ','ἥ','ἧς','ἵνα','ὁ','ὃ','ὃν','ὃς','ὅ','ὅδε','ὅθεν','ὅπερ','ὅς','ὅσ','ὅστις','τους','της','οτι','τις','σας','μας','τη','μ','ὅστισ','ότι','ή','τους','στα','στις','στους','ως','-','ὅτε','ὅτι','ὑμόσ','ὑπ','ὑπέρ','ὑπό','ὑπὲρ','ὑπὸ','ὡς','ὡσ','ὥς','ὥστε','ὦ','ᾧ']\n",
    "STOPWORDS = set(stoppers)\n"
   ]
  },
  {
   "cell_type": "markdown",
   "metadata": {
    "id": "qEvw261BYAt-"
   },
   "source": [
    "* The function `clean_text()` removes digits, stopwords and turns all text to lower case. We are going to apply it to the dataframe."
   ]
  },
  {
   "cell_type": "code",
   "execution_count": 15,
   "metadata": {
    "colab": {
     "base_uri": "https://localhost:8080/",
     "height": 402
    },
    "id": "1ssrcVEEKQcG",
    "outputId": "fc4262da-cd0c-40b2-b6af-df637491c723"
   },
   "outputs": [
    {
     "data": {
      "text/html": [
       "<div>\n",
       "<style scoped>\n",
       "    .dataframe tbody tr th:only-of-type {\n",
       "        vertical-align: middle;\n",
       "    }\n",
       "\n",
       "    .dataframe tbody tr th {\n",
       "        vertical-align: top;\n",
       "    }\n",
       "\n",
       "    .dataframe thead th {\n",
       "        text-align: right;\n",
       "    }\n",
       "</style>\n",
       "<table border=\"1\" class=\"dataframe\">\n",
       "  <thead>\n",
       "    <tr style=\"text-align: right;\">\n",
       "      <th></th>\n",
       "      <th>political_party</th>\n",
       "      <th>speech</th>\n",
       "      <th>year</th>\n",
       "    </tr>\n",
       "  </thead>\n",
       "  <tbody>\n",
       "    <tr>\n",
       "      <th>614176</th>\n",
       "      <td>πανελληνιο σοσιαλιστικο κινημα</td>\n",
       "      <td>κ. τζέκης ζήτησε λόγο επί διαδικασίας, κύριε π...</td>\n",
       "      <td>2007</td>\n",
       "    </tr>\n",
       "    <tr>\n",
       "      <th>351059</th>\n",
       "      <td>κομμουνιστικο κομμα ελλαδας</td>\n",
       "      <td>ευχαριστώ, κύριε πρόεδρε.θα προσπαθήσω γίνεται...</td>\n",
       "      <td>1999</td>\n",
       "    </tr>\n",
       "    <tr>\n",
       "      <th>1114403</th>\n",
       "      <td>λαικος συνδεσος - χρυση αυγη</td>\n",
       "      <td>όχι.</td>\n",
       "      <td>2017</td>\n",
       "    </tr>\n",
       "    <tr>\n",
       "      <th>405976</th>\n",
       "      <td>πανελληνιο σοσιαλιστικο κινημα</td>\n",
       "      <td>κύριε λαφαζάνη όταν πας ευρωπαϊκά όργανα συζητ...</td>\n",
       "      <td>2001</td>\n",
       "    </tr>\n",
       "    <tr>\n",
       "      <th>630557</th>\n",
       "      <td>πανελληνιο σοσιαλιστικο κινημα</td>\n",
       "      <td>απλήρωτοι, κύριε υπουργέ.</td>\n",
       "      <td>2007</td>\n",
       "    </tr>\n",
       "    <tr>\n",
       "      <th>...</th>\n",
       "      <td>...</td>\n",
       "      <td>...</td>\n",
       "      <td>...</td>\n",
       "    </tr>\n",
       "    <tr>\n",
       "      <th>989032</th>\n",
       "      <td>βουλη</td>\n",
       "      <td>δεκτή, δεκτή.</td>\n",
       "      <td>2015</td>\n",
       "    </tr>\n",
       "    <tr>\n",
       "      <th>742618</th>\n",
       "      <td>πανελληνιο σοσιαλιστικο κινημα</td>\n",
       "      <td>ευχαριστούμε κ. μαρκάκη.επιβεβαιώνω -επειδή επ...</td>\n",
       "      <td>2010</td>\n",
       "    </tr>\n",
       "    <tr>\n",
       "      <th>683131</th>\n",
       "      <td>νεα δημοκρατια</td>\n",
       "      <td>κύριε κουτμερίδη, πρόεδρος απαγορεύει.</td>\n",
       "      <td>2008</td>\n",
       "    </tr>\n",
       "    <tr>\n",
       "      <th>419915</th>\n",
       "      <td>νεα δημοκρατια</td>\n",
       "      <td>κύριε πρόεδρε, ακούγοντας κ. μαγκριώτη προσπαθ...</td>\n",
       "      <td>2001</td>\n",
       "    </tr>\n",
       "    <tr>\n",
       "      <th>570352</th>\n",
       "      <td>πανελληνιο σοσιαλιστικο κινημα</td>\n",
       "      <td>πέρασαν είκοσι μήνες ίδια. τόσος πόνος κυβέρνη...</td>\n",
       "      <td>2005</td>\n",
       "    </tr>\n",
       "  </tbody>\n",
       "</table>\n",
       "<p>1124924 rows × 3 columns</p>\n",
       "</div>"
      ],
      "text/plain": [
       "                        political_party  \\\n",
       "614176   πανελληνιο σοσιαλιστικο κινημα   \n",
       "351059      κομμουνιστικο κομμα ελλαδας   \n",
       "1114403    λαικος συνδεσος - χρυση αυγη   \n",
       "405976   πανελληνιο σοσιαλιστικο κινημα   \n",
       "630557   πανελληνιο σοσιαλιστικο κινημα   \n",
       "...                                 ...   \n",
       "989032                            βουλη   \n",
       "742618   πανελληνιο σοσιαλιστικο κινημα   \n",
       "683131                   νεα δημοκρατια   \n",
       "419915                   νεα δημοκρατια   \n",
       "570352   πανελληνιο σοσιαλιστικο κινημα   \n",
       "\n",
       "                                                    speech  year  \n",
       "614176   κ. τζέκης ζήτησε λόγο επί διαδικασίας, κύριε π...  2007  \n",
       "351059   ευχαριστώ, κύριε πρόεδρε.θα προσπαθήσω γίνεται...  1999  \n",
       "1114403                                               όχι.  2017  \n",
       "405976   κύριε λαφαζάνη όταν πας ευρωπαϊκά όργανα συζητ...  2001  \n",
       "630557                           απλήρωτοι, κύριε υπουργέ.  2007  \n",
       "...                                                    ...   ...  \n",
       "989032                                       δεκτή, δεκτή.  2015  \n",
       "742618   ευχαριστούμε κ. μαρκάκη.επιβεβαιώνω -επειδή επ...  2010  \n",
       "683131              κύριε κουτμερίδη, πρόεδρος απαγορεύει.  2008  \n",
       "419915   κύριε πρόεδρε, ακούγοντας κ. μαγκριώτη προσπαθ...  2001  \n",
       "570352   πέρασαν είκοσι μήνες ίδια. τόσος πόνος κυβέρνη...  2005  \n",
       "\n",
       "[1124924 rows x 3 columns]"
      ]
     },
     "execution_count": 15,
     "metadata": {},
     "output_type": "execute_result"
    }
   ],
   "source": [
    "import nltk\n",
    "def clean_text(text):\n",
    "    \n",
    "    text = ''.join([i for i in text if not i.isdigit()])\n",
    "    text = text.lower() \n",
    "    text = ' '.join(word for word in text.split() if word not in STOPWORDS)\n",
    "\n",
    "    return text\n",
    " \n",
    "speech['speech'] = speech['speech'].apply(clean_text)\n",
    "speech"
   ]
  },
  {
   "cell_type": "markdown",
   "metadata": {
    "id": "Y9pDtW9WYiu7"
   },
   "source": [
    "* **Lets take a look at our main dataframe once again.**"
   ]
  },
  {
   "cell_type": "code",
   "execution_count": 16,
   "metadata": {
    "colab": {
     "base_uri": "https://localhost:8080/",
     "height": 522
    },
    "id": "h7I4VnnUKQeg",
    "outputId": "755f5274-992f-453f-be0d-e535550b4420"
   },
   "outputs": [
    {
     "data": {
      "image/png": "[encoded data removed]",
      "text/plain": [
       "<Figure size 640x480 with 1 Axes>"
      ]
     },
     "metadata": {},
     "output_type": "display_data"
    },
    {
     "data": {
      "text/plain": [
       "<ggplot: (8787255232253)>"
      ]
     },
     "execution_count": 16,
     "metadata": {},
     "output_type": "execute_result"
    }
   ],
   "source": [
    "ggplot(speech) + aes(x=\"political_party\") + geom_bar() "
   ]
  },
  {
   "cell_type": "markdown",
   "metadata": {
    "id": "CwZMInRwdbsI"
   },
   "source": [
    "* We notice that the dataset is imbalanced. Lets pick 50.000 random speeches from the top classes in order to fix this problem."
   ]
  },
  {
   "cell_type": "code",
   "execution_count": 17,
   "metadata": {
    "id": "G1a14QoleJz9"
   },
   "outputs": [],
   "source": [
    "shuffled_df = speech.sample(frac=1,random_state=4)\n",
    "\n",
    "fraud_df = shuffled_df.loc[shuffled_df['political_party'] != 'νεα δημοκρατια']\n",
    "\n",
    "non_fraud_df = shuffled_df.loc[shuffled_df['political_party'] == 'νεα δημοκρατια'].sample(n=50000,random_state=42)\n",
    "\n",
    "normalized_df = pd.concat([fraud_df, non_fraud_df])\n",
    "speech = normalized_df\n",
    "\n",
    "\n",
    "shuffled_df = speech.sample(frac=1,random_state=4)\n",
    "\n",
    "fraud_df = shuffled_df.loc[shuffled_df['political_party'] != 'πανελληνιο σοσιαλιστικο κινημα']\n",
    "\n",
    "non_fraud_df = shuffled_df.loc[shuffled_df['political_party'] == 'πανελληνιο σοσιαλιστικο κινημα'].sample(n=50000,random_state=42)\n",
    "\n",
    "normalized_df = pd.concat([fraud_df, non_fraud_df])\n",
    "speech = normalized_df\n",
    "\n",
    "\n",
    "shuffled_df = speech.sample(frac=1,random_state=4)\n",
    "\n",
    "fraud_df = shuffled_df.loc[shuffled_df['political_party'] != 'συνασπισμος ριζοσπαστικης αριστερας']\n",
    "\n",
    "non_fraud_df = shuffled_df.loc[shuffled_df['political_party'] == 'συνασπισμος ριζοσπαστικης αριστερας'].sample(n=50000,random_state=42)\n",
    "\n",
    "normalized_df = pd.concat([fraud_df, non_fraud_df])\n",
    "speech = normalized_df\n",
    "\n",
    "\n",
    "shuffled_df = speech.sample(frac=1,random_state=4)\n",
    "\n",
    "fraud_df = shuffled_df.loc[shuffled_df['political_party'] != 'κομμουνιστικο κομμα ελλαδας']\n",
    "\n",
    "non_fraud_df = shuffled_df.loc[shuffled_df['political_party'] == 'κομμουνιστικο κομμα ελλαδας'].sample(n=50000,random_state=42)\n",
    "\n",
    "normalized_df = pd.concat([fraud_df, non_fraud_df])\n",
    "speech = normalized_df\n"
   ]
  },
  {
   "cell_type": "markdown",
   "metadata": {
    "id": "8FPqIjXXeU_g"
   },
   "source": [
    "It is not fully balanced but it will suffice for now."
   ]
  },
  {
   "cell_type": "code",
   "execution_count": 18,
   "metadata": {
    "colab": {
     "base_uri": "https://localhost:8080/",
     "height": 518
    },
    "id": "9jk8fOvaeZnm",
    "outputId": "9c6d306d-3f3f-4f9c-c007-5a8b4a4dd99f"
   },
   "outputs": [
    {
     "data": {
      "image/png": "[encoded data removed]",
      "text/plain": [
       "<Figure size 640x480 with 1 Axes>"
      ]
     },
     "metadata": {},
     "output_type": "display_data"
    },
    {
     "data": {
      "text/plain": [
       "<ggplot: (8787240723837)>"
      ]
     },
     "execution_count": 18,
     "metadata": {},
     "output_type": "execute_result"
    }
   ],
   "source": [
    "ggplot(speech) + aes(x=\"political_party\") + geom_bar() "
   ]
  },
  {
   "cell_type": "markdown",
   "metadata": {
    "id": "MwbtKaEkgXRF"
   },
   "source": [
    "# **Training**\n",
    "\n",
    "* Splitting the data"
   ]
  },
  {
   "cell_type": "code",
   "execution_count": 19,
   "metadata": {
    "id": "x6zVpV9Ugbhi"
   },
   "outputs": [],
   "source": [
    "X , y = (speech['speech'].values,\n",
    "        speech['political_party'].values)\n",
    "X_train, X_test, y_train, y_test = train_test_split(X, y,\n",
    "                                                    test_size=0.30,\n",
    "                                                    random_state=42)"
   ]
  },
  {
   "cell_type": "markdown",
   "metadata": {
    "id": "uQV7GkKijDSE"
   },
   "source": [
    "* Lets start with a dummy classifier to measure our models accordingly."
   ]
  },
  {
   "cell_type": "code",
   "execution_count": 20,
   "metadata": {
    "colab": {
     "base_uri": "https://localhost:8080/"
    },
    "id": "5IZN6Qv3jHuu",
    "outputId": "9d91702e-b0ed-41f4-9f63-b57b52031539"
   },
   "outputs": [
    {
     "name": "stdout",
     "output_type": "stream",
     "text": [
      "                                                                                 precision    recall  f1-score   support\n",
      "\n",
      "                                           ανεξαρτητοι ελληνες - πανος καμμενος       1.00      0.00      0.00      4070\n",
      "                                                                          βουλη       1.00      0.00      0.00     13809\n",
      "                                                           δημοκρατικη ανανεωση       1.00      0.00      0.00         1\n",
      "δημοκρατικη συμπαραταξη (πανελληνιο σοσιαλιστικο κινημα - δημοκρατικη αριστερα)       1.00      0.00      0.00      6836\n",
      "                                                    κομμουνιστικο κομμα ελλαδας       1.00      0.00      0.00     15071\n",
      "                                                    λαικος ορθοδοξος συναγερμος       1.00      0.00      0.00      7072\n",
      "                                                   λαικος συνδεσος - χρυση αυγη       1.00      0.00      0.00      4340\n",
      "                                                                 νεα δημοκρατια       1.00      0.00      0.00     15118\n",
      "                                                 πανελληνιο σοσιαλιστικο κινημα       1.00      0.00      0.00     14977\n",
      "                                            συνασπισμος ριζοσπαστικης αριστερας       0.14      1.00      0.25     14948\n",
      "                     συνασπισμος της αριστερας των κινηματων και της οικολογιας       1.00      0.00      0.00     10681\n",
      "\n",
      "                                                                       accuracy                           0.14    106923\n",
      "                                                                      macro avg       0.92      0.09      0.02    106923\n",
      "                                                                   weighted avg       0.88      0.14      0.03    106923\n",
      "\n"
     ]
    }
   ],
   "source": [
    "from sklearn.dummy import DummyClassifier\n",
    "from sklearn import metrics\n",
    "\n",
    "dummy_classifier = DummyClassifier(strategy='most_frequent')\n",
    "dummy_classifier.fit(X_train, y_train)\n",
    "y_dummy_pred = dummy_classifier.predict(X_test)\n",
    "print(metrics.classification_report(y_test, y_dummy_pred, \n",
    "                                    zero_division=1))"
   ]
  },
  {
   "cell_type": "code",
   "execution_count": 21,
   "metadata": {
    "colab": {
     "base_uri": "https://localhost:8080/"
    },
    "id": "_cVZVGyyjHw_",
    "outputId": "08068557-a749-4846-cdde-f4d7c706e494"
   },
   "outputs": [
    {
     "data": {
      "text/plain": [
       "0.13980153942556794"
      ]
     },
     "execution_count": 21,
     "metadata": {},
     "output_type": "execute_result"
    }
   ],
   "source": [
    "metrics.accuracy_score(y_dummy_pred, y_test)"
   ]
  },
  {
   "cell_type": "markdown",
   "metadata": {
    "id": "Rns2LfOQgdE5"
   },
   "source": [
    "# **1. Naive Bayes** "
   ]
  },
  {
   "cell_type": "code",
   "execution_count": 22,
   "metadata": {
    "id": "WRbMAth9gi2A"
   },
   "outputs": [],
   "source": [
    "from sklearn.pipeline import Pipeline\n",
    "tf_vectorizer = Pipeline([ ('vect', CountVectorizer()),\n",
    "                     ('tfidf', TfidfTransformer()),\n",
    "                     ('clf', MultinomialNB()),\n",
    "                    ])"
   ]
  },
  {
   "cell_type": "markdown",
   "metadata": {
    "id": "s4NF7vhrgjo7"
   },
   "source": [
    "* Fitting the model"
   ]
  },
  {
   "cell_type": "code",
   "execution_count": 23,
   "metadata": {
    "colab": {
     "base_uri": "https://localhost:8080/"
    },
    "id": "qZEiDZ9bgmN6",
    "outputId": "26ec7177-6b03-434d-ff33-cda62d471231"
   },
   "outputs": [
    {
     "data": {
      "text/plain": [
       "Pipeline(steps=[('vect', CountVectorizer()), ('tfidf', TfidfTransformer()),\n",
       "                ('clf', MultinomialNB())])"
      ]
     },
     "execution_count": 23,
     "metadata": {},
     "output_type": "execute_result"
    }
   ],
   "source": [
    "tf_vectorizer.fit(X_train, y_train)"
   ]
  },
  {
   "cell_type": "markdown",
   "metadata": {
    "id": "hnYmJYo1gpRB"
   },
   "source": [
    "* **Predictions and classification report**"
   ]
  },
  {
   "cell_type": "code",
   "execution_count": 24,
   "metadata": {
    "colab": {
     "base_uri": "https://localhost:8080/"
    },
    "id": "EtAGc1dmgsnu",
    "outputId": "c02141eb-8b4b-4577-ca3c-896480d66ad8"
   },
   "outputs": [
    {
     "name": "stdout",
     "output_type": "stream",
     "text": [
      "Prediction accuracy: 42.54%\n"
     ]
    }
   ],
   "source": [
    "pred_test_std = tf_vectorizer.predict(X_test)\n",
    "\n",
    "print(f'Prediction accuracy: {metrics.accuracy_score(y_test, pred_test_std):.2%}')"
   ]
  },
  {
   "cell_type": "code",
   "execution_count": 25,
   "metadata": {
    "colab": {
     "base_uri": "https://localhost:8080/"
    },
    "id": "7tTmSR4Xgsp9",
    "outputId": "867d164c-e2ad-47a4-d7c3-823743dc8680"
   },
   "outputs": [
    {
     "name": "stdout",
     "output_type": "stream",
     "text": [
      "                                                                                 precision    recall  f1-score   support\n",
      "\n",
      "                                           ανεξαρτητοι ελληνες - πανος καμμενος       0.87      0.01      0.03      4070\n",
      "                                                                          βουλη       0.95      0.98      0.96     13809\n",
      "                                                           δημοκρατικη ανανεωση       1.00      0.00      0.00         1\n",
      "δημοκρατικη συμπαραταξη (πανελληνιο σοσιαλιστικο κινημα - δημοκρατικη αριστερα)       0.88      0.01      0.02      6836\n",
      "                                                    κομμουνιστικο κομμα ελλαδας       0.44      0.55      0.49     15071\n",
      "                                                    λαικος ορθοδοξος συναγερμος       0.61      0.03      0.05      7072\n",
      "                                                   λαικος συνδεσος - χρυση αυγη       1.00      0.00      0.00      4340\n",
      "                                                                 νεα δημοκρατια       0.28      0.38      0.32     15118\n",
      "                                                 πανελληνιο σοσιαλιστικο κινημα       0.31      0.56      0.40     14977\n",
      "                                            συνασπισμος ριζοσπαστικης αριστερας       0.33      0.50      0.40     14948\n",
      "                     συνασπισμος της αριστερας των κινηματων και της οικολογιας       0.63      0.16      0.26     10681\n",
      "\n",
      "                                                                       accuracy                           0.43    106923\n",
      "                                                                      macro avg       0.66      0.29      0.27    106923\n",
      "                                                                   weighted avg       0.55      0.43      0.38    106923\n",
      "\n"
     ]
    }
   ],
   "source": [
    "print(metrics.classification_report(y_test, pred_test_std, \n",
    "                                    zero_division=1))"
   ]
  },
  {
   "cell_type": "markdown",
   "metadata": {
    "id": "zXrFeIrQgwLt"
   },
   "source": [
    "* **Cross - validation**"
   ]
  },
  {
   "cell_type": "code",
   "execution_count": 26,
   "metadata": {
    "colab": {
     "base_uri": "https://localhost:8080/"
    },
    "id": "YwrTwd9GgwWI",
    "outputId": "c7385f69-2a8d-4efc-cd33-7aa84766976f"
   },
   "outputs": [
    {
     "data": {
      "text/plain": [
       "array([0.42695211, 0.42695211, 0.42489583, 0.42387172, 0.42648111])"
      ]
     },
     "execution_count": 26,
     "metadata": {},
     "output_type": "execute_result"
    }
   ],
   "source": [
    "from sklearn.model_selection import cross_val_score\n",
    "\n",
    "scores = cross_val_score(tf_vectorizer, X, y, cv=5, scoring='accuracy')\n",
    "scores"
   ]
  },
  {
   "cell_type": "code",
   "execution_count": 27,
   "metadata": {
    "colab": {
     "base_uri": "https://localhost:8080/"
    },
    "id": "wag22yjJgwat",
    "outputId": "af767639-afed-4220-8af5-e5c8fa1a46af"
   },
   "outputs": [
    {
     "name": "stdout",
     "output_type": "stream",
     "text": [
      "0.4258305750362329 0.0006184542933644026\n"
     ]
    }
   ],
   "source": [
    "from scipy.stats import sem\n",
    "\n",
    "print(np.mean(scores), sem(scores))"
   ]
  },
  {
   "cell_type": "markdown",
   "metadata": {
    "id": "d53yVuW4g0Qn"
   },
   "source": [
    "# **2. Stochastic Gradient Descent classifier**\n",
    "\n",
    "With this model i achieved the best results."
   ]
  },
  {
   "cell_type": "code",
   "execution_count": 28,
   "metadata": {
    "colab": {
     "base_uri": "https://localhost:8080/"
    },
    "id": "MzovoVaPg7u9",
    "outputId": "681d3f6f-1de7-4d60-ca3b-de8d54703ba5"
   },
   "outputs": [
    {
     "data": {
      "text/plain": [
       "Pipeline(steps=[('vect', CountVectorizer(ngram_range=(1, 2))),\n",
       "                ('tfidf', TfidfTransformer()),\n",
       "                ('clf', SGDClassifier(alpha=0.001, random_state=42))])"
      ]
     },
     "execution_count": 28,
     "metadata": {},
     "output_type": "execute_result"
    }
   ],
   "source": [
    "from sklearn.pipeline import Pipeline\n",
    "\n",
    "from sklearn.feature_extraction.text import HashingVectorizer\n",
    "\n",
    "sgd = Pipeline([('vect', CountVectorizer(ngram_range = (1,2))),\n",
    "                     ('tfidf', TfidfTransformer(use_idf = True)),\n",
    "                     ('clf', SGDClassifier(alpha=0.001,\n",
    "                                           random_state=42))\n",
    "                    ])\n",
    "sgd.fit(X_train, y_train)"
   ]
  },
  {
   "cell_type": "markdown",
   "metadata": {
    "id": "nQKj8TJgg8SX"
   },
   "source": [
    "* **Cross - validation**"
   ]
  },
  {
   "cell_type": "code",
   "execution_count": 29,
   "metadata": {
    "colab": {
     "base_uri": "https://localhost:8080/",
     "height": 354
    },
    "id": "BXgoI9a5g8hs",
    "outputId": "5635e20c-85ee-403d-996d-55a712246ad1"
   },
   "outputs": [
    {
     "data": {
      "text/plain": [
       "array([0.50503633, 0.50670576, 0.50152214, 0.50333188, 0.49957212])"
      ]
     },
     "execution_count": 29,
     "metadata": {},
     "output_type": "execute_result"
    }
   ],
   "source": [
    "from sklearn.model_selection import cross_val_score\n",
    "\n",
    "scores = cross_val_score(sgd, X, y, cv=5, scoring='accuracy')\n",
    "scores"
   ]
  },
  {
   "cell_type": "code",
   "execution_count": 30,
   "metadata": {
    "id": "BQ0rxjJ_g8zz"
   },
   "outputs": [
    {
     "name": "stdout",
     "output_type": "stream",
     "text": [
      "0.503233647838569 0.001257993488912213\n"
     ]
    }
   ],
   "source": [
    "from scipy.stats import sem\n",
    "\n",
    "print(np.mean(scores), sem(scores))"
   ]
  },
  {
   "cell_type": "markdown",
   "metadata": {
    "id": "aOAVFUCuhCJO"
   },
   "source": [
    "## **Grid search for SGD classifier , results : {'clf__alpha': 0.001, 'tfidf__use_idf': True, 'vect__ngram_range': (1, 2)}**\n",
    "\n",
    "* The code is commented out in order to not break the flow of the notebook."
   ]
  },
  {
   "cell_type": "code",
   "execution_count": 31,
   "metadata": {
    "id": "Wgz7oPq3hCVw"
   },
   "outputs": [],
   "source": [
    "#from sklearn.model_selection import GridSearchCV\n",
    "#parameters = {'vect__ngram_range': [(1, 1), (1, 2)],\n",
    "             # 'tfidf__use_idf': (True, False),\n",
    "             # 'clf__alpha': (1e-2, 1e-3)\n",
    "          #   }"
   ]
  },
  {
   "cell_type": "code",
   "execution_count": 32,
   "metadata": {
    "id": "-XbMgV2KhCa9"
   },
   "outputs": [],
   "source": [
    "#gs_clf = GridSearchCV(sgd, parameters, n_jobs=-1, cv=5)"
   ]
  },
  {
   "cell_type": "code",
   "execution_count": 33,
   "metadata": {
    "id": "xUzl7CBshCiH"
   },
   "outputs": [],
   "source": [
    "#gs_clf = gs_clf.fit(X_train, y_train)"
   ]
  },
  {
   "cell_type": "code",
   "execution_count": 34,
   "metadata": {
    "id": "LEaSTCjqhGWn"
   },
   "outputs": [],
   "source": [
    "#gs_clf.best_estimator_"
   ]
  },
  {
   "cell_type": "markdown",
   "metadata": {
    "id": "AVTeG79JhHcF"
   },
   "source": [
    "* **Predictions and classification report**"
   ]
  },
  {
   "cell_type": "code",
   "execution_count": 35,
   "metadata": {
    "id": "yn9pUn7xhKpU"
   },
   "outputs": [
    {
     "name": "stdout",
     "output_type": "stream",
     "text": [
      "Prediction accuracy: 50.43%\n"
     ]
    }
   ],
   "source": [
    "ss = sgd.predict(X_test)\n",
    "\n",
    "print(f'Prediction accuracy: {metrics.accuracy_score(y_test, ss):.2%}')"
   ]
  },
  {
   "cell_type": "code",
   "execution_count": 36,
   "metadata": {
    "id": "auw0wjvVhKzT"
   },
   "outputs": [
    {
     "name": "stdout",
     "output_type": "stream",
     "text": [
      "                                                                                 precision    recall  f1-score   support\n",
      "\n",
      "                                           ανεξαρτητοι ελληνες - πανος καμμενος       0.41      0.34      0.37      4070\n",
      "                                                                          βουλη       0.89      0.98      0.93     13809\n",
      "                                                           δημοκρατικη ανανεωση       1.00      0.00      0.00         1\n",
      "δημοκρατικη συμπαραταξη (πανελληνιο σοσιαλιστικο κινημα - δημοκρατικη αριστερα)       0.45      0.38      0.42      6836\n",
      "                                                    κομμουνιστικο κομμα ελλαδας       0.44      0.58      0.50     15071\n",
      "                                                    λαικος ορθοδοξος συναγερμος       0.47      0.44      0.45      7072\n",
      "                                                   λαικος συνδεσος - χρυση αυγη       0.45      0.56      0.50      4340\n",
      "                                                                 νεα δημοκρατια       0.40      0.31      0.35     15118\n",
      "                                                 πανελληνιο σοσιαλιστικο κινημα       0.43      0.38      0.40     14977\n",
      "                                            συνασπισμος ριζοσπαστικης αριστερας       0.46      0.40      0.42     14948\n",
      "                     συνασπισμος της αριστερας των κινηματων και της οικολογιας       0.45      0.54      0.49     10681\n",
      "\n",
      "                                                                       accuracy                           0.50    106923\n",
      "                                                                      macro avg       0.53      0.45      0.44    106923\n",
      "                                                                   weighted avg       0.50      0.50      0.50    106923\n",
      "\n"
     ]
    }
   ],
   "source": [
    "print(metrics.classification_report(y_test, ss, \n",
    "                                    zero_division=1))"
   ]
  },
  {
   "cell_type": "markdown",
   "metadata": {
    "id": "apry3m3KhOJn"
   },
   "source": [
    "# **3. Stochastic Gradient Descent with Hashing**"
   ]
  },
  {
   "cell_type": "code",
   "execution_count": 37,
   "metadata": {
    "id": "sBcI5UxlhOy8"
   },
   "outputs": [
    {
     "data": {
      "text/plain": [
       "Pipeline(steps=[('vect', HashingVectorizer()), ('tfidf', TfidfTransformer()),\n",
       "                ('clf', SGDClassifier(alpha=0.001, random_state=42))])"
      ]
     },
     "execution_count": 37,
     "metadata": {},
     "output_type": "execute_result"
    }
   ],
   "source": [
    "hashingmodel = Pipeline([('vect', HashingVectorizer()),\n",
    "                     ('tfidf', TfidfTransformer(use_idf = True)),\n",
    "                     ('clf', SGDClassifier(\n",
    "                                           alpha=0.001,\n",
    "                                           random_state=42))\n",
    "                    ])\n",
    "hashingmodel.fit(X_train, y_train)"
   ]
  },
  {
   "cell_type": "markdown",
   "metadata": {
    "id": "ilKMXxl-hO6t"
   },
   "source": [
    "* **Predictions and classification report**"
   ]
  },
  {
   "cell_type": "code",
   "execution_count": 38,
   "metadata": {
    "id": "jW3UcrshhPG2"
   },
   "outputs": [
    {
     "name": "stdout",
     "output_type": "stream",
     "text": [
      "Prediction accuracy: 47.76%\n"
     ]
    }
   ],
   "source": [
    "hashh = hashingmodel.predict(X_test)\n",
    "\n",
    "print(f'Prediction accuracy: {metrics.accuracy_score(y_test, hashh):.2%}')"
   ]
  },
  {
   "cell_type": "code",
   "execution_count": 39,
   "metadata": {
    "id": "mq-xmPuBha3y"
   },
   "outputs": [
    {
     "name": "stdout",
     "output_type": "stream",
     "text": [
      "                                                                                 precision    recall  f1-score   support\n",
      "\n",
      "                                           ανεξαρτητοι ελληνες - πανος καμμενος       0.42      0.33      0.37      4070\n",
      "                                                                          βουλη       0.85      0.98      0.91     13809\n",
      "                                                           δημοκρατικη ανανεωση       1.00      0.00      0.00         1\n",
      "δημοκρατικη συμπαραταξη (πανελληνιο σοσιαλιστικο κινημα - δημοκρατικη αριστερα)       0.41      0.35      0.38      6836\n",
      "                                                    κομμουνιστικο κομμα ελλαδας       0.42      0.56      0.48     15071\n",
      "                                                    λαικος ορθοδοξος συναγερμος       0.41      0.42      0.41      7072\n",
      "                                                   λαικος συνδεσος - χρυση αυγη       0.45      0.55      0.49      4340\n",
      "                                                                 νεα δημοκρατια       0.37      0.29      0.32     15118\n",
      "                                                 πανελληνιο σοσιαλιστικο κινημα       0.40      0.35      0.37     14977\n",
      "                                            συνασπισμος ριζοσπαστικης αριστερας       0.41      0.35      0.37     14948\n",
      "                     συνασπισμος της αριστερας των κινηματων και της οικολογιας       0.45      0.49      0.47     10681\n",
      "\n",
      "                                                                       accuracy                           0.48    106923\n",
      "                                                                      macro avg       0.51      0.42      0.42    106923\n",
      "                                                                   weighted avg       0.47      0.48      0.47    106923\n",
      "\n"
     ]
    }
   ],
   "source": [
    "print(metrics.classification_report(y_test, hashh, \n",
    "                                    zero_division=1))"
   ]
  },
  {
   "cell_type": "markdown",
   "metadata": {
    "id": "oTrXtIHZhbQa"
   },
   "source": [
    "* **Cross - validation**"
   ]
  },
  {
   "cell_type": "code",
   "execution_count": 40,
   "metadata": {
    "id": "TKSAhfzehbZa"
   },
   "outputs": [
    {
     "data": {
      "text/plain": [
       "array([0.47703488, 0.48141186, 0.47340806, 0.46938174, 0.47720992])"
      ]
     },
     "execution_count": 40,
     "metadata": {},
     "output_type": "execute_result"
    }
   ],
   "source": [
    "from sklearn.model_selection import cross_val_score\n",
    "\n",
    "scores = cross_val_score(hashingmodel, X, y, cv=5, scoring='accuracy')\n",
    "scores"
   ]
  },
  {
   "cell_type": "code",
   "execution_count": 41,
   "metadata": {
    "id": "k_vIfeadhgBH"
   },
   "outputs": [
    {
     "name": "stdout",
     "output_type": "stream",
     "text": [
      "0.4756892904231627 0.0020231143844052814\n"
     ]
    }
   ],
   "source": [
    "from scipy.stats import sem\n",
    "\n",
    "print(np.mean(scores), sem(scores))"
   ]
  },
  {
   "cell_type": "markdown",
   "metadata": {
    "id": "dW1W3T1GhkoR"
   },
   "source": [
    "# **4. Ada Boost classifier with a decision tree classifier as a base estimator.**"
   ]
  },
  {
   "cell_type": "code",
   "execution_count": 42,
   "metadata": {
    "id": "2vLt9kMhhkzO"
   },
   "outputs": [
    {
     "data": {
      "text/plain": [
       "Pipeline(steps=[('vect', CountVectorizer()), ('tfidf', TfidfTransformer()),\n",
       "                ('clf',\n",
       "                 AdaBoostClassifier(base_estimator=DecisionTreeClassifier(class_weight='balanced',\n",
       "                                                                          max_features='auto',\n",
       "                                                                          random_state=11)))])"
      ]
     },
     "execution_count": 42,
     "metadata": {},
     "output_type": "execute_result"
    }
   ],
   "source": [
    "from sklearn.pipeline import Pipeline\n",
    "\n",
    "from sklearn.tree import DecisionTreeClassifier\n",
    "from sklearn.ensemble import AdaBoostClassifier\n",
    "DTC = DecisionTreeClassifier(random_state = 11, max_features = \"auto\", class_weight = \"balanced\",max_depth = None)\n",
    "\n",
    "dec = Pipeline([\n",
    "        ('vect', CountVectorizer()),\n",
    "                     ('tfidf', TfidfTransformer()),\n",
    "                     ('clf', AdaBoostClassifier(base_estimator = DTC))\n",
    "    ])\n",
    "dec.fit(X_train, y_train)"
   ]
  },
  {
   "cell_type": "markdown",
   "metadata": {
    "id": "B3O137AVhwEX"
   },
   "source": [
    "* **Predictions and classification report**"
   ]
  },
  {
   "cell_type": "code",
   "execution_count": 43,
   "metadata": {
    "id": "4hNs4Alkhwvv"
   },
   "outputs": [
    {
     "name": "stdout",
     "output_type": "stream",
     "text": [
      "Prediction accuracy: 36.02%\n"
     ]
    }
   ],
   "source": [
    "deci = dec.predict(X_test)\n",
    "\n",
    "print(f'Prediction accuracy: {metrics.accuracy_score(y_test, deci):.2%}')"
   ]
  },
  {
   "cell_type": "code",
   "execution_count": 44,
   "metadata": {
    "id": "eYSVr1HXhk18"
   },
   "outputs": [
    {
     "name": "stdout",
     "output_type": "stream",
     "text": [
      "                                                                                 precision    recall  f1-score   support\n",
      "\n",
      "                                           ανεξαρτητοι ελληνες - πανος καμμενος       0.21      0.20      0.21      4070\n",
      "                                                                          βουλη       0.95      0.98      0.96     13809\n",
      "                                                           δημοκρατικη ανανεωση       0.00      0.00      0.00         1\n",
      "δημοκρατικη συμπαραταξη (πανελληνιο σοσιαλιστικο κινημα - δημοκρατικη αριστερα)       0.27      0.25      0.26      6836\n",
      "                                                    κομμουνιστικο κομμα ελλαδας       0.35      0.37      0.36     15071\n",
      "                                                    λαικος ορθοδοξος συναγερμος       0.20      0.15      0.17      7072\n",
      "                                                   λαικος συνδεσος - χρυση αυγη       0.26      0.38      0.31      4340\n",
      "                                                                 νεα δημοκρατια       0.24      0.23      0.23     15118\n",
      "                                                 πανελληνιο σοσιαλιστικο κινημα       0.26      0.27      0.27     14977\n",
      "                                            συνασπισμος ριζοσπαστικης αριστερας       0.25      0.23      0.24     14948\n",
      "                     συνασπισμος της αριστερας των κινηματων και της οικολογιας       0.29      0.29      0.29     10681\n",
      "\n",
      "                                                                       accuracy                           0.36    106923\n",
      "                                                                      macro avg       0.30      0.31      0.30    106923\n",
      "                                                                   weighted avg       0.35      0.36      0.36    106923\n",
      "\n"
     ]
    }
   ],
   "source": [
    "print(metrics.classification_report(y_test, deci, \n",
    "                                    zero_division=1))"
   ]
  },
  {
   "cell_type": "markdown",
   "metadata": {
    "id": "H4inKTFCiAfa"
   },
   "source": [
    "# **5. Linear regression**\n",
    "\n",
    "* We are going to try a different approach. Shuffling 5000 rows for each class. "
   ]
  },
  {
   "cell_type": "code",
   "execution_count": 49,
   "metadata": {
    "id": "kOdXmWpjiU_5"
   },
   "outputs": [
    {
     "data": {
      "image/png": "[encoded data removed]",
      "text/plain": [
       "<Figure size 640x480 with 1 Axes>"
      ]
     },
     "metadata": {},
     "output_type": "display_data"
    },
    {
     "data": {
      "text/plain": [
       "<ggplot: (8787072470457)>"
      ]
     },
     "execution_count": 49,
     "metadata": {},
     "output_type": "execute_result"
    }
   ],
   "source": [
    "ggplot(speech) + aes(x=\"political_party\") + geom_bar() "
   ]
  },
  {
   "cell_type": "code",
   "execution_count": 57,
   "metadata": {
    "id": "3lW632zJiVh-"
   },
   "outputs": [
    {
     "data": {
      "text/html": [
       "<div>\n",
       "<style scoped>\n",
       "    .dataframe tbody tr th:only-of-type {\n",
       "        vertical-align: middle;\n",
       "    }\n",
       "\n",
       "    .dataframe tbody tr th {\n",
       "        vertical-align: top;\n",
       "    }\n",
       "\n",
       "    .dataframe thead th {\n",
       "        text-align: right;\n",
       "    }\n",
       "</style>\n",
       "<table border=\"1\" class=\"dataframe\">\n",
       "  <thead>\n",
       "    <tr style=\"text-align: right;\">\n",
       "      <th></th>\n",
       "      <th>political_party</th>\n",
       "      <th>speech</th>\n",
       "      <th>year</th>\n",
       "    </tr>\n",
       "  </thead>\n",
       "  <tbody>\n",
       "    <tr>\n",
       "      <th>960835</th>\n",
       "      <td>ανεξαρτητοι ελληνες - πανος καμμενος</td>\n",
       "      <td>έχουμε δύο προτασσόμενους ομιλητές, οποίοι καν...</td>\n",
       "      <td>2014</td>\n",
       "    </tr>\n",
       "    <tr>\n",
       "      <th>870194</th>\n",
       "      <td>ανεξαρτητοι ελληνες - πανος καμμενος</td>\n",
       "      <td>φαντάζεστε, κύριε υπουργέ, μέσα νοέμβριο έχουμ...</td>\n",
       "      <td>2012</td>\n",
       "    </tr>\n",
       "    <tr>\n",
       "      <th>873653</th>\n",
       "      <td>ανεξαρτητοι ελληνες - πανος καμμενος</td>\n",
       "      <td>πλειοψηφία.</td>\n",
       "      <td>2012</td>\n",
       "    </tr>\n",
       "    <tr>\n",
       "      <th>889065</th>\n",
       "      <td>ανεξαρτητοι ελληνες - πανος καμμενος</td>\n",
       "      <td>ευχαριστούμε, κύριε αντιπρόεδρε.το λόγο έχει υ...</td>\n",
       "      <td>2013</td>\n",
       "    </tr>\n",
       "    <tr>\n",
       "      <th>976595</th>\n",
       "      <td>ανεξαρτητοι ελληνες - πανος καμμενος</td>\n",
       "      <td>παρών.</td>\n",
       "      <td>2014</td>\n",
       "    </tr>\n",
       "    <tr>\n",
       "      <th>...</th>\n",
       "      <td>...</td>\n",
       "      <td>...</td>\n",
       "      <td>...</td>\n",
       "    </tr>\n",
       "    <tr>\n",
       "      <th>783912</th>\n",
       "      <td>συνασπισμος ριζοσπαστικης αριστερας</td>\n",
       "      <td>αναρωτηθώ γιατί; έχει έχει;</td>\n",
       "      <td>2011</td>\n",
       "    </tr>\n",
       "    <tr>\n",
       "      <th>818969</th>\n",
       "      <td>συνασπισμος ριζοσπαστικης αριστερας</td>\n",
       "      <td>ευχαριστούμε κ. βασιλική αλεξανδρίδου συνέπεια...</td>\n",
       "      <td>2011</td>\n",
       "    </tr>\n",
       "    <tr>\n",
       "      <th>1045568</th>\n",
       "      <td>συνασπισμος ριζοσπαστικης αριστερας</td>\n",
       "      <td>κύριε πρόεδρε, έχουμε κάποια προστασία; συνεχι...</td>\n",
       "      <td>2016</td>\n",
       "    </tr>\n",
       "    <tr>\n",
       "      <th>998488</th>\n",
       "      <td>συνασπισμος ριζοσπαστικης αριστερας</td>\n",
       "      <td>ευχαριστούμε. λόγο έχει κ. κεγκέρογλου τρία λε...</td>\n",
       "      <td>2015</td>\n",
       "    </tr>\n",
       "    <tr>\n",
       "      <th>916050</th>\n",
       "      <td>συνασπισμος ριζοσπαστικης αριστερας</td>\n",
       "      <td>πλειοψηφία.</td>\n",
       "      <td>2013</td>\n",
       "    </tr>\n",
       "  </tbody>\n",
       "</table>\n",
       "<p>50000 rows × 3 columns</p>\n",
       "</div>"
      ],
      "text/plain": [
       "                              political_party  \\\n",
       "960835   ανεξαρτητοι ελληνες - πανος καμμενος   \n",
       "870194   ανεξαρτητοι ελληνες - πανος καμμενος   \n",
       "873653   ανεξαρτητοι ελληνες - πανος καμμενος   \n",
       "889065   ανεξαρτητοι ελληνες - πανος καμμενος   \n",
       "976595   ανεξαρτητοι ελληνες - πανος καμμενος   \n",
       "...                                       ...   \n",
       "783912    συνασπισμος ριζοσπαστικης αριστερας   \n",
       "818969    συνασπισμος ριζοσπαστικης αριστερας   \n",
       "1045568   συνασπισμος ριζοσπαστικης αριστερας   \n",
       "998488    συνασπισμος ριζοσπαστικης αριστερας   \n",
       "916050    συνασπισμος ριζοσπαστικης αριστερας   \n",
       "\n",
       "                                                    speech  year  \n",
       "960835   έχουμε δύο προτασσόμενους ομιλητές, οποίοι καν...  2014  \n",
       "870194   φαντάζεστε, κύριε υπουργέ, μέσα νοέμβριο έχουμ...  2012  \n",
       "873653                                         πλειοψηφία.  2012  \n",
       "889065   ευχαριστούμε, κύριε αντιπρόεδρε.το λόγο έχει υ...  2013  \n",
       "976595                                              παρών.  2014  \n",
       "...                                                    ...   ...  \n",
       "783912                         αναρωτηθώ γιατί; έχει έχει;  2011  \n",
       "818969   ευχαριστούμε κ. βασιλική αλεξανδρίδου συνέπεια...  2011  \n",
       "1045568  κύριε πρόεδρε, έχουμε κάποια προστασία; συνεχι...  2016  \n",
       "998488   ευχαριστούμε. λόγο έχει κ. κεγκέρογλου τρία λε...  2015  \n",
       "916050                                         πλειοψηφία.  2013  \n",
       "\n",
       "[50000 rows x 3 columns]"
      ]
     },
     "execution_count": 57,
     "metadata": {},
     "output_type": "execute_result"
    }
   ],
   "source": [
    "shuffled_df = speech.sample(frac=1,random_state=4)\n",
    "\n",
    "# Put all the fraud class in a separate dataset.\n",
    "\n",
    "#Randomly select 492 observations from the non-fraud (majority class)\n",
    "df5 = shuffled_df.loc[shuffled_df['political_party'] == 'ανεξαρτητοι ελληνες - πανος καμμενος'].sample(n=5000,random_state=42)\n",
    "df6 = shuffled_df.loc[shuffled_df['political_party'] == 'λαικος συνδεσος - χρυση αυγη'].sample(n=5000,random_state=42)\n",
    "df7 = shuffled_df.loc[shuffled_df['political_party'] == 'δημοκρατικη συμπαραταξη (πανελληνιο σοσιαλιστικο κινημα - δημοκρατικη αριστερα)'].sample(n=5000,random_state=42)\n",
    "df8 = shuffled_df.loc[shuffled_df['political_party'] == 'λαικος ορθοδοξος συναγερμος'].sample(n=5000,random_state=42)\n",
    "df9 = shuffled_df.loc[shuffled_df['political_party'] == 'συνασπισμος της αριστερας των κινηματων και της οικολογιας'].sample(n=5000,random_state=42)\n",
    "df10 = shuffled_df.loc[shuffled_df['political_party'] == 'βουλη'].sample(n=5000,random_state=42)\n",
    "df11 = shuffled_df.loc[shuffled_df['political_party'] == 'κομμουνιστικο κομμα ελλαδας'].sample(n=5000,random_state=42)\n",
    "df12 = shuffled_df.loc[shuffled_df['political_party'] == 'νεα δημοκρατια'].sample(n=5000,random_state=42)\n",
    "df13 = shuffled_df.loc[shuffled_df['political_party'] == 'πανελληνιο σοσιαλιστικο κινημα'].sample(n=5000,random_state=42)\n",
    "df14 = shuffled_df.loc[shuffled_df['political_party'] == 'συνασπισμος ριζοσπαστικης αριστερας'].sample(n=5000,random_state=42)\n",
    "\n",
    "# Concatenate both dataframes again\n",
    "normalized_df = pd.concat([df5,df6,df7,df8,df9,df10,df11,df12,df13,df14])\n",
    "\n",
    "\n",
    "normalized_df"
   ]
  },
  {
   "cell_type": "code",
   "execution_count": 60,
   "metadata": {
    "id": "ky8XxXYBiVpG"
   },
   "outputs": [
    {
     "data": {
      "image/png": "[encoded data removed]",
      "text/plain": [
       "<Figure size 640x480 with 1 Axes>"
      ]
     },
     "metadata": {},
     "output_type": "display_data"
    },
    {
     "data": {
      "text/plain": [
       "<ggplot: (8787046430193)>"
      ]
     },
     "execution_count": 60,
     "metadata": {},
     "output_type": "execute_result"
    }
   ],
   "source": [
    "speech = normalized_df\n",
    "ggplot(speech) + aes(x=\"political_party\") + geom_bar() "
   ]
  },
  {
   "cell_type": "code",
   "execution_count": 61,
   "metadata": {
    "id": "Kw7bm6VUiY0e"
   },
   "outputs": [
    {
     "data": {
      "text/html": [
       "<div>\n",
       "<style scoped>\n",
       "    .dataframe tbody tr th:only-of-type {\n",
       "        vertical-align: middle;\n",
       "    }\n",
       "\n",
       "    .dataframe tbody tr th {\n",
       "        vertical-align: top;\n",
       "    }\n",
       "\n",
       "    .dataframe thead th {\n",
       "        text-align: right;\n",
       "    }\n",
       "</style>\n",
       "<table border=\"1\" class=\"dataframe\">\n",
       "  <thead>\n",
       "    <tr style=\"text-align: right;\">\n",
       "      <th></th>\n",
       "      <th>speech</th>\n",
       "      <th>year</th>\n",
       "    </tr>\n",
       "    <tr>\n",
       "      <th>political_party</th>\n",
       "      <th></th>\n",
       "      <th></th>\n",
       "    </tr>\n",
       "  </thead>\n",
       "  <tbody>\n",
       "    <tr>\n",
       "      <th>ανεξαρτητοι ελληνες - πανος καμμενος</th>\n",
       "      <td>5000</td>\n",
       "      <td>5000</td>\n",
       "    </tr>\n",
       "    <tr>\n",
       "      <th>βουλη</th>\n",
       "      <td>5000</td>\n",
       "      <td>5000</td>\n",
       "    </tr>\n",
       "    <tr>\n",
       "      <th>δημοκρατικη συμπαραταξη (πανελληνιο σοσιαλιστικο κινημα - δημοκρατικη αριστερα)</th>\n",
       "      <td>5000</td>\n",
       "      <td>5000</td>\n",
       "    </tr>\n",
       "    <tr>\n",
       "      <th>κομμουνιστικο κομμα ελλαδας</th>\n",
       "      <td>5000</td>\n",
       "      <td>5000</td>\n",
       "    </tr>\n",
       "    <tr>\n",
       "      <th>λαικος ορθοδοξος συναγερμος</th>\n",
       "      <td>5000</td>\n",
       "      <td>5000</td>\n",
       "    </tr>\n",
       "    <tr>\n",
       "      <th>λαικος συνδεσος - χρυση αυγη</th>\n",
       "      <td>5000</td>\n",
       "      <td>5000</td>\n",
       "    </tr>\n",
       "    <tr>\n",
       "      <th>νεα δημοκρατια</th>\n",
       "      <td>5000</td>\n",
       "      <td>5000</td>\n",
       "    </tr>\n",
       "    <tr>\n",
       "      <th>πανελληνιο σοσιαλιστικο κινημα</th>\n",
       "      <td>5000</td>\n",
       "      <td>5000</td>\n",
       "    </tr>\n",
       "    <tr>\n",
       "      <th>συνασπισμος ριζοσπαστικης αριστερας</th>\n",
       "      <td>5000</td>\n",
       "      <td>5000</td>\n",
       "    </tr>\n",
       "    <tr>\n",
       "      <th>συνασπισμος της αριστερας των κινηματων και της οικολογιας</th>\n",
       "      <td>5000</td>\n",
       "      <td>5000</td>\n",
       "    </tr>\n",
       "  </tbody>\n",
       "</table>\n",
       "</div>"
      ],
      "text/plain": [
       "                                                    speech  year\n",
       "political_party                                                 \n",
       "ανεξαρτητοι ελληνες - πανος καμμενος                  5000  5000\n",
       "βουλη                                                 5000  5000\n",
       "δημοκρατικη συμπαραταξη (πανελληνιο σοσιαλιστικ...    5000  5000\n",
       "κομμουνιστικο κομμα ελλαδας                           5000  5000\n",
       "λαικος ορθοδοξος συναγερμος                           5000  5000\n",
       "λαικος συνδεσος - χρυση αυγη                          5000  5000\n",
       "νεα δημοκρατια                                        5000  5000\n",
       "πανελληνιο σοσιαλιστικο κινημα                        5000  5000\n",
       "συνασπισμος ριζοσπαστικης αριστερας                   5000  5000\n",
       "συνασπισμος της αριστερας των κινηματων και της...    5000  5000"
      ]
     },
     "execution_count": 61,
     "metadata": {},
     "output_type": "execute_result"
    }
   ],
   "source": [
    "speech.groupby(['political_party']).count().sort_values('speech')"
   ]
  },
  {
   "cell_type": "code",
   "execution_count": 62,
   "metadata": {
    "id": "AV5dHgmjiY3P"
   },
   "outputs": [],
   "source": [
    "speech = speech[speech.political_party != \"πολιτικη ανοιξη\"]\n",
    "speech = speech[speech.political_party != \"δημοκρατικη αριστερα\"]"
   ]
  },
  {
   "cell_type": "code",
   "execution_count": 63,
   "metadata": {
    "id": "Lg8K4jIYiY6i"
   },
   "outputs": [],
   "source": [
    "X , y = (speech['speech'].values,\n",
    "        speech['political_party'].values)\n",
    "X_train, X_test, y_train, y_test = train_test_split(X, y,\n",
    "                                                    test_size=0.30,\n",
    "                                                    random_state=42)"
   ]
  },
  {
   "cell_type": "code",
   "execution_count": 64,
   "metadata": {
    "id": "2GG_6nOUiVuw"
   },
   "outputs": [
    {
     "data": {
      "text/plain": [
       "Pipeline(steps=[('vect', CountVectorizer()), ('tfidf', TfidfTransformer()),\n",
       "                ('clf',\n",
       "                 LogisticRegression(C=4.281332398719396, solver='liblinear'))])"
      ]
     },
     "execution_count": 64,
     "metadata": {},
     "output_type": "execute_result"
    }
   ],
   "source": [
    "from sklearn.linear_model import LogisticRegression\n",
    "from sklearn.pipeline import Pipeline\n",
    "\n",
    "from sklearn.feature_extraction.text import HashingVectorizer\n",
    "\n",
    "linear = Pipeline([('vect', CountVectorizer()),\n",
    "                     ('tfidf', TfidfTransformer()),\n",
    "                     ('clf', LogisticRegression(C = 4.281332398719396,penalty = 'l2', solver = 'liblinear'))\n",
    "                    ])\n",
    "linear.fit(X_train, y_train)"
   ]
  },
  {
   "cell_type": "markdown",
   "metadata": {
    "id": "PBQ8MH4sig3W"
   },
   "source": [
    "* **Predictions and classification report**"
   ]
  },
  {
   "cell_type": "code",
   "execution_count": 65,
   "metadata": {
    "id": "OYFxwhPFihhk"
   },
   "outputs": [
    {
     "name": "stdout",
     "output_type": "stream",
     "text": [
      "Prediction accuracy: 46.39%\n"
     ]
    }
   ],
   "source": [
    "lin = linear.predict(X_test)\n",
    "\n",
    "\n",
    "print(f'Prediction accuracy: {metrics.accuracy_score(y_test, lin):.2%}')"
   ]
  },
  {
   "cell_type": "code",
   "execution_count": 66,
   "metadata": {
    "id": "4RBOJXefipeH"
   },
   "outputs": [
    {
     "name": "stdout",
     "output_type": "stream",
     "text": [
      "                                                                                 precision    recall  f1-score   support\n",
      "\n",
      "                                           ανεξαρτητοι ελληνες - πανος καμμενος       0.50      0.48      0.49      1535\n",
      "                                                                          βουλη       0.92      0.98      0.95      1492\n",
      "δημοκρατικη συμπαραταξη (πανελληνιο σοσιαλιστικο κινημα - δημοκρατικη αριστερα)       0.46      0.43      0.44      1483\n",
      "                                                    κομμουνιστικο κομμα ελλαδας       0.38      0.44      0.40      1545\n",
      "                                                    λαικος ορθοδοξος συναγερμος       0.45      0.41      0.43      1498\n",
      "                                                   λαικος συνδεσος - χρυση αυγη       0.56      0.57      0.56      1529\n",
      "                                                                 νεα δημοκρατια       0.25      0.22      0.24      1466\n",
      "                                                 πανελληνιο σοσιαλιστικο κινημα       0.30      0.31      0.30      1479\n",
      "                                            συνασπισμος ριζοσπαστικης αριστερας       0.31      0.26      0.28      1492\n",
      "                     συνασπισμος της αριστερας των κινηματων και της οικολογιας       0.45      0.55      0.49      1481\n",
      "\n",
      "                                                                       accuracy                           0.46     15000\n",
      "                                                                      macro avg       0.46      0.46      0.46     15000\n",
      "                                                                   weighted avg       0.46      0.46      0.46     15000\n",
      "\n"
     ]
    }
   ],
   "source": [
    "print(metrics.classification_report(y_test, lin, \n",
    "                                    zero_division=1))"
   ]
  },
  {
   "cell_type": "markdown",
   "metadata": {
    "id": "CD5fQTK8imTm"
   },
   "source": [
    "* **Cross - validation**"
   ]
  },
  {
   "cell_type": "code",
   "execution_count": 67,
   "metadata": {
    "id": "YwstYaRdih-1"
   },
   "outputs": [
    {
     "data": {
      "text/plain": [
       "array([0.464 , 0.4608, 0.4634, 0.4617, 0.4643])"
      ]
     },
     "execution_count": 67,
     "metadata": {},
     "output_type": "execute_result"
    }
   ],
   "source": [
    "from sklearn.model_selection import cross_val_score\n",
    "\n",
    "scores = cross_val_score(linear, X, y, cv=5, scoring='accuracy')\n",
    "scores"
   ]
  },
  {
   "cell_type": "code",
   "execution_count": 68,
   "metadata": {
    "id": "ioGQveUwiiBM"
   },
   "outputs": [
    {
     "name": "stdout",
     "output_type": "stream",
     "text": [
      "0.46284000000000003 0.00068014704292528\n"
     ]
    }
   ],
   "source": [
    "from scipy.stats import sem\n",
    "\n",
    "print(np.mean(scores), sem(scores))"
   ]
  },
  {
   "cell_type": "markdown",
   "metadata": {
    "id": "4yFBnX7v0ccv"
   },
   "source": [
    "* **GridSearch**"
   ]
  },
  {
   "cell_type": "code",
   "execution_count": null,
   "metadata": {
    "id": "d8VtFe5ti3YA"
   },
   "outputs": [],
   "source": [
    "#from sklearn.model_selection import GridSearchCV\n",
    "#param_range = [9, 10]\n",
    "#param_range_fl = [1.0, 0.5]\n",
    "#param_grid = [\n",
    "    #{\n",
    "     #'clf__penalty': ['l1', 'l2'],\n",
    "    #'clf__C' : np.logspace(-4, 4, 20),\n",
    "    #'clf__solver' : ['liblinear']},\n",
    "    \n",
    "#]"
   ]
  },
  {
   "cell_type": "markdown",
   "metadata": {
    "id": "Tah8otsoi5B3"
   },
   "source": [
    "## **Grid search results : {'clf__C': 4.281332398719396, 'clf__penalty': 'l2', 'clf__solver': 'liblinear'}**\n"
   ]
  },
  {
   "cell_type": "code",
   "execution_count": null,
   "metadata": {
    "id": "FeG9wCVRi5pM"
   },
   "outputs": [],
   "source": [
    "#clf = GridSearchCV(linear, param_grid = param_grid, n_jobs=-1)\n",
    "#clf.fit(X_train, y_train)\n",
    "#clf.best_params_"
   ]
  },
  {
   "cell_type": "markdown",
   "metadata": {
    "id": "F-gcxPmujPgM"
   },
   "source": [
    "# **Classification with a Neural Network**\n",
    "\n",
    "* The code below is used to enable the tpu of google colab."
   ]
  },
  {
   "cell_type": "code",
   "execution_count": 29,
   "metadata": {
    "colab": {
     "base_uri": "https://localhost:8080/"
    },
    "id": "hwqFpsJ1Hr1f",
    "outputId": "6ce38a9c-a438-4f2b-a28a-048fb4e9265c"
   },
   "outputs": [
    {
     "name": "stdout",
     "output_type": "stream",
     "text": [
      "Tensorflow version 2.4.1\n",
      "Running on TPU  ['10.108.235.130:8470']\n",
      "INFO:tensorflow:Initializing the TPU system: grpc://10.108.235.130:8470\n"
     ]
    },
    {
     "name": "stderr",
     "output_type": "stream",
     "text": [
      "INFO:tensorflow:Initializing the TPU system: grpc://10.108.235.130:8470\n"
     ]
    },
    {
     "name": "stdout",
     "output_type": "stream",
     "text": [
      "INFO:tensorflow:Clearing out eager caches\n"
     ]
    },
    {
     "name": "stderr",
     "output_type": "stream",
     "text": [
      "INFO:tensorflow:Clearing out eager caches\n"
     ]
    },
    {
     "name": "stdout",
     "output_type": "stream",
     "text": [
      "INFO:tensorflow:Finished initializing TPU system.\n"
     ]
    },
    {
     "name": "stderr",
     "output_type": "stream",
     "text": [
      "INFO:tensorflow:Finished initializing TPU system.\n",
      "WARNING:absl:`tf.distribute.experimental.TPUStrategy` is deprecated, please use  the non experimental symbol `tf.distribute.TPUStrategy` instead.\n"
     ]
    },
    {
     "name": "stdout",
     "output_type": "stream",
     "text": [
      "INFO:tensorflow:Found TPU system:\n"
     ]
    },
    {
     "name": "stderr",
     "output_type": "stream",
     "text": [
      "INFO:tensorflow:Found TPU system:\n"
     ]
    },
    {
     "name": "stdout",
     "output_type": "stream",
     "text": [
      "INFO:tensorflow:*** Num TPU Cores: 8\n"
     ]
    },
    {
     "name": "stderr",
     "output_type": "stream",
     "text": [
      "INFO:tensorflow:*** Num TPU Cores: 8\n"
     ]
    },
    {
     "name": "stdout",
     "output_type": "stream",
     "text": [
      "INFO:tensorflow:*** Num TPU Workers: 1\n"
     ]
    },
    {
     "name": "stderr",
     "output_type": "stream",
     "text": [
      "INFO:tensorflow:*** Num TPU Workers: 1\n"
     ]
    },
    {
     "name": "stdout",
     "output_type": "stream",
     "text": [
      "INFO:tensorflow:*** Num TPU Cores Per Worker: 8\n"
     ]
    },
    {
     "name": "stderr",
     "output_type": "stream",
     "text": [
      "INFO:tensorflow:*** Num TPU Cores Per Worker: 8\n"
     ]
    },
    {
     "name": "stdout",
     "output_type": "stream",
     "text": [
      "INFO:tensorflow:*** Available Device: _DeviceAttributes(/job:localhost/replica:0/task:0/device:CPU:0, CPU, 0, 0)\n"
     ]
    },
    {
     "name": "stderr",
     "output_type": "stream",
     "text": [
      "INFO:tensorflow:*** Available Device: _DeviceAttributes(/job:localhost/replica:0/task:0/device:CPU:0, CPU, 0, 0)\n"
     ]
    },
    {
     "name": "stdout",
     "output_type": "stream",
     "text": [
      "INFO:tensorflow:*** Available Device: _DeviceAttributes(/job:worker/replica:0/task:0/device:CPU:0, CPU, 0, 0)\n"
     ]
    },
    {
     "name": "stderr",
     "output_type": "stream",
     "text": [
      "INFO:tensorflow:*** Available Device: _DeviceAttributes(/job:worker/replica:0/task:0/device:CPU:0, CPU, 0, 0)\n"
     ]
    },
    {
     "name": "stdout",
     "output_type": "stream",
     "text": [
      "INFO:tensorflow:*** Available Device: _DeviceAttributes(/job:worker/replica:0/task:0/device:TPU:0, TPU, 0, 0)\n"
     ]
    },
    {
     "name": "stderr",
     "output_type": "stream",
     "text": [
      "INFO:tensorflow:*** Available Device: _DeviceAttributes(/job:worker/replica:0/task:0/device:TPU:0, TPU, 0, 0)\n"
     ]
    },
    {
     "name": "stdout",
     "output_type": "stream",
     "text": [
      "INFO:tensorflow:*** Available Device: _DeviceAttributes(/job:worker/replica:0/task:0/device:TPU:1, TPU, 0, 0)\n"
     ]
    },
    {
     "name": "stderr",
     "output_type": "stream",
     "text": [
      "INFO:tensorflow:*** Available Device: _DeviceAttributes(/job:worker/replica:0/task:0/device:TPU:1, TPU, 0, 0)\n"
     ]
    },
    {
     "name": "stdout",
     "output_type": "stream",
     "text": [
      "INFO:tensorflow:*** Available Device: _DeviceAttributes(/job:worker/replica:0/task:0/device:TPU:2, TPU, 0, 0)\n"
     ]
    },
    {
     "name": "stderr",
     "output_type": "stream",
     "text": [
      "INFO:tensorflow:*** Available Device: _DeviceAttributes(/job:worker/replica:0/task:0/device:TPU:2, TPU, 0, 0)\n"
     ]
    },
    {
     "name": "stdout",
     "output_type": "stream",
     "text": [
      "INFO:tensorflow:*** Available Device: _DeviceAttributes(/job:worker/replica:0/task:0/device:TPU:3, TPU, 0, 0)\n"
     ]
    },
    {
     "name": "stderr",
     "output_type": "stream",
     "text": [
      "INFO:tensorflow:*** Available Device: _DeviceAttributes(/job:worker/replica:0/task:0/device:TPU:3, TPU, 0, 0)\n"
     ]
    },
    {
     "name": "stdout",
     "output_type": "stream",
     "text": [
      "INFO:tensorflow:*** Available Device: _DeviceAttributes(/job:worker/replica:0/task:0/device:TPU:4, TPU, 0, 0)\n"
     ]
    },
    {
     "name": "stderr",
     "output_type": "stream",
     "text": [
      "INFO:tensorflow:*** Available Device: _DeviceAttributes(/job:worker/replica:0/task:0/device:TPU:4, TPU, 0, 0)\n"
     ]
    },
    {
     "name": "stdout",
     "output_type": "stream",
     "text": [
      "INFO:tensorflow:*** Available Device: _DeviceAttributes(/job:worker/replica:0/task:0/device:TPU:5, TPU, 0, 0)\n"
     ]
    },
    {
     "name": "stderr",
     "output_type": "stream",
     "text": [
      "INFO:tensorflow:*** Available Device: _DeviceAttributes(/job:worker/replica:0/task:0/device:TPU:5, TPU, 0, 0)\n"
     ]
    },
    {
     "name": "stdout",
     "output_type": "stream",
     "text": [
      "INFO:tensorflow:*** Available Device: _DeviceAttributes(/job:worker/replica:0/task:0/device:TPU:6, TPU, 0, 0)\n"
     ]
    },
    {
     "name": "stderr",
     "output_type": "stream",
     "text": [
      "INFO:tensorflow:*** Available Device: _DeviceAttributes(/job:worker/replica:0/task:0/device:TPU:6, TPU, 0, 0)\n"
     ]
    },
    {
     "name": "stdout",
     "output_type": "stream",
     "text": [
      "INFO:tensorflow:*** Available Device: _DeviceAttributes(/job:worker/replica:0/task:0/device:TPU:7, TPU, 0, 0)\n"
     ]
    },
    {
     "name": "stderr",
     "output_type": "stream",
     "text": [
      "INFO:tensorflow:*** Available Device: _DeviceAttributes(/job:worker/replica:0/task:0/device:TPU:7, TPU, 0, 0)\n"
     ]
    },
    {
     "name": "stdout",
     "output_type": "stream",
     "text": [
      "INFO:tensorflow:*** Available Device: _DeviceAttributes(/job:worker/replica:0/task:0/device:TPU_SYSTEM:0, TPU_SYSTEM, 0, 0)\n"
     ]
    },
    {
     "name": "stderr",
     "output_type": "stream",
     "text": [
      "INFO:tensorflow:*** Available Device: _DeviceAttributes(/job:worker/replica:0/task:0/device:TPU_SYSTEM:0, TPU_SYSTEM, 0, 0)\n"
     ]
    },
    {
     "name": "stdout",
     "output_type": "stream",
     "text": [
      "INFO:tensorflow:*** Available Device: _DeviceAttributes(/job:worker/replica:0/task:0/device:XLA_CPU:0, XLA_CPU, 0, 0)\n"
     ]
    },
    {
     "name": "stderr",
     "output_type": "stream",
     "text": [
      "INFO:tensorflow:*** Available Device: _DeviceAttributes(/job:worker/replica:0/task:0/device:XLA_CPU:0, XLA_CPU, 0, 0)\n"
     ]
    }
   ],
   "source": [
    "#%tensorflow_version 2.x\n",
    "import tensorflow as tf\n",
    "#print(\"Tensorflow version \" + tf.__version__)\n",
    "\n",
    "#try:\n",
    " # tpu = tf.distribute.cluster_resolver.TPUClusterResolver()  # TPU detection\n",
    " # print('Running on TPU ', tpu.cluster_spec().as_dict()['worker'])\n",
    "#except ValueError:\n",
    " # raise BaseException('ERROR: Not connected to a TPU runtime; please see the previous cell in this notebook for instructions!')\n",
    "\n",
    "#tf.config.experimental_connect_to_cluster(tpu)\n",
    "#tf.tpu.experimental.initialize_tpu_system(tpu)\n",
    "#tpu_strategy = tf.distribute.experimental.TPUStrategy(tpu)"
   ]
  },
  {
   "cell_type": "markdown",
   "metadata": {
    "id": "cbRrMyFkjYfD"
   },
   "source": [
    "## **Reading the dataset once again, we are going to preprocess it differently.**"
   ]
  },
  {
   "cell_type": "code",
   "execution_count": 2,
   "metadata": {
    "colab": {
     "base_uri": "https://localhost:8080/",
     "height": 855
    },
    "id": "Wu8CEwE8BdTs",
    "outputId": "da402394-6d92-4bd0-df5f-4e5b923cf48d"
   },
   "outputs": [
    {
     "data": {
      "text/html": [
       "<div>\n",
       "<style scoped>\n",
       "    .dataframe tbody tr th:only-of-type {\n",
       "        vertical-align: middle;\n",
       "    }\n",
       "\n",
       "    .dataframe tbody tr th {\n",
       "        vertical-align: top;\n",
       "    }\n",
       "\n",
       "    .dataframe thead th {\n",
       "        text-align: right;\n",
       "    }\n",
       "</style>\n",
       "<table border=\"1\" class=\"dataframe\">\n",
       "  <thead>\n",
       "    <tr style=\"text-align: right;\">\n",
       "      <th></th>\n",
       "      <th>member_name</th>\n",
       "      <th>sitting_date</th>\n",
       "      <th>parliamentary_period</th>\n",
       "      <th>parliamentary_session</th>\n",
       "      <th>parliamentary_sitting</th>\n",
       "      <th>political_party</th>\n",
       "      <th>speaker_info</th>\n",
       "      <th>speech</th>\n",
       "    </tr>\n",
       "  </thead>\n",
       "  <tbody>\n",
       "    <tr>\n",
       "      <th>0</th>\n",
       "      <td>κρητικος νικολαου παναγιωτης</td>\n",
       "      <td>1989-07-03</td>\n",
       "      <td>period 5</td>\n",
       "      <td>session 1</td>\n",
       "      <td>sitting 1</td>\n",
       "      <td>πανελληνιο σοσιαλιστικο κινημα</td>\n",
       "      <td>προεδρευων</td>\n",
       "      <td>Παρακαλείται ο Γραμματέας κ. Βουλγαράκης να σ...</td>\n",
       "    </tr>\n",
       "    <tr>\n",
       "      <th>1</th>\n",
       "      <td>κρητικος νικολαου παναγιωτης</td>\n",
       "      <td>1989-07-03</td>\n",
       "      <td>period 5</td>\n",
       "      <td>session 1</td>\n",
       "      <td>sitting 1</td>\n",
       "      <td>πανελληνιο σοσιαλιστικο κινημα</td>\n",
       "      <td>προεδρευων</td>\n",
       "      <td>Παρακαλείται ο κύριος Γραμματέας να συνοδεύσε...</td>\n",
       "    </tr>\n",
       "    <tr>\n",
       "      <th>2</th>\n",
       "      <td>κρητικος νικολαου παναγιωτης</td>\n",
       "      <td>1989-07-03</td>\n",
       "      <td>period 5</td>\n",
       "      <td>session 1</td>\n",
       "      <td>sitting 1</td>\n",
       "      <td>πανελληνιο σοσιαλιστικο κινημα</td>\n",
       "      <td>προεδρευων</td>\n",
       "      <td>Κύριοι συνάδελφοι, παρακαλώ τη Βουλή να εξουσ...</td>\n",
       "    </tr>\n",
       "    <tr>\n",
       "      <th>3</th>\n",
       "      <td>NaN</td>\n",
       "      <td>1989-07-03</td>\n",
       "      <td>period 5</td>\n",
       "      <td>session 1</td>\n",
       "      <td>sitting 1</td>\n",
       "      <td>βουλη</td>\n",
       "      <td>βουλευτης/ες</td>\n",
       "      <td>Μάλιστα, μάλιστα.</td>\n",
       "    </tr>\n",
       "    <tr>\n",
       "      <th>4</th>\n",
       "      <td>κρητικος νικολαου παναγιωτης</td>\n",
       "      <td>1989-07-03</td>\n",
       "      <td>period 5</td>\n",
       "      <td>session 1</td>\n",
       "      <td>sitting 1</td>\n",
       "      <td>πανελληνιο σοσιαλιστικο κινημα</td>\n",
       "      <td>προεδρευων</td>\n",
       "      <td>Η Βουλή παρέσχε τη ζητηθείσα εξουσιοδότηση. Μ...</td>\n",
       "    </tr>\n",
       "    <tr>\n",
       "      <th>...</th>\n",
       "      <td>...</td>\n",
       "      <td>...</td>\n",
       "      <td>...</td>\n",
       "      <td>...</td>\n",
       "      <td>...</td>\n",
       "      <td>...</td>\n",
       "      <td>...</td>\n",
       "      <td>...</td>\n",
       "    </tr>\n",
       "    <tr>\n",
       "      <th>1194402</th>\n",
       "      <td>συντυχακης δανιηλ εμμανουηλ</td>\n",
       "      <td>2019-02-22</td>\n",
       "      <td>period 17 presided parliamentary republic</td>\n",
       "      <td>session 4</td>\n",
       "      <td>sitting 82</td>\n",
       "      <td>κομμουνιστικο κομμα ελλαδας</td>\n",
       "      <td>NaN</td>\n",
       "      <td>Κύριε Πρόεδρε, οι καταστροφές προφανώς δεν ήτ...</td>\n",
       "    </tr>\n",
       "    <tr>\n",
       "      <th>1194403</th>\n",
       "      <td>κακλαμανης μιχαηλ νικητας</td>\n",
       "      <td>2019-02-22</td>\n",
       "      <td>period 17 presided parliamentary republic</td>\n",
       "      <td>session 4</td>\n",
       "      <td>sitting 82</td>\n",
       "      <td>νεα δημοκρατια</td>\n",
       "      <td>προεδρευων</td>\n",
       "      <td>Ορίστε, κύριε Υπουργέ, έχετε τον λόγο.</td>\n",
       "    </tr>\n",
       "    <tr>\n",
       "      <th>1194404</th>\n",
       "      <td>κακλαμανης μιχαηλ νικητας</td>\n",
       "      <td>2019-02-22</td>\n",
       "      <td>period 17 presided parliamentary republic</td>\n",
       "      <td>session 4</td>\n",
       "      <td>sitting 82</td>\n",
       "      <td>νεα δημοκρατια</td>\n",
       "      <td>προεδρευων</td>\n",
       "      <td>Αρκεί και το κεντρικό κράτος, κύριε Υπουργέ, ...</td>\n",
       "    </tr>\n",
       "    <tr>\n",
       "      <th>1194405</th>\n",
       "      <td>NaN</td>\n",
       "      <td>2019-02-22</td>\n",
       "      <td>period 17 presided parliamentary republic</td>\n",
       "      <td>session 4</td>\n",
       "      <td>sitting 82</td>\n",
       "      <td>βουλη</td>\n",
       "      <td>βουλευτης/ες</td>\n",
       "      <td>Μάλιστα, μάλιστα.</td>\n",
       "    </tr>\n",
       "    <tr>\n",
       "      <th>1194406</th>\n",
       "      <td>κακλαμανης μιχαηλ νικητας</td>\n",
       "      <td>2019-02-22</td>\n",
       "      <td>period 17 presided parliamentary republic</td>\n",
       "      <td>session 4</td>\n",
       "      <td>sitting 82</td>\n",
       "      <td>νεα δημοκρατια</td>\n",
       "      <td>προεδρευων</td>\n",
       "      <td>Με τη συναίνεση του Σώματος και ώρα 11.25΄ λύ...</td>\n",
       "    </tr>\n",
       "  </tbody>\n",
       "</table>\n",
       "<p>1194407 rows × 8 columns</p>\n",
       "</div>"
      ],
      "text/plain": [
       "                          member_name  ...                                             speech\n",
       "0        κρητικος νικολαου παναγιωτης  ...   Παρακαλείται ο Γραμματέας κ. Βουλγαράκης να σ...\n",
       "1        κρητικος νικολαου παναγιωτης  ...   Παρακαλείται ο κύριος Γραμματέας να συνοδεύσε...\n",
       "2        κρητικος νικολαου παναγιωτης  ...   Κύριοι συνάδελφοι, παρακαλώ τη Βουλή να εξουσ...\n",
       "3                                 NaN  ...                                  Μάλιστα, μάλιστα.\n",
       "4        κρητικος νικολαου παναγιωτης  ...   Η Βουλή παρέσχε τη ζητηθείσα εξουσιοδότηση. Μ...\n",
       "...                               ...  ...                                                ...\n",
       "1194402   συντυχακης δανιηλ εμμανουηλ  ...   Κύριε Πρόεδρε, οι καταστροφές προφανώς δεν ήτ...\n",
       "1194403     κακλαμανης μιχαηλ νικητας  ...             Ορίστε, κύριε Υπουργέ, έχετε τον λόγο.\n",
       "1194404     κακλαμανης μιχαηλ νικητας  ...   Αρκεί και το κεντρικό κράτος, κύριε Υπουργέ, ...\n",
       "1194405                           NaN  ...                                  Μάλιστα, μάλιστα.\n",
       "1194406     κακλαμανης μιχαηλ νικητας  ...   Με τη συναίνεση του Σώματος και ώρα 11.25΄ λύ...\n",
       "\n",
       "[1194407 rows x 8 columns]"
      ]
     },
     "execution_count": 2,
     "metadata": {
      "tags": []
     },
     "output_type": "execute_result"
    }
   ],
   "source": [
    "import pandas as pd\n",
    "speechs=pd.read_csv('https://zenodo.org/record/2587904/files/Greek_Parliament_Proceedings_1989_2019.csv.zip', dtype = str)\n",
    "speechs.isnull().sum()\n",
    "speechs = speechs.sample(frac = 1)\n",
    "speechs"
   ]
  },
  {
   "cell_type": "markdown",
   "metadata": {
    "id": "l9qze-emoKbD"
   },
   "source": [
    "## **Importing necessary modules.**"
   ]
  },
  {
   "cell_type": "code",
   "execution_count": 3,
   "metadata": {
    "id": "8wlPDaP7Bv8a"
   },
   "outputs": [],
   "source": [
    "import tensorflow as tf\n",
    "from tensorflow import keras\n",
    "\n",
    "import os\n",
    "import tempfile\n",
    "\n",
    "import matplotlib as mpl\n",
    "import matplotlib.pyplot as plt\n",
    "import numpy as np\n",
    "import pandas as pd\n",
    "import seaborn as sns\n",
    "\n",
    "import sklearn\n",
    "from sklearn.metrics import confusion_matrix\n",
    "from sklearn.model_selection import train_test_split\n",
    "from sklearn.preprocessing import StandardScaler"
   ]
  },
  {
   "cell_type": "code",
   "execution_count": 4,
   "metadata": {
    "id": "AArGBee4BwdI"
   },
   "outputs": [],
   "source": [
    "import io\n",
    "import os\n",
    "import re\n",
    "import shutil\n",
    "import string\n",
    "import tensorflow as tf\n",
    "\n",
    "from datetime import datetime\n",
    "from tensorflow.keras import Model, Sequential\n",
    "from tensorflow.keras.layers import Activation, Dense, Embedding, GlobalAveragePooling1D, LSTM\n",
    "from tensorflow.keras.layers.experimental.preprocessing import TextVectorization"
   ]
  },
  {
   "cell_type": "code",
   "execution_count": 5,
   "metadata": {
    "id": "Bq_Ge3qNBxwV"
   },
   "outputs": [],
   "source": [
    "import pandas as pd\n",
    "import numpy as np\n",
    "import re\n",
    "import nltk\n",
    "from nltk.corpus import stopwords\n",
    "\n",
    "from numpy import array\n",
    "from keras.preprocessing.text import one_hot\n",
    "from keras.preprocessing.sequence import pad_sequences\n",
    "from keras.models import Sequential\n",
    "from keras.layers.core import Activation, Dropout, Dense\n",
    "from keras.layers import Flatten\n",
    "from keras.layers import GlobalMaxPooling1D\n",
    "from keras.layers.embeddings import Embedding\n",
    "from sklearn.model_selection import train_test_split\n",
    "from keras.preprocessing.text import Tokenizer"
   ]
  },
  {
   "cell_type": "markdown",
   "metadata": {
    "id": "0wpW0A0woOjl"
   },
   "source": [
    "* **Removing null values, isolating columns that we need.**"
   ]
  },
  {
   "cell_type": "code",
   "execution_count": 6,
   "metadata": {
    "colab": {
     "base_uri": "https://localhost:8080/"
    },
    "id": "mPqgwiadBy-T",
    "outputId": "a5cedd14-c9fd-4b13-9a3c-cc16be0c4a46"
   },
   "outputs": [
    {
     "data": {
      "text/plain": [
       "political_party    0\n",
       "speech             0\n",
       "dtype: int64"
      ]
     },
     "execution_count": 6,
     "metadata": {
      "tags": []
     },
     "output_type": "execute_result"
    }
   ],
   "source": [
    "sp = pd.DataFrame()\n",
    "sp['political_party'] = speechs['political_party']\n",
    "sp['speech'] = speechs['speech']\n",
    "\n",
    "speech = sp\n",
    "speech = speech.dropna()\n",
    "speech.isnull().sum()"
   ]
  },
  {
   "cell_type": "code",
   "execution_count": 7,
   "metadata": {
    "id": "LSZAJM6bB21i"
   },
   "outputs": [],
   "source": [
    "speech = speech.astype(str)\n",
    "speech['political_party'] = pd.factorize(speech['political_party'])[0] + 1\n"
   ]
  },
  {
   "cell_type": "markdown",
   "metadata": {
    "id": "hYd_vmpLoX2-"
   },
   "source": [
    "* Setting the same stopwords as before."
   ]
  },
  {
   "cell_type": "code",
   "execution_count": 8,
   "metadata": {
    "id": "foPhHZHsCIoF"
   },
   "outputs": [],
   "source": [
    " stoppers = ['αλλά','αν','αντι','από', 'αυτά', 'αυτές', 'αυτή', 'αυτό', 'αυτοί', 'αυτός', 'αυτούς', 'αυτών', 'αἱ', 'αἳ', 'αἵ', 'αὐτόσ', 'αὐτὸς', 'αὖ', 'γάρ','γα', 'γα^','γε', 'για', 'γοῦν', 'γὰρ', \"δ'\", 'δέ', 'δή', 'δαί','δαίσ', 'δαὶ', 'δαὶς', 'δε', 'δεν', \"δι'\", 'διά', 'διὰ','δὲ', 'δὴ', 'δ’', 'εάν', 'είμαι','είμαστε','είναι','είσαι','είστε','εκείνα','εκείνες', 'εκείνη', 'εκείνο', 'εκείνοι', 'εκείνος', 'εκείνους', 'εκείνων', 'ενώ', 'επ', 'επι', 'εἰ', 'εἰμί', 'εἰμὶ', 'εἰς', 'εἰσ', 'εἴ', 'εἴμι', 'εἴτε', 'η', 'θα', 'ίσως', 'κ', 'και', 'καίτοι','καθ', 'και', 'κατ', 'κατά', 'κατα', 'κατὰ', 'καὶ', 'κι', 'κἀν', 'κἂν', 'μέν', 'μή', 'μήτε', 'μα','με', 'μεθ','μετ', 'μετά','μετα','μετὰ', 'μη','μην', 'μἐν', 'μὲν','μὴ','μὴν', 'να', 'ο', 'οι', 'όμως', 'όπως','όσο','οτι','οἱ','οἳ', 'οἷς','οὐ','οὐδ', 'οὐδέ', 'οὐδείσ', 'οὐδεὶς', 'οὐδὲ', 'οὐδὲν', 'οὐκ','οὐχ', 'οὐχὶ', 'οὓς', 'οὔτε', 'οὕτω', 'οὕτως', 'οὕτωσ', 'οὖν', 'οὗ', 'οὗτος', 'οὗτοσ', 'παρ','παρά','παρα','παρὰ','περί','περὶ','ποια','ποιεσ','ποιό','ποιοί','ποιός','ποιούς','ποιών','ποτέ','που','ποῦ','προ','προσ','πρόσ','πρὸ','πρὸς','πως','πωσ','σε','στη','στην','στο','στον','σόσ','σύ','σύν','σὸς','σὺ','σὺν','τά','τήν','τί','τίς','τίσ','τα','ταῖς','τε','την','τησ','τι','τινα','τις','τισ','το','τοί','τοι','τοιοῦτος','τοιοῦτοσ','τον','τότε','του','τούσ','τοὺς','τοῖς','τοῦ','των','τό','τόν','τότε','τὰ','τὰς','τὴν','τὸ','τὸν','τῆς','τῆσ','τῇ','τῶν','τῷ','ωσ',\"ἀλλ'\",'ἀλλά','ἀλλὰ','ἀλλ’','ἀπ','ἀπό','ἀπὸ','ἀφ','ἂν','ἃ','ἄλλος','ἄλλοσ','ἄν','ἄρα','ἅμα','ἐάν','ἐγώ','εγώ','ἐκ','ἐμόσ','ἐμὸς','ἐν','ἐξ','ἐπί','ἐπεὶ','ἐπὶ','ἐστι','ἐφ','ἐὰν','ἑαυτοῦ','ἔτι','ἡ','ἢ','ἣ','ἤ','ἥ','ἧς','ἵνα','ὁ','ὃ','ὃν','ὃς','ὅ','ὅδε','ὅθεν','ὅπερ','ὅς','ὅσ','ὅστις','τους','της','οτι','τις','σας','μας','τη','μ','ὅστισ','ότι','ή','τους','στα','στις','στους','ως','-','ὅτε','ὅτι','ὑμόσ','ὑπ','ὑπέρ','ὑπό','ὑπὲρ','ὑπὸ','ὡς','ὡσ','ὥς','ὥστε','ὦ','ᾧ']"
   ]
  },
  {
   "cell_type": "code",
   "execution_count": 9,
   "metadata": {
    "id": "bsW5wiwFCJBN"
   },
   "outputs": [],
   "source": [
    "STOPWORDS = set(stoppers)"
   ]
  },
  {
   "cell_type": "code",
   "execution_count": 10,
   "metadata": {
    "id": "cVNsphVvCKHv"
   },
   "outputs": [],
   "source": [
    "sp = pd.DataFrame()\n",
    "sp['political_party'] = speechs['political_party']\n",
    "sp['speech'] = speechs['speech']\n",
    "\n",
    "speech = sp"
   ]
  },
  {
   "cell_type": "code",
   "execution_count": 11,
   "metadata": {
    "id": "1lyVO4wHCLLb"
   },
   "outputs": [],
   "source": [
    "sp = pd.DataFrame()\n",
    "sp['political_party'] = speechs['political_party']\n",
    "sp['speech'] = speechs['speech']\n",
    "\n",
    "speech = sp"
   ]
  },
  {
   "cell_type": "markdown",
   "metadata": {
    "id": "2FYZ8cUzobQD"
   },
   "source": [
    "* **We are going to keep the 8 major political parties based on our analysis.**"
   ]
  },
  {
   "cell_type": "code",
   "execution_count": 12,
   "metadata": {
    "colab": {
     "base_uri": "https://localhost:8080/"
    },
    "id": "vBozr8DJCMff",
    "outputId": "6d79cbc7-7a7c-4b3d-b765-1adc8ba826c5"
   },
   "outputs": [
    {
     "data": {
      "text/plain": [
       "(1097133, 2)"
      ]
     },
     "execution_count": 12,
     "metadata": {
      "tags": []
     },
     "output_type": "execute_result"
    }
   ],
   "source": [
    "speech = speech[speech.political_party != \"αντιπολιτευση\"]\n",
    "speech = speech[speech.political_party != \"κομμουνιστικο κομμα ελλαδας εσωτερικου\"]\n",
    "speech = speech[speech.political_party != \"οικολογοι εναλλακτικοι (ομοσπονδια οικολογικων εναλλακτικων οργανωσεων)\"]\n",
    "speech = speech[speech.political_party != \"λαικη ενοτητα\"]\n",
    "speech = speech[speech.political_party != \"ανεξαρτητοι (εκτος κομματος)\"]\n",
    "speech = speech[speech.political_party != \"ανεξαρτητοι δημοκρατικοι βουλευτες\"]\n",
    "speech = speech[speech.political_party != \"δημοκρατικη ανανεωση\"]\n",
    "\n",
    "speech = speech[speech.political_party != \"πολιτικη ανοιξη\"]\n",
    "speech = speech[speech.political_party != \"δημοκρατικη αριστερα\"]\n",
    "speech = speech[speech.political_party != \"ανεξαρτητοι ελληνες εθνικη πατριωτικη δημοκρατικη συμμαχια\"]\n",
    "speech = speech[speech.political_party != \"δημοκρατικο κοινωνικο κινημα\t\"]\n",
    "speech = speech[speech.political_party != \"το ποταμι\"]\n",
    "speech = speech[speech.political_party != \"ενωση κεντρωων\"]\n",
    "speech = speech[speech.political_party != \"δημοκρατικο κοινωνικο κινημα\"]\n",
    "speech = speech[speech.political_party != \"λαικος συνδεσος - χρυση αυγη\"]\n",
    "speech = speech[speech.political_party != \"ανεξαρτητοι ελληνες - πανος καμμενος\"]\n",
    "\n",
    "\n",
    "\n",
    "\n",
    "\n",
    "speech.shape"
   ]
  },
  {
   "cell_type": "code",
   "execution_count": 13,
   "metadata": {
    "colab": {
     "base_uri": "https://localhost:8080/"
    },
    "id": "00D5bPoFCXxy",
    "outputId": "910e3adb-cecb-4713-d14f-6d451cafb844"
   },
   "outputs": [
    {
     "data": {
      "text/plain": [
       "political_party    object\n",
       "speech             object\n",
       "dtype: object"
      ]
     },
     "execution_count": 13,
     "metadata": {
      "tags": []
     },
     "output_type": "execute_result"
    }
   ],
   "source": [
    "speech[\"speech\"] = speech[\"speech\"].astype('str')\n",
    "speech.dtypes"
   ]
  },
  {
   "cell_type": "code",
   "execution_count": 14,
   "metadata": {
    "colab": {
     "base_uri": "https://localhost:8080/"
    },
    "id": "9Xj4znXNCY0m",
    "outputId": "1b0746f7-9a91-4005-d6ab-35c34ad1725a"
   },
   "outputs": [
    {
     "data": {
      "text/plain": [
       "array(['πανελληνιο σοσιαλιστικο κινημα', 'βουλη', 'νεα δημοκρατια',\n",
       "       'κομμουνιστικο κομμα ελλαδας',\n",
       "       'συνασπισμος της αριστερας των κινηματων και της οικολογιας',\n",
       "       'λαικος ορθοδοξος συναγερμος',\n",
       "       'συνασπισμος ριζοσπαστικης αριστερας',\n",
       "       'δημοκρατικη συμπαραταξη (πανελληνιο σοσιαλιστικο κινημα - δημοκρατικη αριστερα)'],\n",
       "      dtype=object)"
      ]
     },
     "execution_count": 14,
     "metadata": {
      "tags": []
     },
     "output_type": "execute_result"
    }
   ],
   "source": [
    "speech = speech.dropna()\n",
    "speech.political_party.unique()"
   ]
  },
  {
   "cell_type": "markdown",
   "metadata": {
    "id": "wnZue1VDom-C"
   },
   "source": [
    "* **Removing punctuation.**"
   ]
  },
  {
   "cell_type": "code",
   "execution_count": 15,
   "metadata": {
    "id": "IzGYj1t9CZwX"
   },
   "outputs": [],
   "source": [
    "import string\n",
    "\n",
    "def remove_punct(text):\n",
    "    table = str.maketrans(\" \",\" \",string.punctuation)\n",
    "    return text.translate(table)\n",
    "speech[\"speech\"] = speech.speech.map(lambda x: remove_punct(x))"
   ]
  },
  {
   "cell_type": "code",
   "execution_count": 19,
   "metadata": {
    "colab": {
     "base_uri": "https://localhost:8080/",
     "height": 522
    },
    "id": "NUsytYLiCbzJ",
    "outputId": "62801d78-101a-4443-87bc-36f9dda59edb"
   },
   "outputs": [
    {
     "name": "stderr",
     "output_type": "stream",
     "text": [
      "/usr/local/lib/python3.6/dist-packages/plotnine/utils.py:1246: FutureWarning: is_categorical is deprecated and will be removed in a future version.  Use is_categorical_dtype instead\n",
      "  if pdtypes.is_categorical(arr):\n"
     ]
    },
    {
     "data": {
      "image/png": "[encoded data removed]",
      "text/plain": [
       "<Figure size 640x480 with 1 Axes>"
      ]
     },
     "metadata": {
      "tags": []
     },
     "output_type": "display_data"
    },
    {
     "data": {
      "text/plain": [
       "<ggplot: (8768365505842)>"
      ]
     },
     "execution_count": 19,
     "metadata": {
      "tags": []
     },
     "output_type": "execute_result"
    }
   ],
   "source": [
    "from plotnine.data import mpg\n",
    "from plotnine import ggplot, aes, geom_bar\n",
    "ggplot(speech) + aes(x=\"political_party\") + geom_bar()"
   ]
  },
  {
   "cell_type": "code",
   "execution_count": 20,
   "metadata": {
    "colab": {
     "base_uri": "https://localhost:8080/",
     "height": 314
    },
    "id": "A7iC-bGTCdG9",
    "outputId": "52fb9cf4-5c49-4798-9bf0-6ea8cd6ac974"
   },
   "outputs": [
    {
     "data": {
      "text/html": [
       "<div>\n",
       "<style scoped>\n",
       "    .dataframe tbody tr th:only-of-type {\n",
       "        vertical-align: middle;\n",
       "    }\n",
       "\n",
       "    .dataframe tbody tr th {\n",
       "        vertical-align: top;\n",
       "    }\n",
       "\n",
       "    .dataframe thead th {\n",
       "        text-align: right;\n",
       "    }\n",
       "</style>\n",
       "<table border=\"1\" class=\"dataframe\">\n",
       "  <thead>\n",
       "    <tr style=\"text-align: right;\">\n",
       "      <th></th>\n",
       "      <th>speech</th>\n",
       "    </tr>\n",
       "    <tr>\n",
       "      <th>political_party</th>\n",
       "      <th></th>\n",
       "    </tr>\n",
       "  </thead>\n",
       "  <tbody>\n",
       "    <tr>\n",
       "      <th>δημοκρατικη συμπαραταξη (πανελληνιο σοσιαλιστικο κινημα - δημοκρατικη αριστερα)</th>\n",
       "      <td>22991</td>\n",
       "    </tr>\n",
       "    <tr>\n",
       "      <th>λαικος ορθοδοξος συναγερμος</th>\n",
       "      <td>23686</td>\n",
       "    </tr>\n",
       "    <tr>\n",
       "      <th>συνασπισμος της αριστερας των κινηματων και της οικολογιας</th>\n",
       "      <td>35891</td>\n",
       "    </tr>\n",
       "    <tr>\n",
       "      <th>βουλη</th>\n",
       "      <td>45876</td>\n",
       "    </tr>\n",
       "    <tr>\n",
       "      <th>κομμουνιστικο κομμα ελλαδας</th>\n",
       "      <td>78631</td>\n",
       "    </tr>\n",
       "    <tr>\n",
       "      <th>συνασπισμος ριζοσπαστικης αριστερας</th>\n",
       "      <td>126572</td>\n",
       "    </tr>\n",
       "    <tr>\n",
       "      <th>πανελληνιο σοσιαλιστικο κινημα</th>\n",
       "      <td>377684</td>\n",
       "    </tr>\n",
       "    <tr>\n",
       "      <th>νεα δημοκρατια</th>\n",
       "      <td>385640</td>\n",
       "    </tr>\n",
       "  </tbody>\n",
       "</table>\n",
       "</div>"
      ],
      "text/plain": [
       "                                                    speech\n",
       "political_party                                           \n",
       "δημοκρατικη συμπαραταξη (πανελληνιο σοσιαλιστικ...   22991\n",
       "λαικος ορθοδοξος συναγερμος                          23686\n",
       "συνασπισμος της αριστερας των κινηματων και της...   35891\n",
       "βουλη                                                45876\n",
       "κομμουνιστικο κομμα ελλαδας                          78631\n",
       "συνασπισμος ριζοσπαστικης αριστερας                 126572\n",
       "πανελληνιο σοσιαλιστικο κινημα                      377684\n",
       "νεα δημοκρατια                                      385640"
      ]
     },
     "execution_count": 20,
     "metadata": {
      "tags": []
     },
     "output_type": "execute_result"
    }
   ],
   "source": [
    "grouped = speech.groupby(['political_party']).count()\n",
    "grouped.sort_values(by = 'speech')"
   ]
  },
  {
   "cell_type": "markdown",
   "metadata": {
    "id": "nG-DJjnUorxn"
   },
   "source": [
    "* **Removing digits, replacing characters with lower case characters, removing stopwords.**"
   ]
  },
  {
   "cell_type": "code",
   "execution_count": 21,
   "metadata": {
    "id": "eA3yqRjdCeZ9"
   },
   "outputs": [],
   "source": [
    "REPLACE_BY_SPACE_RE = re.compile('[/(){}\\[\\]\\|@,;]')\n",
    "import nltk\n",
    "def clean_text(text):\n",
    "   \n",
    "    text = ''.join([i for i in text if not i.isdigit()])\n",
    "\n",
    "    text = text.lower() \n",
    "\n",
    "    text = ' '.join(word for word in text.split() if word not in STOPWORDS) \n",
    "    \n",
    "    return text\n",
    "    \n",
    "speech['speech'] = speech['speech'].apply(clean_text)"
   ]
  },
  {
   "cell_type": "code",
   "execution_count": 22,
   "metadata": {
    "id": "B1XZWR1HCgE2"
   },
   "outputs": [],
   "source": [
    "speech = speech.reset_index(drop = True)\n"
   ]
  },
  {
   "cell_type": "markdown",
   "metadata": {
    "id": "WVulH3FUoz4S"
   },
   "source": [
    "* **Splitting data**"
   ]
  },
  {
   "cell_type": "code",
   "execution_count": 23,
   "metadata": {
    "colab": {
     "base_uri": "https://localhost:8080/"
    },
    "id": "CyhXZzBnChho",
    "outputId": "e8512896-a068-49e9-ea9d-ccd8f54ee1fc"
   },
   "outputs": [
    {
     "data": {
      "text/plain": [
       "(767879,)"
      ]
     },
     "execution_count": 23,
     "metadata": {
      "tags": []
     },
     "output_type": "execute_result"
    }
   ],
   "source": [
    "X , y = (speech['speech'].values,\n",
    "        speech['political_party'].values)\n",
    "X_train, X_test, y_train, y_test = train_test_split(X, y,\n",
    "                                                    test_size=0.30,\n",
    "                                                    random_state=42)\n",
    "X_train.shape"
   ]
  },
  {
   "cell_type": "markdown",
   "metadata": {
    "id": "z-_UOtwKo7M8"
   },
   "source": [
    "* **Counting unique words in dataset**"
   ]
  },
  {
   "cell_type": "code",
   "execution_count": 24,
   "metadata": {
    "id": "21n-UNuyCiZV"
   },
   "outputs": [],
   "source": [
    "from collections import Counter\n",
    "\n",
    "def count_word(text):\n",
    "    count = Counter()\n",
    "    for i in text:\n",
    "        for word in i.split():\n",
    "         count[word] += 1 \n",
    "    return count"
   ]
  },
  {
   "cell_type": "code",
   "execution_count": 25,
   "metadata": {
    "id": "np0KGteKCk8T"
   },
   "outputs": [],
   "source": [
    "text = X_train\n",
    "counter = count_word(text)"
   ]
  },
  {
   "cell_type": "code",
   "execution_count": 26,
   "metadata": {
    "id": "0eCUJuvECli0"
   },
   "outputs": [],
   "source": [
    "num_words = len(counter)\n",
    "\n",
    "\n",
    "\n",
    "max_length = 40"
   ]
  },
  {
   "cell_type": "markdown",
   "metadata": {
    "id": "-4jpFd3XpApu"
   },
   "source": [
    "* **Fitting the training speeches to the keras preprocessing tokenizer.**"
   ]
  },
  {
   "cell_type": "code",
   "execution_count": 27,
   "metadata": {
    "id": "9PHfO__7CnBL"
   },
   "outputs": [],
   "source": [
    "from keras.preprocessing.text import Tokenizer\n",
    "\n",
    "tokenizer = Tokenizer(num_words = num_words)\n",
    "tokenizer.fit_on_texts(X_train)"
   ]
  },
  {
   "cell_type": "code",
   "execution_count": 28,
   "metadata": {
    "id": "4vnQV1x6CoHV"
   },
   "outputs": [],
   "source": [
    "word_index = tokenizer.word_index"
   ]
  },
  {
   "cell_type": "markdown",
   "metadata": {
    "id": "EUfSwjiEpQ3H"
   },
   "source": [
    "* Getting sequences of numbers from training and testing speeches "
   ]
  },
  {
   "cell_type": "code",
   "execution_count": 29,
   "metadata": {
    "id": "loal1mj2CpMQ"
   },
   "outputs": [],
   "source": [
    "train_sequences = tokenizer.texts_to_sequences(X_train)\n",
    "test_sequences = tokenizer.texts_to_sequences(X_test)"
   ]
  },
  {
   "cell_type": "markdown",
   "metadata": {
    "id": "-5e-9mm1pa2R"
   },
   "source": [
    "* Adding a padding so that every sequence has the same length"
   ]
  },
  {
   "cell_type": "code",
   "execution_count": 30,
   "metadata": {
    "id": "af49X82NCqTb"
   },
   "outputs": [],
   "source": [
    "from keras.preprocessing.sequence import pad_sequences\n",
    "\n",
    "Xtr = pad_sequences(\n",
    "  train_sequences, maxlen = max_length, padding = \"post\", truncating = \"post\"\n",
    ")\n",
    "Xte= pad_sequences(\n",
    "  test_sequences, maxlen = max_length, padding = \"post\", truncating = \"post\"\n",
    ")"
   ]
  },
  {
   "cell_type": "markdown",
   "metadata": {
    "id": "WxCJvTU_pgN1"
   },
   "source": [
    "* This is our corpus."
   ]
  },
  {
   "cell_type": "code",
   "execution_count": 31,
   "metadata": {
    "colab": {
     "base_uri": "https://localhost:8080/"
    },
    "id": "3MRUawCnCrTy",
    "outputId": "a0c25c4e-8621-402e-cc90-9cd645d4f97d"
   },
   "outputs": [
    {
     "data": {
      "text/plain": [
       "{'έχει': 1,\n",
       " 'κύριε': 2,\n",
       " 'ένα': 3,\n",
       " 'πρέπει': 4,\n",
       " 'γιατί': 5,\n",
       " 'μια': 6,\n",
       " 'οποία': 7,\n",
       " 'μία': 8,\n",
       " 'έχουν': 9,\n",
       " 'πολύ': 10,\n",
       " 'υπάρχει': 11,\n",
       " 'έχουμε': 12,\n",
       " 'λόγο': 13,\n",
       " 'συνάδελφοι': 14,\n",
       " 'κυβέρνηση': 15,\n",
       " 'πρόεδρε': 16,\n",
       " 'σήμερα': 17,\n",
       " 'εδώ': 18,\n",
       " 'ήταν': 19,\n",
       " 'κύριοι': 20,\n",
       " 'μου': 21,\n",
       " 'μπορεί': 22,\n",
       " 'μόνο': 23,\n",
       " 'όχι': 24,\n",
       " 'λοιπόν': 25,\n",
       " 'θέμα': 26,\n",
       " 'οποίο': 27,\n",
       " 'υπουργέ': 28,\n",
       " 'όταν': 29,\n",
       " 'αυτήν': 30,\n",
       " 'προς': 31,\n",
       " 'άρθρο': 32,\n",
       " 'τώρα': 33,\n",
       " 'δηλαδή': 34,\n",
       " 'εμείς': 35,\n",
       " 'μέσα': 36,\n",
       " 'δύο': 37,\n",
       " 'όλα': 38,\n",
       " 'έχετε': 39,\n",
       " 'πολιτική': 40,\n",
       " 'νομοσχέδιο': 41,\n",
       " 'πω': 42,\n",
       " 'αφορά': 43,\n",
       " 'χρόνια': 44,\n",
       " 'γίνεται': 45,\n",
       " 'υπάρχουν': 46,\n",
       " 'διότι': 47,\n",
       " 'εσείς': 48,\n",
       " 'γίνει': 49,\n",
       " 'επί': 50,\n",
       " 'κάθε': 51,\n",
       " 'υπουργός': 52,\n",
       " 'χώρα': 53,\n",
       " 'κάνει': 54,\n",
       " 'ούτε': 55,\n",
       " 'πασοκ': 56,\n",
       " 'μέχρι': 57,\n",
       " 'έτσι': 58,\n",
       " 'δεκτό': 59,\n",
       " 'ευχαριστώ': 60,\n",
       " 'συζήτηση': 61,\n",
       " 'είχε': 62,\n",
       " 'δημοκρατίας': 63,\n",
       " 'έγινε': 64,\n",
       " 'χωρίς': 65,\n",
       " 'νέα': 66,\n",
       " 'όλοι': 67,\n",
       " 'θέλω': 68,\n",
       " 'κυρίες': 69,\n",
       " 'πρόβλημα': 70,\n",
       " 'μάλιστα': 71,\n",
       " 'εκεί': 72,\n",
       " 'επίσης': 73,\n",
       " 'λέει': 74,\n",
       " 'επιτροπή': 75,\n",
       " 'ελλάδα': 76,\n",
       " 'τρόπο': 77,\n",
       " 'έχω': 78,\n",
       " 'βεβαίως': 79,\n",
       " 'νομίζω': 80,\n",
       " 'νέας': 81,\n",
       " 'βουλή': 82,\n",
       " 'υπουργείο': 83,\n",
       " 'ήθελα': 84,\n",
       " 'ευρώ': 85,\n",
       " 'άλλο': 86,\n",
       " 'κάτι': 87,\n",
       " 'χώρας': 88,\n",
       " 'πώς': 89,\n",
       " 'ώστε': 90,\n",
       " 'οποίες': 91,\n",
       " 'υπουργό': 92,\n",
       " 'πριν': 93,\n",
       " 'άλλη': 94,\n",
       " 'πιο': 95,\n",
       " 'στιγμή': 96,\n",
       " 'επειδή': 97,\n",
       " 'σ’': 98,\n",
       " 'κάνουμε': 99,\n",
       " 'ακόμα': 100,\n",
       " 'προβλήματα': 101,\n",
       " 'κυβέρνησης': 102,\n",
       " 'παρακαλώ': 103,\n",
       " 'πάρα': 104,\n",
       " 'γι’': 105,\n",
       " 'ένας': 106,\n",
       " 'νόμου': 107,\n",
       " 'χρόνο': 108,\n",
       " 'θέλετε': 109,\n",
       " 'είπε': 110,\n",
       " 'θέματα': 111,\n",
       " 'όλες': 112,\n",
       " 'διαδικασία': 113,\n",
       " 'υπουργείου': 114,\n",
       " 'πλειοψηφία': 115,\n",
       " 'βέβαια': 116,\n",
       " 'κάνετε': 117,\n",
       " 'σύστημα': 118,\n",
       " 'άλλα': 119,\n",
       " 'κύριος': 120,\n",
       " 'λέτε': 121,\n",
       " 'δημοκρατία': 122,\n",
       " 'κυρία': 123,\n",
       " 'βουλής': 124,\n",
       " 'δυνατότητα': 125,\n",
       " 'σχέση': 126,\n",
       " 'εν': 127,\n",
       " 'όπου': 128,\n",
       " 'υγείας': 129,\n",
       " 'ερώτηση': 130,\n",
       " 'πράγματα': 131,\n",
       " 'άλλες': 132,\n",
       " 'είτε': 133,\n",
       " 'πραγματικά': 134,\n",
       " 'τροπολογία': 135,\n",
       " 'ακριβώς': 136,\n",
       " 'έπρεπε': 137,\n",
       " 'αυτού': 138,\n",
       " 'πολιτικής': 139,\n",
       " 'μέτρα': 140,\n",
       " 'δημόσιο': 141,\n",
       " 'στοιχεία': 142,\n",
       " 'ακόμη': 143,\n",
       " 'φορά': 144,\n",
       " 'τομέα': 145,\n",
       " 'ζήτημα': 146,\n",
       " 'ήδη': 147,\n",
       " 'απόφαση': 148,\n",
       " 'είπα': 149,\n",
       " 'ξέρετε': 150,\n",
       " 'ίδια': 151,\n",
       " 'αριθμό': 152,\n",
       " 'εξής': 153,\n",
       " 'θέση': 154,\n",
       " 'μπορούν': 155,\n",
       " 'σώμα': 156,\n",
       " 'περίπτωση': 157,\n",
       " 'τόσο': 158,\n",
       " 'κάποια': 159,\n",
       " 'αφού': 160,\n",
       " 'πρώτη': 161,\n",
       " 'έναν': 162,\n",
       " 'όλους': 163,\n",
       " 'διατάξεις': 164,\n",
       " 'χιλιάδες': 165,\n",
       " 'ν': 166,\n",
       " 'αυτόν': 167,\n",
       " 'μεγάλη': 168,\n",
       " 'πολλές': 169,\n",
       " 'καλά': 170,\n",
       " 'είχαμε': 171,\n",
       " 'μπορούμε': 172,\n",
       " 'πολλά': 173,\n",
       " 'πρόταση': 174,\n",
       " 'λέω': 175,\n",
       " 'οποίοι': 176,\n",
       " 'πλαίσιο': 177,\n",
       " 'σχετικά': 178,\n",
       " 'εργασίας': 179,\n",
       " 'βουλευτές': 180,\n",
       " 'πράγματι': 181,\n",
       " 'οποίος': 182,\n",
       " 'πέντε': 183,\n",
       " 'πάνω': 184,\n",
       " 'ελληνική': 185,\n",
       " 'ενός': 186,\n",
       " 'άρθρου': 187,\n",
       " 'κανείς': 188,\n",
       " 'τέλος': 189,\n",
       " 'πλέον': 190,\n",
       " 'πρόκειται': 191,\n",
       " 'είχαν': 192,\n",
       " 'αυτής': 193,\n",
       " 'σχέδιο': 194,\n",
       " 'βάση': 195,\n",
       " 'ανάπτυξης': 196,\n",
       " 'πει': 197,\n",
       " 'οικονομίας': 198,\n",
       " 'τουλάχιστον': 199,\n",
       " 'μεγάλο': 200,\n",
       " 'δική': 201,\n",
       " 'κατάσταση': 202,\n",
       " 'έργο': 203,\n",
       " 'ελληνικό': 204,\n",
       " 'λεπτά': 205,\n",
       " 'οικονομικών': 206,\n",
       " 'διάταξη': 207,\n",
       " 'βουλευτής': 208,\n",
       " 'ιδιαίτερα': 209,\n",
       " 'κράτος': 210,\n",
       " 'σαν': 211,\n",
       " 'ευρωπαϊκή': 212,\n",
       " 'κυρίως': 213,\n",
       " 'λέμε': 214,\n",
       " 'ίδιο': 215,\n",
       " 'πιστεύω': 216,\n",
       " 'ανάπτυξη': 217,\n",
       " 'είπατε': 218,\n",
       " 'μεταξύ': 219,\n",
       " 'όσον': 220,\n",
       " 'απ’': 221,\n",
       " 'πρόγραμμα': 222,\n",
       " 'πείτε': 223,\n",
       " 'τελευταία': 224,\n",
       " 'χρειάζεται': 225,\n",
       " 'νόμο': 226,\n",
       " 'λόγω': 227,\n",
       " 'κλπ': 228,\n",
       " 'όλων': 229,\n",
       " 'μιας': 230,\n",
       " 'συνεπώς': 231,\n",
       " 'εθνικής': 232,\n",
       " 'λειτουργία': 233,\n",
       " 'νομοσχεδίου': 234,\n",
       " 'σ': 235,\n",
       " 'δούμε': 236,\n",
       " 'ανάγκη': 237,\n",
       " 'πέρα': 238,\n",
       " 'δυστυχώς': 239,\n",
       " 'ας': 240,\n",
       " 'ζητήματα': 241,\n",
       " 'όλη': 242,\n",
       " 'απάντηση': 243,\n",
       " 'προσπάθεια': 244,\n",
       " 'κάνουν': 245,\n",
       " 'άρα': 246,\n",
       " 'αύξηση': 247,\n",
       " 'θέλουμε': 248,\n",
       " 'τίποτα': 249,\n",
       " 'φορές': 250,\n",
       " 'σύμφωνα': 251,\n",
       " 'σημαίνει': 252,\n",
       " 'δικαίωμα': 253,\n",
       " 'περισσότερο': 254,\n",
       " 'ρύθμιση': 255,\n",
       " 'γεγονός': 256,\n",
       " 'κάνω': 257,\n",
       " 'έκανε': 258,\n",
       " 'θέλει': 259,\n",
       " 'κύριο': 260,\n",
       " 'πού': 261,\n",
       " 'συνάδελφε': 262,\n",
       " 'ευθύνη': 263,\n",
       " 'ευρωπαϊκής': 264,\n",
       " 'αρχή': 265,\n",
       " 'πάλι': 266,\n",
       " 'αποτέλεσμα': 267,\n",
       " 'ουσιαστικά': 268,\n",
       " 'εκτός': 269,\n",
       " 'επιχειρήσεις': 270,\n",
       " 'δυνατόν': 271,\n",
       " 'θέσεις': 272,\n",
       " 'μήνες': 273,\n",
       " 'μαζί': 274,\n",
       " 'εκ': 275,\n",
       " 'περίπου': 276,\n",
       " 'προκειμένου': 277,\n",
       " 'υπηρεσίες': 278,\n",
       " 'κοινωνία': 279,\n",
       " 'ώρα': 280,\n",
       " 'έργα': 281,\n",
       " 'υπάρξει': 282,\n",
       " 'επίκαιρη': 283,\n",
       " 'καμία': 284,\n",
       " 'τρεις': 285,\n",
       " 'βουλευτή': 286,\n",
       " 'υπουργού': 287,\n",
       " 'είκοσι': 288,\n",
       " 'πολίτες': 289,\n",
       " 'αποτελεί': 290,\n",
       " 'κράτους': 291,\n",
       " 'δημοσίου': 292,\n",
       " 'ποιος': 293,\n",
       " 'γίνονται': 294,\n",
       " 'οικονομία': 295,\n",
       " 'χώρες': 296,\n",
       " 'λίγο': 297,\n",
       " 'δημόσια': 298,\n",
       " 'τέτοια': 299,\n",
       " 'έρχεται': 300,\n",
       " 'τρία': 301,\n",
       " 'αίθουσα': 302,\n",
       " 'ναι': 303,\n",
       " 'χώρο': 304,\n",
       " 'ελληνικού': 305,\n",
       " 'λαό': 306,\n",
       " 'όλο': 307,\n",
       " 'λαός': 308,\n",
       " 'επιτροπής': 309,\n",
       " 'ανάγκες': 310,\n",
       " 'κοινωνικής': 311,\n",
       " 'συμβούλιο': 312,\n",
       " 'ευχαριστούμε': 313,\n",
       " 'μείωση': 314,\n",
       " 'ξέρω': 315,\n",
       " 'πούμε': 316,\n",
       " 'σημείο': 317,\n",
       " 'ελληνικής': 318,\n",
       " 'προσωπικό': 319,\n",
       " 'αναφορά': 320,\n",
       " 'πραγματικότητα': 321,\n",
       " 'περιοχή': 322,\n",
       " 'αρχής': 323,\n",
       " 'νόμος': 324,\n",
       " 'μιλάμε': 325,\n",
       " 'πάρει': 326,\n",
       " 'καθώς': 327,\n",
       " 'συγκεκριμένα': 328,\n",
       " 'πρώτο': 329,\n",
       " 'πάει': 330,\n",
       " 'αποφάσεις': 331,\n",
       " 'ρυθμίσεις': 332,\n",
       " 'επίπεδο': 333,\n",
       " 'εργαζομένων': 334,\n",
       " 'οικονομική': 335,\n",
       " 'γι': 336,\n",
       " 'κατεύθυνση': 337,\n",
       " 'κρίση': 338,\n",
       " 'πολιτικές': 339,\n",
       " 'συγκεκριμένο': 340,\n",
       " 'παιδείας': 341,\n",
       " 'άρθρα': 342,\n",
       " 'ένωση': 343,\n",
       " 'δισεκατομμύρια': 344,\n",
       " 'παράδειγμα': 345,\n",
       " 'κανένα': 346,\n",
       " 'υπό': 347,\n",
       " 'περίοδο': 348,\n",
       " 'τελικά': 349,\n",
       " 'εκατομμύρια': 350,\n",
       " 'πρακτικά': 351,\n",
       " 'κατ’': 352,\n",
       " 'υπήρχε': 353,\n",
       " 'άλλων': 354,\n",
       " 'πλευρά': 355,\n",
       " 'κοινωνική': 356,\n",
       " 'προτάσεις': 357,\n",
       " 'δεύτερο': 358,\n",
       " 'σημαντικό': 359,\n",
       " 'συγκεκριμένη': 360,\n",
       " 'δημόσιας': 361,\n",
       " 'κάποιες': 362,\n",
       " 'λαού': 363,\n",
       " 'προϋπολογισμό': 364,\n",
       " 'αφορούν': 365,\n",
       " 'αγορά': 366,\n",
       " 'κάτω': 367,\n",
       " 'χρήματα': 368,\n",
       " 'γίνουν': 369,\n",
       " 'έλεγα': 370,\n",
       " 'λόγους': 371,\n",
       " 'γνώμη': 372,\n",
       " 'λειτουργίας': 373,\n",
       " 'δώσει': 374,\n",
       " 'εθνική': 375,\n",
       " 'συστήματος': 376,\n",
       " 'συνέχεια': 377,\n",
       " 'διαδικασίες': 378,\n",
       " '–και': 379,\n",
       " 'κάνατε': 380,\n",
       " 'πρόεδρος': 381,\n",
       " 'κάποιος': 382,\n",
       " 'κόμμα': 383,\n",
       " 'τιμή': 384,\n",
       " 'δικαιοσύνης': 385,\n",
       " 'αλήθεια': 386,\n",
       " 'εφαρμογή': 387,\n",
       " 'αναφέρεται': 388,\n",
       " 'μπορούσε': 389,\n",
       " 'ένωσης': 390,\n",
       " 'σύνολο': 391,\n",
       " 'χθες': 392,\n",
       " 'καμμία': 393,\n",
       " 'κόστος': 394,\n",
       " 'σειρά': 395,\n",
       " 'λογική': 396,\n",
       " 'μπορείτε': 397,\n",
       " 'άποψη': 398,\n",
       " 'κόμματα': 399,\n",
       " 'πολιτικό': 400,\n",
       " 'δίνει': 401,\n",
       " 'όσα': 402,\n",
       " 'περιπτώσεις': 403,\n",
       " 'παιδιά': 404,\n",
       " 'πράξη': 405,\n",
       " 'συμβουλίου': 406,\n",
       " 'έγιναν': 407,\n",
       " 'μέσω': 408,\n",
       " 'ελλάδας': 409,\n",
       " 'περιοχές': 410,\n",
       " 'υπηρεσιών': 411,\n",
       " 'ποιο': 412,\n",
       " 'συνάδελφος': 413,\n",
       " 'γνωρίζετε': 414,\n",
       " 'νέο': 415,\n",
       " 'επομένως': 416,\n",
       " 'προηγουμένως': 417,\n",
       " 'εθνικό': 418,\n",
       " 'συνθήκες': 419,\n",
       " 'πάμε': 420,\n",
       " 'απλώς': 421,\n",
       " 'δέκα': 422,\n",
       " 'φυσικά': 423,\n",
       " 'συναδέλφους': 424,\n",
       " 'απέναντι': 425,\n",
       " 'διάστημα': 426,\n",
       " 'εκπρόσωπος': 427,\n",
       " 'προσωπικού': 428,\n",
       " 'φαίνεται': 429,\n",
       " 'βάρος': 430,\n",
       " 'έκθεση': 431,\n",
       " 'πάντα': 432,\n",
       " 'συριζα': 433,\n",
       " 'αγρότες': 434,\n",
       " 'ουσία': 435,\n",
       " 'μπορώ': 436,\n",
       " 'ερώτημα': 437,\n",
       " 'σύμβαση': 438,\n",
       " 'τροπολογίες': 439,\n",
       " 'λύση': 440,\n",
       " 'αντιπολίτευση': 441,\n",
       " 'φορείς': 442,\n",
       " 'μέλλον': 443,\n",
       " 'άλλοι': 444,\n",
       " 'τμήμα': 445,\n",
       " 'επιτέλους': 446,\n",
       " 'είχατε': 447,\n",
       " 'άλλους': 448,\n",
       " 'ευρώπη': 449,\n",
       " 'βρίσκεται': 450,\n",
       " 'δημοσίων': 451,\n",
       " 'διοίκηση': 452,\n",
       " 'λένε': 453,\n",
       " 'δείτε': 454,\n",
       " 'ευκαιρία': 455,\n",
       " 'προστασία': 456,\n",
       " 'πράγμα': 457,\n",
       " 'πρωθυπουργός': 458,\n",
       " 'έξι': 459,\n",
       " 'έως': 460,\n",
       " 'βήμα': 461,\n",
       " 'έλληνες': 462,\n",
       " 'έλεγχο': 463,\n",
       " 'αντιπολίτευσης': 464,\n",
       " 'χρόνου': 465,\n",
       " 'λάθος': 466,\n",
       " 'κατέθεσε': 467,\n",
       " 'υπηρεσία': 468,\n",
       " 'τριάντα': 469,\n",
       " 'πίσω': 470,\n",
       " 'δεύτερη': 471,\n",
       " 'ιστορία': 472,\n",
       " 'αντί': 473,\n",
       " 'μέρες': 474,\n",
       " 'άνθρωποι': 475,\n",
       " 'δικαιώματα': 476,\n",
       " 'ξέρουμε': 477,\n",
       " 'πολίτη': 478,\n",
       " 'προγράμματα': 479,\n",
       " 'είχα': 480,\n",
       " 'εργαζόμενους': 481,\n",
       " 'πολιτών': 482,\n",
       " 'πρώτα': 483,\n",
       " 'πορεία': 484,\n",
       " 'θεωρώ': 485,\n",
       " 'μπροστά': 486,\n",
       " 'εκλογές': 487,\n",
       " 'ειδικό': 488,\n",
       " 'εταιρεία': 489,\n",
       " 'συμφωνία': 490,\n",
       " 'υφυπουργός': 491,\n",
       " 'δεύτερον': 492,\n",
       " 'ελλήνων': 493,\n",
       " 'διοίκησης': 494,\n",
       " 'υπόθεση': 495,\n",
       " 'απ': 496,\n",
       " 'ποσοστό': 497,\n",
       " 'κάποιοι': 498,\n",
       " 'πάση': 499,\n",
       " 'παραπάνω': 500,\n",
       " 'πενήντα': 501,\n",
       " 'έργων': 502,\n",
       " 'αύριο': 503,\n",
       " 'εταιρείες': 504,\n",
       " 'μέρος': 505,\n",
       " 'επιχειρήσεων': 506,\n",
       " 'υπήρξε': 507,\n",
       " 'κανένας': 508,\n",
       " 'σημερινή': 509,\n",
       " 'περιπτώσει': 510,\n",
       " 'εκπαίδευση': 511,\n",
       " 'μεγάλες': 512,\n",
       " 'ελληνικός': 513,\n",
       " 'ισχύει': 514,\n",
       " 'αρχές': 515,\n",
       " 'πόσο': 516,\n",
       " 'προφανώς': 517,\n",
       " 'εργαζόμενοι': 518,\n",
       " 'άρθρων': 519,\n",
       " 'δουλειά': 520,\n",
       " 'κόσμο': 521,\n",
       " 'θέλουν': 522,\n",
       " 'κοινοβουλευτικός': 523,\n",
       " 'ερωτάται': 524,\n",
       " 'χρόνος': 525,\n",
       " 'γενικό': 526,\n",
       " 'έννοια': 527,\n",
       " 'τέτοιο': 528,\n",
       " 'ορίστε': 529,\n",
       " 'ρόλο': 530,\n",
       " 'συζητάμε': 531,\n",
       " 'έστω': 532,\n",
       " 'νέες': 533,\n",
       " 'κοινωνικό': 534,\n",
       " 'συνεδρίαση': 535,\n",
       " 'προβλέπεται': 536,\n",
       " 'μεγάλα': 537,\n",
       " 'κοινοβούλιο': 538,\n",
       " 'εκπαίδευσης': 539,\n",
       " 'ευθύνες': 540,\n",
       " 'γνωστό': 541,\n",
       " 'υπέρ': 542,\n",
       " 'παράγραφος': 543,\n",
       " 'αντιμετώπιση': 544,\n",
       " 'άκουσα': 545,\n",
       " 'δαπάνες': 546,\n",
       " 'ανθρώπους': 547,\n",
       " 'σύνταγμα': 548,\n",
       " 'δραχμές': 549,\n",
       " 'προϋποθέσεις': 550,\n",
       " 'πρώτον': 551,\n",
       " 'περιβάλλοντος': 552,\n",
       " 'σημασία': 553,\n",
       " 'εφόσον': 554,\n",
       " 'προστασίας': 555,\n",
       " 'κάναμε': 556,\n",
       " 'λειτουργεί': 557,\n",
       " 'παρελθόν': 558,\n",
       " 'κόμματος': 559,\n",
       " 'σωστά': 560,\n",
       " 'εμάς': 561,\n",
       " 'είπαμε': 562,\n",
       " 'ζωή': 563,\n",
       " 'εσάς': 564,\n",
       " 'κριτήρια': 565,\n",
       " 'ελλάδος': 566,\n",
       " 'χαρακτήρα': 567,\n",
       " 'συντάγματος': 568,\n",
       " 'συμφέροντα': 569,\n",
       " 'δικαίου': 570,\n",
       " 'δημιουργία': 571,\n",
       " 'απολύτως': 572,\n",
       " 'ταυτόχρονα': 573,\n",
       " 'έξω': 574,\n",
       " 'προϋπολογισμού': 575,\n",
       " 'έργου': 576,\n",
       " 'λόγος': 577,\n",
       " 'υπουργοί': 578,\n",
       " 'δυο': 579,\n",
       " 'παράγραφο': 580,\n",
       " 'έρθει': 581,\n",
       " 'αυτοδιοίκηση': 582,\n",
       " 'συμβαίνει': 583,\n",
       " 'κεφάλαιο': 584,\n",
       " 'παραγωγής': 585,\n",
       " 'ειδικά': 586,\n",
       " 'ελέγχου': 587,\n",
       " 'στόχο': 588,\n",
       " 'ορισμένες': 589,\n",
       " 'οικονομικά': 590,\n",
       " 'συγκεκριμένες': 591,\n",
       " 'αναφερθώ': 592,\n",
       " 'επιπλέον': 593,\n",
       " 'σχεδίου': 594,\n",
       " 'δικό': 595,\n",
       " 'ορισμένα': 596,\n",
       " 'συμμετοχή': 597,\n",
       " 'αγοράς': 598,\n",
       " 'καθεστώς': 599,\n",
       " 'υποχρέωση': 600,\n",
       " 'νέων': 601,\n",
       " 'όρους': 602,\n",
       " 'συμβάσεις': 603,\n",
       " 'αλλαγές': 604,\n",
       " 'τέσσερις': 605,\n",
       " 'επαναλαμβάνω': 606,\n",
       " 'επτά': 607,\n",
       " 'ενίσχυση': 608,\n",
       " 'μήπως': 609,\n",
       " 'αποτελέσματα': 610,\n",
       " 'βρίσκονται': 611,\n",
       " 'προηγούμενη': 612,\n",
       " 'βουλευτών': 613,\n",
       " 'παρέμβαση': 614,\n",
       " 'απλά': 615,\n",
       " 'προβλέπει': 616,\n",
       " 'πάνε': 617,\n",
       " 'πρωτοβουλία': 618,\n",
       " 'κυβερνήσεις': 619,\n",
       " 'άλλωστε': 620,\n",
       " 'αγαπητοί': 621,\n",
       " 'περιβάλλον': 622,\n",
       " 'πότε': 623,\n",
       " 'τράπεζες': 624,\n",
       " 'καλό': 625,\n",
       " 'δώσουμε': 626,\n",
       " 'επενδύσεις': 627,\n",
       " 'βλέπουμε': 628,\n",
       " 'συζητήσουμε': 629,\n",
       " 'απόψεις': 630,\n",
       " 'κοινή': 631,\n",
       " 'κάποιο': 632,\n",
       " 'βαθμό': 633,\n",
       " 'κέντρο': 634,\n",
       " 'οκτώ': 635,\n",
       " 'λεπτό': 636,\n",
       " 'λόγια': 637,\n",
       " 'α': 638,\n",
       " 'χρέος': 639,\n",
       " 'δυνάμεις': 640,\n",
       " 'υπ’': 641,\n",
       " 'γνωρίζουμε': 642,\n",
       " 'κομμάτων': 643,\n",
       " 'πολιτισμού': 644,\n",
       " 'κριτική': 645,\n",
       " 'αλλαγή': 646,\n",
       " 'περιφέρεια': 647,\n",
       " 'προϋπολογισμός': 648,\n",
       " 'είδους': 649,\n",
       " 'επιλογή': 650,\n",
       " 'τελευταίο': 651,\n",
       " 'ενέργειας': 652,\n",
       " 'κανονισμό': 653,\n",
       " 'εκατόν': 654,\n",
       " 'μέλη': 655,\n",
       " 'μεγαλύτερη': 656,\n",
       " 'πιστεύουμε': 657,\n",
       " 'τόπο': 658,\n",
       " 'ίδιος': 659,\n",
       " 'άδεια': 660,\n",
       " 'πλαίσια': 661,\n",
       " 'έλεγε': 662,\n",
       " 'άμεσα': 663,\n",
       " 'σαράντα': 664,\n",
       " 'μελέτη': 665,\n",
       " 'δεη': 666,\n",
       " 'συνεργασία': 667,\n",
       " 'δοθεί': 668,\n",
       " 'τράπεζα': 669,\n",
       " 'δικαιοσύνη': 670,\n",
       " 'μέρα': 671,\n",
       " 'εσωτερικών': 672,\n",
       " 'αγροτικής': 673,\n",
       " 'παρατηρήσεις': 674,\n",
       " 'πολλοί': 675,\n",
       " 'κοινωνίας': 676,\n",
       " 'εποχή': 677,\n",
       " 'δικαιωμάτων': 678,\n",
       " 'θεσσαλονίκης': 679,\n",
       " 'προχωρήσει': 680,\n",
       " 'τέτοιες': 681,\n",
       " 'ποιες': 682,\n",
       " 'χρήση': 683,\n",
       " 'τιμές': 684,\n",
       " 'κανονισμού': 685,\n",
       " 'συνολικά': 686,\n",
       " 'πολιτεία': 687,\n",
       " 'κέντρα': 688,\n",
       " 'πολιτικών': 689,\n",
       " 'όσοι': 690,\n",
       " 'ποσό': 691,\n",
       " 'οποίους': 692,\n",
       " 'αυτοδιοίκησης': 693,\n",
       " 'απαντήσει': 694,\n",
       " 'περισσότερα': 695,\n",
       " 'δεκτή': 696,\n",
       " 'υπόψη': 697,\n",
       " 'οικονομικής': 698,\n",
       " 'κυρίου': 699,\n",
       " 'αναφέρω': 700,\n",
       " 'ταμείο': 701,\n",
       " 'διάρκεια': 702,\n",
       " 'κοινωνικών': 703,\n",
       " 'διάλογο': 704,\n",
       " 'καλύτερα': 705,\n",
       " 'μόλις': 706,\n",
       " 'παιδεία': 707,\n",
       " 'διαχείριση': 708,\n",
       " 'στόχος': 709,\n",
       " 'αμέσως': 710,\n",
       " 'μέτρων': 711,\n",
       " 'υγεία': 712,\n",
       " 'κατάργηση': 713,\n",
       " 'άλλος': 714,\n",
       " 'εντός': 715,\n",
       " 'πλήρη': 716,\n",
       " 'έρχονται': 717,\n",
       " 'πρόεδρο': 718,\n",
       " 'τεράστια': 719,\n",
       " 'δώσω': 720,\n",
       " 'συνέπεια': 721,\n",
       " 'ψήφιση': 722,\n",
       " 'στήριξης': 723,\n",
       " 'νοσοκομεία': 724,\n",
       " 'δρόμο': 725,\n",
       " 'ασφαλώς': 726,\n",
       " 'πρόσωπα': 727,\n",
       " 'γεωργίας': 728,\n",
       " 'ταμεία': 729,\n",
       " 'υφυπουργέ': 730,\n",
       " 'σωστή': 731,\n",
       " 'προσωπικά': 732,\n",
       " 'παρατήρηση': 733,\n",
       " 'πολιτικά': 734,\n",
       " 'πια': 735,\n",
       " 'απασχόλησης': 736,\n",
       " 'νοσοκομείο': 737,\n",
       " 'ζωής': 738,\n",
       " 'γενική': 739,\n",
       " 'τάξης': 740,\n",
       " 'ενδεχομένως': 741,\n",
       " 'στοιχείο': 742,\n",
       " 'παραγωγή': 743,\n",
       " 'παίρνει': 744,\n",
       " 'συζητηθεί': 745,\n",
       " 'οποιαδήποτε': 746,\n",
       " 'τρόπος': 747,\n",
       " 'σχεδόν': 748,\n",
       " 'δήθεν': 749,\n",
       " 'παράλληλα': 750,\n",
       " 'θεωρούμε': 751,\n",
       " 'φέρει': 752,\n",
       " 'ικα': 753,\n",
       " 'έσοδα': 754,\n",
       " 'τίποτε': 755,\n",
       " 'τέσσερα': 756,\n",
       " 'δημιουργεί': 757,\n",
       " 'σοβαρά': 758,\n",
       " 'παπανδρέου': 759,\n",
       " 'δισ': 760,\n",
       " 'τοπική': 761,\n",
       " 'ημέρες': 762,\n",
       " 'δώσετε': 763,\n",
       " 'υπήρχαν': 764,\n",
       " 'εξέλιξη': 765,\n",
       " 'μ’': 766,\n",
       " 'περιοχής': 767,\n",
       " 'εικόνα': 768,\n",
       " 'αριστεράς': 769,\n",
       " 'λειτουργούν': 770,\n",
       " 'ευρώπης': 771,\n",
       " 'υπαλλήλων': 772,\n",
       " 'σημαντική': 773,\n",
       " 'β': 774,\n",
       " 'μονάδες': 775,\n",
       " 'εξουσία': 776,\n",
       " 'μήνα': 777,\n",
       " 'μέτρο': 778,\n",
       " 'δημόσιου': 779,\n",
       " 'εισηγητής': 780,\n",
       " 'χρονικό': 781,\n",
       " 'καθόλου': 782,\n",
       " 'δει': 783,\n",
       " 'επενδύσεων': 784,\n",
       " 'νομοθεσία': 785,\n",
       " 'κόσμος': 786,\n",
       " 'συναδέλφων': 787,\n",
       " 'ενδιαφέρον': 788,\n",
       " 'τροποποιήθηκε': 789,\n",
       " 'επιχείρηση': 790,\n",
       " 'πάντως': 791,\n",
       " 'τρίτη': 792,\n",
       " 'καλή': 793,\n",
       " 'ετών': 794,\n",
       " 'προεδρείο': 795,\n",
       " 'αίτημα': 796,\n",
       " 'συμφωνούμε': 797,\n",
       " 'εισόδημα': 798,\n",
       " 'προγράμματος': 799,\n",
       " 'έλεγχος': 800,\n",
       " 'κοινοβουλευτική': 801,\n",
       " 'εξωτερικό': 802,\n",
       " 'αποτελούν': 803,\n",
       " 'νομού': 804,\n",
       " 'εξωτερικών': 805,\n",
       " 'παρόν': 806,\n",
       " 'σχετική': 807,\n",
       " 'ανεργία': 808,\n",
       " 'δευτερολογία': 809,\n",
       " 'ειδική': 810,\n",
       " 'διατάξεων': 811,\n",
       " 'καν': 812,\n",
       " 'άποψή': 813,\n",
       " 'πάρουν': 814,\n",
       " 'δυνατότητες': 815,\n",
       " 'νομό': 816,\n",
       " 'δίκαιο': 817,\n",
       " 'τύπου': 818,\n",
       " 'βελτίωση': 819,\n",
       " 'κώδικα': 820,\n",
       " 'καλύτερη': 821,\n",
       " 'εθνικού': 822,\n",
       " 'μπει': 823,\n",
       " 'εξ': 824,\n",
       " 'πέραν': 825,\n",
       " 'φορέων': 826,\n",
       " 'μαθητές': 827,\n",
       " 'ασφάλισης': 828,\n",
       " 'σύνταξη': 829,\n",
       " 'λέξη': 830,\n",
       " 'τελειώνω': 831,\n",
       " 'σημαντικά': 832,\n",
       " 'άτομα': 833,\n",
       " 'αντικείμενο': 834,\n",
       " 'έδωσε': 835,\n",
       " 'δεκαπέντε': 836,\n",
       " 'προχωρήσουμε': 837,\n",
       " 'προϊόντα': 838,\n",
       " 'έγγραφο': 839,\n",
       " 'λεφτά': 840,\n",
       " 'έλλειμμα': 841,\n",
       " 'μιλάτε': 842,\n",
       " 'δαπανών': 843,\n",
       " 'υπουργών': 844,\n",
       " 'προέδρου': 845,\n",
       " 'κανόνες': 846,\n",
       " 'μέρους': 847,\n",
       " 'αθηνών': 848,\n",
       " 'νομοθετική': 849,\n",
       " 'ανεργίας': 850,\n",
       " 'γενικότερα': 851,\n",
       " 'σκοπό': 852,\n",
       " 'πόρους': 853,\n",
       " 'εμπειρία': 854,\n",
       " 'αρμοδιότητες': 855,\n",
       " 'περάσει': 856,\n",
       " 'συντάξεις': 857,\n",
       " 'αλλάξει': 858,\n",
       " 'τοπικής': 859,\n",
       " 'μπορέσει': 860,\n",
       " 'διαχείρισης': 861,\n",
       " 'χρειάζονται': 862,\n",
       " 'καιρό': 863,\n",
       " 'εις': 864,\n",
       " 'παρεμβάσεις': 865,\n",
       " 'χρηματοδότηση': 866,\n",
       " 'δικές': 867,\n",
       " 'ξέρει': 868,\n",
       " 'βλέπω': 869,\n",
       " 'καλύτερο': 870,\n",
       " 'στάση': 871,\n",
       " 'οποίων': 872,\n",
       " 'επικρατείας': 873,\n",
       " 'άνω': 874,\n",
       " 'ανθρώπων': 875,\n",
       " 'έλλειψη': 876,\n",
       " 'υπουργούς': 877,\n",
       " 'υπηρεσίας': 878,\n",
       " 'σοβαρό': 879,\n",
       " 'έκαναν': 880,\n",
       " 'κρίσης': 881,\n",
       " 'μεν': 882,\n",
       " 'συζήτησης': 883,\n",
       " 'υποχρεώσεις': 884,\n",
       " 'ποιοι': 885,\n",
       " 'συνεχώς': 886,\n",
       " 'κανέναν': 887,\n",
       " 'ευαισθησία': 888,\n",
       " 'μόνη': 889,\n",
       " 'ενημέρωσης': 890,\n",
       " 'ευρωπαϊκό': 891,\n",
       " 'ίδιοι': 892,\n",
       " 'συνασπισμού': 893,\n",
       " 'έτος': 894,\n",
       " 'γύρω': 895,\n",
       " 'κύκλου': 896,\n",
       " 'απαντήσω': 897,\n",
       " 'λειτουργήσει': 898,\n",
       " 'πόρων': 899,\n",
       " 'ημερών': 900,\n",
       " 'δεδομένα': 901,\n",
       " 'κεφαλαίου': 902,\n",
       " 'πράξεις': 903,\n",
       " 'οτε': 904,\n",
       " 'προϊόντων': 905,\n",
       " 'τομείς': 906,\n",
       " 'παίρνουν': 907,\n",
       " 'πρώην': 908,\n",
       " 'σχολεία': 909,\n",
       " 'μεγαλύτερο': 910,\n",
       " 'αριθμός': 911,\n",
       " 'καταθέσει': 912,\n",
       " 'ζητήσει': 913,\n",
       " 'νέους': 914,\n",
       " 'κείμενο': 915,\n",
       " 'προοπτική': 916,\n",
       " 'επιτροπές': 917,\n",
       " 'κκε': 918,\n",
       " 'αντίληψη': 919,\n",
       " 'αξιωματικής': 920,\n",
       " 'μορφή': 921,\n",
       " 'κομμουνιστικού': 922,\n",
       " 'τρίτο': 923,\n",
       " 'στελέχη': 924,\n",
       " 'σώματος': 925,\n",
       " 'αλλιώς': 926,\n",
       " 'απαντήσεις': 927,\n",
       " 'δηλώσεις': 928,\n",
       " 'τάξη': 929,\n",
       " 'διαφάνεια': 930,\n",
       " 'εργασία': 931,\n",
       " 'πολίτης': 932,\n",
       " 'κοινοβουλίου': 933,\n",
       " 'μεταφορών': 934,\n",
       " 'μπορέσουμε': 935,\n",
       " 'ήρθε': 936,\n",
       " 'ανάμεσα': 937,\n",
       " 'σχέσεις': 938,\n",
       " 'ανακοινώσω': 939,\n",
       " '–': 940,\n",
       " 'έρευνα': 941,\n",
       " 'επόμενη': 942,\n",
       " 'β΄': 943,\n",
       " 'αγώνες': 944,\n",
       " 'όρια': 945,\n",
       " 'καταθέσω': 946,\n",
       " 'πλευράς': 947,\n",
       " 'σημεία': 948,\n",
       " 'ώρες': 949,\n",
       " 'τόσα': 950,\n",
       " 'κοινωνικές': 951,\n",
       " 'διεθνή': 952,\n",
       " 'αξία': 953,\n",
       " 'διαφορά': 954,\n",
       " 'χέρια': 955,\n",
       " 'αθήνα': 956,\n",
       " 'δείχνει': 957,\n",
       " 'εναντίον': 958,\n",
       " 'οικονομικό': 959,\n",
       " 'ζητεί': 960,\n",
       " 'γνωρίζει': 961,\n",
       " 'αντίθετα': 962,\n",
       " 'συνάδελφο': 963,\n",
       " 'αναφέρομαι': 964,\n",
       " 'ερωτήσεις': 965,\n",
       " 'ασφάλεια': 966,\n",
       " 'ομιλία': 967,\n",
       " 'ημέρα': 968,\n",
       " 'αγροτική': 969,\n",
       " 'διαφορετικά': 970,\n",
       " 'αγροτών': 971,\n",
       " 'αναφέρονται': 972,\n",
       " 'πρωθυπουργού': 973,\n",
       " 'προβλημάτων': 974,\n",
       " 'νησιά': 975,\n",
       " 'πάρετε': 976,\n",
       " 'δήλωση': 977,\n",
       " 'δυνάμεων': 978,\n",
       " 'δίνετε': 979,\n",
       " 'πολλούς': 980,\n",
       " 'υπόλοιπα': 981,\n",
       " 'άμεση': 982,\n",
       " 'ανά': 983,\n",
       " 'διαδικασίας': 984,\n",
       " 'σωστό': 985,\n",
       " 'διάθεση': 986,\n",
       " 'νέου': 987,\n",
       " 'ηγεσία': 988,\n",
       " 'καθένας': 989,\n",
       " 'ευθύνης': 990,\n",
       " 'οδηγεί': 991,\n",
       " 'προσοχή': 992,\n",
       " 'θέσεων': 993,\n",
       " 'δίνουμε': 994,\n",
       " 'οργανισμού': 995,\n",
       " 'δημιουργήσει': 996,\n",
       " 'εντύπωση': 997,\n",
       " 'συνόλου': 998,\n",
       " 'μιλήσει': 999,\n",
       " 'όνομα': 1000,\n",
       " ...}"
      ]
     },
     "execution_count": 31,
     "metadata": {
      "tags": []
     },
     "output_type": "execute_result"
    }
   ],
   "source": [
    "word_index"
   ]
  },
  {
   "cell_type": "markdown",
   "metadata": {
    "id": "3w7WXyXh2Wb6"
   },
   "source": [
    "* Testing to see if it works correctly."
   ]
  },
  {
   "cell_type": "code",
   "execution_count": 32,
   "metadata": {
    "colab": {
     "base_uri": "https://localhost:8080/"
    },
    "id": "GXJl9CicCtB5",
    "outputId": "2d351c36-7d63-4d09-aa67-77f57d92c82e"
   },
   "outputs": [
    {
     "name": "stdout",
     "output_type": "stream",
     "text": [
      "εμείς ευχαριστούμε\n",
      "[35, 313]\n"
     ]
    }
   ],
   "source": [
    "print(X_train[20])\n",
    "print(train_sequences[20])\n"
   ]
  },
  {
   "cell_type": "markdown",
   "metadata": {
    "id": "PmUqcWghplc0"
   },
   "source": [
    "Testing that our sequences can be decoded to text to evaluate our work."
   ]
  },
  {
   "cell_type": "code",
   "execution_count": 33,
   "metadata": {
    "id": "WguohYMJCxrZ"
   },
   "outputs": [],
   "source": [
    "reverse_word_index = dict([(value,key) for (key,value) in word_index.items()])"
   ]
  },
  {
   "cell_type": "code",
   "execution_count": 34,
   "metadata": {
    "id": "fiejKeFNCyvl"
   },
   "outputs": [],
   "source": [
    "def decode(text):\n",
    "    return \" \".join([reverse_word_index.get(i,\"?\")for i in text])"
   ]
  },
  {
   "cell_type": "code",
   "execution_count": 35,
   "metadata": {
    "colab": {
     "base_uri": "https://localhost:8080/",
     "height": 35
    },
    "id": "T8SN4rkhCz2y",
    "outputId": "ef00fedc-5c69-4313-bfa2-10c43c173d50"
   },
   "outputs": [
    {
     "data": {
      "application/vnd.google.colaboratory.intrinsic+json": {
       "type": "string"
      },
      "text/plain": [
       "'εμείς ευχαριστούμε ? ? ? ? ? ? ? ? ? ? ? ? ? ? ? ? ? ? ? ? ? ? ? ? ? ? ? ? ? ? ? ? ? ? ? ? ? ?'"
      ]
     },
     "execution_count": 35,
     "metadata": {
      "tags": []
     },
     "output_type": "execute_result"
    }
   ],
   "source": [
    "decode(Xtr[20])"
   ]
  },
  {
   "cell_type": "markdown",
   "metadata": {
    "id": "8pGNQBBBp7nf"
   },
   "source": [
    "For our training and testing answers we are going to use .get_dummies function which pivots the matrix of y_train, y_test creating a new matrix with columns = political_parties and rows = speeches where 1 is the value of a cell that connects political party with its speeches and 0 otherwise."
   ]
  },
  {
   "cell_type": "code",
   "execution_count": 36,
   "metadata": {
    "id": "F-2X2nUqC0rh"
   },
   "outputs": [],
   "source": [
    "Ytr = pd.get_dummies(y_train).values\n",
    "Yte = pd.get_dummies(y_test).values"
   ]
  },
  {
   "cell_type": "code",
   "execution_count": 37,
   "metadata": {
    "colab": {
     "base_uri": "https://localhost:8080/"
    },
    "id": "R1xefzu5K80i",
    "outputId": "306048d7-4beb-49d1-f611-2e66563e9cd5"
   },
   "outputs": [
    {
     "name": "stdout",
     "output_type": "stream",
     "text": [
      "(767879, 40)\n",
      "(767879, 8)\n"
     ]
    }
   ],
   "source": [
    "print(Xtr.shape)\n",
    "print(Ytr.shape)"
   ]
  },
  {
   "cell_type": "markdown",
   "metadata": {
    "id": "yTc3OZYEqoJK"
   },
   "source": [
    "We are going to apply a random oversampler to balance our data without limiting it like before."
   ]
  },
  {
   "cell_type": "code",
   "execution_count": 38,
   "metadata": {
    "colab": {
     "base_uri": "https://localhost:8080/"
    },
    "id": "wwy5_o7IECnX",
    "outputId": "86af7334-7873-4ab8-91b1-e0dbf058ecc9"
   },
   "outputs": [
    {
     "name": "stderr",
     "output_type": "stream",
     "text": [
      "/usr/local/lib/python3.6/dist-packages/sklearn/externals/six.py:31: FutureWarning: The module is deprecated in version 0.21 and will be removed in version 0.23 since we've dropped support for Python 2.7. Please rely on the official version of six (https://pypi.org/project/six/).\n",
      "  \"(https://pypi.org/project/six/).\", FutureWarning)\n",
      "/usr/local/lib/python3.6/dist-packages/sklearn/utils/deprecation.py:144: FutureWarning: The sklearn.neighbors.base module is  deprecated in version 0.22 and will be removed in version 0.24. The corresponding classes / functions should instead be imported from sklearn.neighbors. Anything that cannot be imported from sklearn.neighbors is now part of the private API.\n",
      "  warnings.warn(message, FutureWarning)\n",
      "/usr/local/lib/python3.6/dist-packages/sklearn/utils/deprecation.py:87: FutureWarning: Function safe_indexing is deprecated; safe_indexing is deprecated in version 0.22 and will be removed in version 0.24.\n",
      "  warnings.warn(msg, category=FutureWarning)\n"
     ]
    }
   ],
   "source": [
    "from imblearn.over_sampling import RandomOverSampler\n",
    "\n",
    "ros = RandomOverSampler()\n",
    "X_train, Y_train = ros.fit_resample(Xtr, Ytr)"
   ]
  },
  {
   "cell_type": "markdown",
   "metadata": {
    "id": "CpYZUIPhqyyk"
   },
   "source": [
    "Notice the data almost tripling in size."
   ]
  },
  {
   "cell_type": "code",
   "execution_count": 39,
   "metadata": {
    "colab": {
     "base_uri": "https://localhost:8080/"
    },
    "id": "oMRF12cdLCV2",
    "outputId": "40b48a5d-3080-46ab-87e0-a897a27acaa3"
   },
   "outputs": [
    {
     "name": "stdout",
     "output_type": "stream",
     "text": [
      "(2161456, 40)\n",
      "(2161456, 8)\n"
     ]
    }
   ],
   "source": [
    "print(X_train.shape)\n",
    "print(Y_train.shape)"
   ]
  },
  {
   "cell_type": "markdown",
   "metadata": {
    "id": "gvalaH6Iq9Wr"
   },
   "source": [
    "# **Creating the model**. \n",
    "* Starting with an embedding layer\n",
    "* One LSTM layer \n",
    "* One Dense layer\n",
    "\n",
    "We are going to use a `softmax` activation function and an `adam` optimizer.\n",
    "\n",
    "* I experimented with various architectures, activation functions, numbers of layers and hyperparameters.\n",
    "\n",
    " * The embedding output is set to 32 to manage time of training.\n",
    " * The LSTM layer is set to 64 with a dropout rate of 0.5. I had slightly better results (43% val_accuracy) with a dropout of 0.1 but there was no time to train it again so below i display the results with a dropout rate of 0.5.\n",
    " \n",
    " * The dense layer has 8 neurons due to the number of our classes and the activation function is softmax since its known to be effective for multiclass classification problems.\n",
    " \n",
    " * No extra hidden layers were added in order to limit parameter number and overfitting."
   ]
  },
  {
   "cell_type": "code",
   "execution_count": 43,
   "metadata": {
    "colab": {
     "base_uri": "https://localhost:8080/"
    },
    "id": "wpkeBGs_EEEq",
    "outputId": "f86cc44a-cad6-4fb6-aab5-d94fee42a3e8"
   },
   "outputs": [
    {
     "name": "stdout",
     "output_type": "stream",
     "text": [
      "Model: \"sequential_1\"\n",
      "_________________________________________________________________\n",
      "Layer (type)                 Output Shape              Param #   \n",
      "=================================================================\n",
      "embedding_1 (Embedding)      (None, 40, 32)            24623232  \n",
      "_________________________________________________________________\n",
      "lstm_1 (LSTM)                (None, 64)                24832     \n",
      "_________________________________________________________________\n",
      "dense_1 (Dense)              (None, 8)                 520       \n",
      "=================================================================\n",
      "Total params: 24,648,584\n",
      "Trainable params: 24,648,584\n",
      "Non-trainable params: 0\n",
      "_________________________________________________________________\n"
     ]
    }
   ],
   "source": [
    "from tensorflow.keras.models import Sequential \n",
    "from tensorflow.keras.layers import Embedding, LSTM, Dense, Dropout, GRU\n",
    "from tensorflow.keras.initializers import Constant\n",
    "from tensorflow.keras.optimizers import Adam\n",
    "from tensorflow.keras import regularizers\n",
    "\n",
    "def create_model():\n",
    "  model = Sequential()\n",
    "\n",
    "  model.add(Embedding (num_words, 32,input_length =max_length))\n",
    "  model.add(LSTM(64, dropout= 0.05))\n",
    "\n",
    "\n",
    "\n",
    "  model.add(Dense(8, activation = \"softmax\"))\n",
    "  \n",
    "\n",
    "  optimizer = Adam(learning_rate = 3e-4)\n",
    "\n",
    "  model.compile(loss = \"categorical_crossentropy\", optimizer = optimizer, metrics = [\"accuracy\"])\n",
    "\n",
    "  return model\n",
    "#with tpu_strategy.scope():\n",
    "  model = create_model()\n",
    "model.summary()"
   ]
  },
  {
   "cell_type": "markdown",
   "metadata": {
    "id": "EDKwDZ1qsY2h"
   },
   "source": [
    "* Training the model. Again, trial and error process took place to find the best batch size and number of epochs whilst managing time of training."
   ]
  },
  {
   "cell_type": "code",
   "execution_count": 44,
   "metadata": {
    "colab": {
     "base_uri": "https://localhost:8080/"
    },
    "id": "bovJ03YYEGC2",
    "outputId": "9ddd6859-5c26-41bd-a83f-1d7cfe925405"
   },
   "outputs": [
    {
     "name": "stdout",
     "output_type": "stream",
     "text": [
      "Epoch 1/15\n",
      "8444/8444 [==============================] - 252s 29ms/step - loss: 1.5926 - accuracy: 0.3491 - val_loss: 1.7051 - val_accuracy: 0.2657\n",
      "Epoch 2/15\n",
      "8444/8444 [==============================] - 240s 28ms/step - loss: 1.0573 - accuracy: 0.5973 - val_loss: 1.5547 - val_accuracy: 0.3507\n",
      "Epoch 3/15\n",
      "8444/8444 [==============================] - 242s 29ms/step - loss: 0.9130 - accuracy: 0.6473 - val_loss: 1.5804 - val_accuracy: 0.3594\n",
      "Epoch 4/15\n",
      "8444/8444 [==============================] - 242s 29ms/step - loss: 0.8472 - accuracy: 0.6738 - val_loss: 1.5941 - val_accuracy: 0.3716\n",
      "Epoch 5/15\n",
      "8444/8444 [==============================] - 242s 29ms/step - loss: 0.7994 - accuracy: 0.6948 - val_loss: 1.6814 - val_accuracy: 0.3763\n",
      "Epoch 6/15\n",
      "8444/8444 [==============================] - 240s 28ms/step - loss: 0.7630 - accuracy: 0.7106 - val_loss: 1.7035 - val_accuracy: 0.3923\n",
      "Epoch 7/15\n",
      "8444/8444 [==============================] - 239s 28ms/step - loss: 0.7346 - accuracy: 0.7227 - val_loss: 1.7358 - val_accuracy: 0.3972\n",
      "Epoch 8/15\n",
      "8444/8444 [==============================] - 241s 29ms/step - loss: 0.7122 - accuracy: 0.7317 - val_loss: 1.7464 - val_accuracy: 0.4118\n",
      "Epoch 9/15\n",
      "8444/8444 [==============================] - 242s 29ms/step - loss: 0.6911 - accuracy: 0.7406 - val_loss: 1.8040 - val_accuracy: 0.4049\n",
      "Epoch 10/15\n",
      "8444/8444 [==============================] - 241s 29ms/step - loss: 0.6743 - accuracy: 0.7469 - val_loss: 1.8442 - val_accuracy: 0.4132\n",
      "Epoch 11/15\n",
      "8444/8444 [==============================] - 242s 29ms/step - loss: 0.6611 - accuracy: 0.7522 - val_loss: 1.8666 - val_accuracy: 0.4113\n",
      "Epoch 12/15\n",
      "8444/8444 [==============================] - 240s 28ms/step - loss: 0.6480 - accuracy: 0.7573 - val_loss: 1.9580 - val_accuracy: 0.4006\n",
      "Epoch 13/15\n",
      "8444/8444 [==============================] - 241s 29ms/step - loss: 0.6369 - accuracy: 0.7623 - val_loss: 1.9591 - val_accuracy: 0.4027\n",
      "Epoch 14/15\n",
      "8444/8444 [==============================] - 242s 29ms/step - loss: 0.6291 - accuracy: 0.7655 - val_loss: 1.9892 - val_accuracy: 0.3996\n",
      "Epoch 15/15\n",
      "8444/8444 [==============================] - 243s 29ms/step - loss: 0.6178 - accuracy: 0.7691 - val_loss: 2.0902 - val_accuracy: 0.4005\n"
     ]
    }
   ],
   "source": [
    "callback = tf.keras.callbacks.EarlyStopping(monitor='loss', patience=3)\n",
    "\n",
    "\n",
    "\n",
    "\n",
    "history = model.fit(\n",
    " X_train, Y_train, epochs = 15,batch_size = 256, validation_data = (Xte, Yte),callbacks = [callback] \n",
    ")"
   ]
  },
  {
   "cell_type": "markdown",
   "metadata": {},
   "source": [
    "**`val_accuracy` : 0.40%, `accuracy` = 0.76%**"
   ]
  },
  {
   "cell_type": "code",
   "execution_count": 45,
   "metadata": {
    "id": "pDQgtt-lEKmg"
   },
   "outputs": [],
   "source": [
    "#accr = model.evaluate(X_test,Y_test)\n",
    "#print('Test set\\n  Loss: {:0.3f}\\n  Accuracy: {:0.3f}'.format(accr[0],accr[1]))"
   ]
  },
  {
   "cell_type": "markdown",
   "metadata": {
    "id": "9ug9W3yRsnB_"
   },
   "source": [
    "* Training loss and testing loss"
   ]
  },
  {
   "cell_type": "code",
   "execution_count": 46,
   "metadata": {
    "colab": {
     "base_uri": "https://localhost:8080/",
     "height": 281
    },
    "id": "tABtcxhmKB5j",
    "outputId": "9f356044-fd18-4953-edd4-a8010497d7bc"
   },
   "outputs": [
    {
     "data": {
      "image/png": "[encoded data removed]",
      "text/plain": [
       "<Figure size 432x288 with 1 Axes>"
      ]
     },
     "metadata": {
      "needs_background": "light",
      "tags": []
     },
     "output_type": "display_data"
    }
   ],
   "source": [
    "plt.title('Loss')\n",
    "plt.plot(history.history['loss'], label='train')\n",
    "plt.plot(history.history['val_loss'], label='test')\n",
    "plt.legend()\n",
    "plt.show();"
   ]
  },
  {
   "cell_type": "markdown",
   "metadata": {
    "id": "j9V_R8cjsy1d"
   },
   "source": [
    "* Training accuracy and testing accuracy"
   ]
  },
  {
   "cell_type": "code",
   "execution_count": 47,
   "metadata": {
    "colab": {
     "base_uri": "https://localhost:8080/",
     "height": 281
    },
    "id": "OQfQq0pOVSpz",
    "outputId": "066a7f99-0d00-479e-c0fc-f62738b893e0"
   },
   "outputs": [
    {
     "data": {
      "image/png": "[encoded data removed]",
      "text/plain": [
       "<Figure size 432x288 with 1 Axes>"
      ]
     },
     "metadata": {
      "needs_background": "light",
      "tags": []
     },
     "output_type": "display_data"
    }
   ],
   "source": [
    "plt.title('Accuracy')\n",
    "plt.plot(history.history['accuracy'], label='train')\n",
    "plt.plot(history.history['val_accuracy'], label='test')\n",
    "plt.legend()\n",
    "plt.show();"
   ]
  },
  {
   "cell_type": "markdown",
   "metadata": {
    "id": "5QCNbt4jms3N"
   },
   "source": [
    "# **Text Generation**"
   ]
  },
  {
   "cell_type": "markdown",
   "metadata": {
    "id": "COHjR6sIs4LL"
   },
   "source": [
    "* Importing necessary modules."
   ]
  },
  {
   "cell_type": "code",
   "execution_count": 1,
   "metadata": {
    "id": "FQzrXRJJmvvJ"
   },
   "outputs": [],
   "source": [
    "import tensorflow as tf\n",
    "from tensorflow.keras.layers.experimental import preprocessing\n",
    "\n",
    "import numpy as np\n",
    "import os\n",
    "import time"
   ]
  },
  {
   "cell_type": "markdown",
   "metadata": {
    "id": "Fy9wch8As8VX"
   },
   "source": [
    "* Importing the dataset once again."
   ]
  },
  {
   "cell_type": "code",
   "execution_count": 2,
   "metadata": {
    "colab": {
     "base_uri": "https://localhost:8080/",
     "height": 855
    },
    "id": "cgaBlEbxsa3w",
    "outputId": "46547fc7-8e87-4114-fa67-42ae987b3140"
   },
   "outputs": [
    {
     "data": {
      "text/html": [
       "<div>\n",
       "<style scoped>\n",
       "    .dataframe tbody tr th:only-of-type {\n",
       "        vertical-align: middle;\n",
       "    }\n",
       "\n",
       "    .dataframe tbody tr th {\n",
       "        vertical-align: top;\n",
       "    }\n",
       "\n",
       "    .dataframe thead th {\n",
       "        text-align: right;\n",
       "    }\n",
       "</style>\n",
       "<table border=\"1\" class=\"dataframe\">\n",
       "  <thead>\n",
       "    <tr style=\"text-align: right;\">\n",
       "      <th></th>\n",
       "      <th>member_name</th>\n",
       "      <th>sitting_date</th>\n",
       "      <th>parliamentary_period</th>\n",
       "      <th>parliamentary_session</th>\n",
       "      <th>parliamentary_sitting</th>\n",
       "      <th>political_party</th>\n",
       "      <th>speaker_info</th>\n",
       "      <th>speech</th>\n",
       "    </tr>\n",
       "  </thead>\n",
       "  <tbody>\n",
       "    <tr>\n",
       "      <th>0</th>\n",
       "      <td>κρητικος νικολαου παναγιωτης</td>\n",
       "      <td>1989-07-03</td>\n",
       "      <td>period 5</td>\n",
       "      <td>session 1</td>\n",
       "      <td>sitting 1</td>\n",
       "      <td>πανελληνιο σοσιαλιστικο κινημα</td>\n",
       "      <td>προεδρευων</td>\n",
       "      <td>Παρακαλείται ο Γραμματέας κ. Βουλγαράκης να σ...</td>\n",
       "    </tr>\n",
       "    <tr>\n",
       "      <th>1</th>\n",
       "      <td>κρητικος νικολαου παναγιωτης</td>\n",
       "      <td>1989-07-03</td>\n",
       "      <td>period 5</td>\n",
       "      <td>session 1</td>\n",
       "      <td>sitting 1</td>\n",
       "      <td>πανελληνιο σοσιαλιστικο κινημα</td>\n",
       "      <td>προεδρευων</td>\n",
       "      <td>Παρακαλείται ο κύριος Γραμματέας να συνοδεύσε...</td>\n",
       "    </tr>\n",
       "    <tr>\n",
       "      <th>2</th>\n",
       "      <td>κρητικος νικολαου παναγιωτης</td>\n",
       "      <td>1989-07-03</td>\n",
       "      <td>period 5</td>\n",
       "      <td>session 1</td>\n",
       "      <td>sitting 1</td>\n",
       "      <td>πανελληνιο σοσιαλιστικο κινημα</td>\n",
       "      <td>προεδρευων</td>\n",
       "      <td>Κύριοι συνάδελφοι, παρακαλώ τη Βουλή να εξουσ...</td>\n",
       "    </tr>\n",
       "    <tr>\n",
       "      <th>3</th>\n",
       "      <td>NaN</td>\n",
       "      <td>1989-07-03</td>\n",
       "      <td>period 5</td>\n",
       "      <td>session 1</td>\n",
       "      <td>sitting 1</td>\n",
       "      <td>βουλη</td>\n",
       "      <td>βουλευτης/ες</td>\n",
       "      <td>Μάλιστα, μάλιστα.</td>\n",
       "    </tr>\n",
       "    <tr>\n",
       "      <th>4</th>\n",
       "      <td>κρητικος νικολαου παναγιωτης</td>\n",
       "      <td>1989-07-03</td>\n",
       "      <td>period 5</td>\n",
       "      <td>session 1</td>\n",
       "      <td>sitting 1</td>\n",
       "      <td>πανελληνιο σοσιαλιστικο κινημα</td>\n",
       "      <td>προεδρευων</td>\n",
       "      <td>Η Βουλή παρέσχε τη ζητηθείσα εξουσιοδότηση. Μ...</td>\n",
       "    </tr>\n",
       "    <tr>\n",
       "      <th>...</th>\n",
       "      <td>...</td>\n",
       "      <td>...</td>\n",
       "      <td>...</td>\n",
       "      <td>...</td>\n",
       "      <td>...</td>\n",
       "      <td>...</td>\n",
       "      <td>...</td>\n",
       "      <td>...</td>\n",
       "    </tr>\n",
       "    <tr>\n",
       "      <th>1194402</th>\n",
       "      <td>συντυχακης δανιηλ εμμανουηλ</td>\n",
       "      <td>2019-02-22</td>\n",
       "      <td>period 17 presided parliamentary republic</td>\n",
       "      <td>session 4</td>\n",
       "      <td>sitting 82</td>\n",
       "      <td>κομμουνιστικο κομμα ελλαδας</td>\n",
       "      <td>NaN</td>\n",
       "      <td>Κύριε Πρόεδρε, οι καταστροφές προφανώς δεν ήτ...</td>\n",
       "    </tr>\n",
       "    <tr>\n",
       "      <th>1194403</th>\n",
       "      <td>κακλαμανης μιχαηλ νικητας</td>\n",
       "      <td>2019-02-22</td>\n",
       "      <td>period 17 presided parliamentary republic</td>\n",
       "      <td>session 4</td>\n",
       "      <td>sitting 82</td>\n",
       "      <td>νεα δημοκρατια</td>\n",
       "      <td>προεδρευων</td>\n",
       "      <td>Ορίστε, κύριε Υπουργέ, έχετε τον λόγο.</td>\n",
       "    </tr>\n",
       "    <tr>\n",
       "      <th>1194404</th>\n",
       "      <td>κακλαμανης μιχαηλ νικητας</td>\n",
       "      <td>2019-02-22</td>\n",
       "      <td>period 17 presided parliamentary republic</td>\n",
       "      <td>session 4</td>\n",
       "      <td>sitting 82</td>\n",
       "      <td>νεα δημοκρατια</td>\n",
       "      <td>προεδρευων</td>\n",
       "      <td>Αρκεί και το κεντρικό κράτος, κύριε Υπουργέ, ...</td>\n",
       "    </tr>\n",
       "    <tr>\n",
       "      <th>1194405</th>\n",
       "      <td>NaN</td>\n",
       "      <td>2019-02-22</td>\n",
       "      <td>period 17 presided parliamentary republic</td>\n",
       "      <td>session 4</td>\n",
       "      <td>sitting 82</td>\n",
       "      <td>βουλη</td>\n",
       "      <td>βουλευτης/ες</td>\n",
       "      <td>Μάλιστα, μάλιστα.</td>\n",
       "    </tr>\n",
       "    <tr>\n",
       "      <th>1194406</th>\n",
       "      <td>κακλαμανης μιχαηλ νικητας</td>\n",
       "      <td>2019-02-22</td>\n",
       "      <td>period 17 presided parliamentary republic</td>\n",
       "      <td>session 4</td>\n",
       "      <td>sitting 82</td>\n",
       "      <td>νεα δημοκρατια</td>\n",
       "      <td>προεδρευων</td>\n",
       "      <td>Με τη συναίνεση του Σώματος και ώρα 11.25΄ λύ...</td>\n",
       "    </tr>\n",
       "  </tbody>\n",
       "</table>\n",
       "<p>1194407 rows × 8 columns</p>\n",
       "</div>"
      ],
      "text/plain": [
       "                          member_name  ...                                             speech\n",
       "0        κρητικος νικολαου παναγιωτης  ...   Παρακαλείται ο Γραμματέας κ. Βουλγαράκης να σ...\n",
       "1        κρητικος νικολαου παναγιωτης  ...   Παρακαλείται ο κύριος Γραμματέας να συνοδεύσε...\n",
       "2        κρητικος νικολαου παναγιωτης  ...   Κύριοι συνάδελφοι, παρακαλώ τη Βουλή να εξουσ...\n",
       "3                                 NaN  ...                                  Μάλιστα, μάλιστα.\n",
       "4        κρητικος νικολαου παναγιωτης  ...   Η Βουλή παρέσχε τη ζητηθείσα εξουσιοδότηση. Μ...\n",
       "...                               ...  ...                                                ...\n",
       "1194402   συντυχακης δανιηλ εμμανουηλ  ...   Κύριε Πρόεδρε, οι καταστροφές προφανώς δεν ήτ...\n",
       "1194403     κακλαμανης μιχαηλ νικητας  ...             Ορίστε, κύριε Υπουργέ, έχετε τον λόγο.\n",
       "1194404     κακλαμανης μιχαηλ νικητας  ...   Αρκεί και το κεντρικό κράτος, κύριε Υπουργέ, ...\n",
       "1194405                           NaN  ...                                  Μάλιστα, μάλιστα.\n",
       "1194406     κακλαμανης μιχαηλ νικητας  ...   Με τη συναίνεση του Σώματος και ώρα 11.25΄ λύ...\n",
       "\n",
       "[1194407 rows x 8 columns]"
      ]
     },
     "execution_count": 2,
     "metadata": {
      "tags": []
     },
     "output_type": "execute_result"
    }
   ],
   "source": [
    "import pandas as pd\n",
    "speechs=pd.read_csv('https://zenodo.org/record/2587904/files/Greek_Parliament_Proceedings_1989_2019.csv.zip', dtype = str)\n",
    "speechs.isnull().sum()\n",
    "speechs"
   ]
  },
  {
   "cell_type": "markdown",
   "metadata": {
    "id": "eGvf2AHvs-8u"
   },
   "source": [
    "* This time we are not going to remove punctuation or higher case characters. This function removes the digits from the text.\n",
    "Applying it to our dataset."
   ]
  },
  {
   "cell_type": "code",
   "execution_count": 35,
   "metadata": {
    "id": "faA7D-aLsyWZ"
   },
   "outputs": [],
   "source": [
    "speechs = speechs.astype(str)\n",
    "\n"
   ]
  },
  {
   "cell_type": "markdown",
   "metadata": {
    "id": "I937vTPStRPm"
   },
   "source": [
    "* Picking one random `political_party` to generate text from, limiting dataset to 5.000 rows for training time management."
   ]
  },
  {
   "cell_type": "code",
   "execution_count": 36,
   "metadata": {
    "id": "_rG4wDvvmxf9"
   },
   "outputs": [],
   "source": [
    "generate = speechs.loc[speechs['political_party'] == 'κομμουνιστικο κομμα ελλαδας'].head(5000)\n"
   ]
  },
  {
   "cell_type": "code",
   "execution_count": 37,
   "metadata": {
    "id": "-WBja8dQdxJF"
   },
   "outputs": [],
   "source": [
    "import nltk\n",
    "def clean_text(text):\n",
    "\n",
    "    text = ''.join([i for i in text if not i.isdigit()])\n",
    "\n",
    "    return text\n",
    "    \n",
    "generate['speech'] = generate['speech'].apply(clean_text)"
   ]
  },
  {
   "cell_type": "code",
   "execution_count": 38,
   "metadata": {
    "colab": {
     "base_uri": "https://localhost:8080/",
     "height": 704
    },
    "id": "sB7nyPvAmxlt",
    "outputId": "c89d39c8-387e-4abc-cd38-433ddec35a92"
   },
   "outputs": [
    {
     "data": {
      "text/html": [
       "<div>\n",
       "<style scoped>\n",
       "    .dataframe tbody tr th:only-of-type {\n",
       "        vertical-align: middle;\n",
       "    }\n",
       "\n",
       "    .dataframe tbody tr th {\n",
       "        vertical-align: top;\n",
       "    }\n",
       "\n",
       "    .dataframe thead th {\n",
       "        text-align: right;\n",
       "    }\n",
       "</style>\n",
       "<table border=\"1\" class=\"dataframe\">\n",
       "  <thead>\n",
       "    <tr style=\"text-align: right;\">\n",
       "      <th></th>\n",
       "      <th>member_name</th>\n",
       "      <th>sitting_date</th>\n",
       "      <th>parliamentary_period</th>\n",
       "      <th>parliamentary_session</th>\n",
       "      <th>parliamentary_sitting</th>\n",
       "      <th>political_party</th>\n",
       "      <th>speaker_info</th>\n",
       "      <th>speech</th>\n",
       "    </tr>\n",
       "  </thead>\n",
       "  <tbody>\n",
       "    <tr>\n",
       "      <th>97</th>\n",
       "      <td>καππος βασιλειου κωνσταντινος</td>\n",
       "      <td>1989-07-07</td>\n",
       "      <td>period 5</td>\n",
       "      <td>session 1</td>\n",
       "      <td>sitting 5</td>\n",
       "      <td>κομμουνιστικο κομμα ελλαδας</td>\n",
       "      <td>nan</td>\n",
       "      <td>Δεν χρειάζεται. ΓΙΑΝΝΗΣ Ν.</td>\n",
       "    </tr>\n",
       "    <tr>\n",
       "      <th>98</th>\n",
       "      <td>καππος βασιλειου κωνσταντινος</td>\n",
       "      <td>1989-07-07</td>\n",
       "      <td>period 5</td>\n",
       "      <td>session 1</td>\n",
       "      <td>sitting 5</td>\n",
       "      <td>κομμουνιστικο κομμα ελλαδας</td>\n",
       "      <td>nan</td>\n",
       "      <td>Είπα και εναντίον του ΠΑΣΟΚ. ΓΙΑΝΝΗΣ Ν.</td>\n",
       "    </tr>\n",
       "    <tr>\n",
       "      <th>1896</th>\n",
       "      <td>κορακας χρηστου ευστρατιος</td>\n",
       "      <td>1989-07-21</td>\n",
       "      <td>period 5</td>\n",
       "      <td>session 1</td>\n",
       "      <td>sitting 11</td>\n",
       "      <td>κομμουνιστικο κομμα ελλαδας</td>\n",
       "      <td>nan</td>\n",
       "      <td>Είπαμε, ότι θέλουμε να συζητηθεί το θέμα.</td>\n",
       "    </tr>\n",
       "    <tr>\n",
       "      <th>1949</th>\n",
       "      <td>κορακας χρηστου ευστρατιος</td>\n",
       "      <td>1989-07-21</td>\n",
       "      <td>period 5</td>\n",
       "      <td>session 1</td>\n",
       "      <td>sitting 11</td>\n",
       "      <td>κομμουνιστικο κομμα ελλαδας</td>\n",
       "      <td>nan</td>\n",
       "      <td>Υπάρχει Σύνταγμα και κακώς διώξατε τους αστυν...</td>\n",
       "    </tr>\n",
       "    <tr>\n",
       "      <th>2317</th>\n",
       "      <td>κορακας χρηστου ευστρατιος</td>\n",
       "      <td>1989-09-01</td>\n",
       "      <td>period 5</td>\n",
       "      <td>session 1</td>\n",
       "      <td>sitting 28</td>\n",
       "      <td>κομμουνιστικο κομμα ελλαδας</td>\n",
       "      <td>nan</td>\n",
       "      <td>Κάπως καθυστερημένα!</td>\n",
       "    </tr>\n",
       "    <tr>\n",
       "      <th>...</th>\n",
       "      <td>...</td>\n",
       "      <td>...</td>\n",
       "      <td>...</td>\n",
       "      <td>...</td>\n",
       "      <td>...</td>\n",
       "      <td>...</td>\n",
       "      <td>...</td>\n",
       "      <td>...</td>\n",
       "    </tr>\n",
       "    <tr>\n",
       "      <th>256001</th>\n",
       "      <td>γκατζης φιλιππου νικολαος</td>\n",
       "      <td>1997-05-21</td>\n",
       "      <td>period 9 presided parliamentary republic</td>\n",
       "      <td>session 1</td>\n",
       "      <td>sitting 132</td>\n",
       "      <td>κομμουνιστικο κομμα ελλαδας</td>\n",
       "      <td>nan</td>\n",
       "      <td>Κατά πλειοψηφία.</td>\n",
       "    </tr>\n",
       "    <tr>\n",
       "      <th>256005</th>\n",
       "      <td>γκατζης φιλιππου νικολαος</td>\n",
       "      <td>1997-05-21</td>\n",
       "      <td>period 9 presided parliamentary republic</td>\n",
       "      <td>session 1</td>\n",
       "      <td>sitting 132</td>\n",
       "      <td>κομμουνιστικο κομμα ελλαδας</td>\n",
       "      <td>nan</td>\n",
       "      <td>Κατά πλειοψηφία.</td>\n",
       "    </tr>\n",
       "    <tr>\n",
       "      <th>256009</th>\n",
       "      <td>γκατζης φιλιππου νικολαος</td>\n",
       "      <td>1997-05-21</td>\n",
       "      <td>period 9 presided parliamentary republic</td>\n",
       "      <td>session 1</td>\n",
       "      <td>sitting 132</td>\n",
       "      <td>κομμουνιστικο κομμα ελλαδας</td>\n",
       "      <td>nan</td>\n",
       "      <td>Κατά πλειοψηφία.</td>\n",
       "    </tr>\n",
       "    <tr>\n",
       "      <th>256013</th>\n",
       "      <td>γκατζης φιλιππου νικολαος</td>\n",
       "      <td>1997-05-21</td>\n",
       "      <td>period 9 presided parliamentary republic</td>\n",
       "      <td>session 1</td>\n",
       "      <td>sitting 132</td>\n",
       "      <td>κομμουνιστικο κομμα ελλαδας</td>\n",
       "      <td>nan</td>\n",
       "      <td>Κατά πλειοψηφία.</td>\n",
       "    </tr>\n",
       "    <tr>\n",
       "      <th>256017</th>\n",
       "      <td>γκατζης φιλιππου νικολαος</td>\n",
       "      <td>1997-05-21</td>\n",
       "      <td>period 9 presided parliamentary republic</td>\n",
       "      <td>session 1</td>\n",
       "      <td>sitting 132</td>\n",
       "      <td>κομμουνιστικο κομμα ελλαδας</td>\n",
       "      <td>nan</td>\n",
       "      <td>Κατά πλειοψηφία.</td>\n",
       "    </tr>\n",
       "  </tbody>\n",
       "</table>\n",
       "<p>5000 rows × 8 columns</p>\n",
       "</div>"
      ],
      "text/plain": [
       "                          member_name  ...                                             speech\n",
       "97      καππος βασιλειου κωνσταντινος  ...                         Δεν χρειάζεται. ΓΙΑΝΝΗΣ Ν.\n",
       "98      καππος βασιλειου κωνσταντινος  ...            Είπα και εναντίον του ΠΑΣΟΚ. ΓΙΑΝΝΗΣ Ν.\n",
       "1896       κορακας χρηστου ευστρατιος  ...          Είπαμε, ότι θέλουμε να συζητηθεί το θέμα.\n",
       "1949       κορακας χρηστου ευστρατιος  ...   Υπάρχει Σύνταγμα και κακώς διώξατε τους αστυν...\n",
       "2317       κορακας χρηστου ευστρατιος  ...                               Κάπως καθυστερημένα!\n",
       "...                               ...  ...                                                ...\n",
       "256001      γκατζης φιλιππου νικολαος  ...                                   Κατά πλειοψηφία.\n",
       "256005      γκατζης φιλιππου νικολαος  ...                                   Κατά πλειοψηφία.\n",
       "256009      γκατζης φιλιππου νικολαος  ...                                   Κατά πλειοψηφία.\n",
       "256013      γκατζης φιλιππου νικολαος  ...                                   Κατά πλειοψηφία.\n",
       "256017      γκατζης φιλιππου νικολαος  ...                                   Κατά πλειοψηφία.\n",
       "\n",
       "[5000 rows x 8 columns]"
      ]
     },
     "execution_count": 38,
     "metadata": {
      "tags": []
     },
     "output_type": "execute_result"
    }
   ],
   "source": [
    "generate"
   ]
  },
  {
   "cell_type": "markdown",
   "metadata": {
    "id": "MAot6_mmtoSd"
   },
   "source": [
    " * Creating one big string by adding all 10000 speeches with a space inbetween."
   ]
  },
  {
   "cell_type": "code",
   "execution_count": 39,
   "metadata": {
    "id": "J-5KBwbFmxoq"
   },
   "outputs": [],
   "source": [
    "text = generate.speech.str.cat(sep=' ')"
   ]
  },
  {
   "cell_type": "markdown",
   "metadata": {
    "id": "dW1iJoTzus75"
   },
   "source": [
    "* Counting the unique characters."
   ]
  },
  {
   "cell_type": "code",
   "execution_count": 40,
   "metadata": {
    "colab": {
     "base_uri": "https://localhost:8080/",
     "height": 35
    },
    "id": "bSqDSXUKmxtm",
    "outputId": "027a5a4f-59fb-4d7c-bd58-dd2a5b05a13f"
   },
   "outputs": [
    {
     "data": {
      "application/vnd.google.colaboratory.intrinsic+json": {
       "type": "string"
      },
      "text/plain": [
       "'.'"
      ]
     },
     "execution_count": 40,
     "metadata": {
      "tags": []
     },
     "output_type": "execute_result"
    }
   ],
   "source": [
    "text[15]"
   ]
  },
  {
   "cell_type": "code",
   "execution_count": 41,
   "metadata": {
    "colab": {
     "base_uri": "https://localhost:8080/"
    },
    "id": "d8CAfEXKmxxI",
    "outputId": "d43f7275-81bc-447f-ca48-e9226b66aff9"
   },
   "outputs": [
    {
     "name": "stdout",
     "output_type": "stream",
     "text": [
      "145 unique characters\n"
     ]
    }
   ],
   "source": [
    "vocab = sorted(set(text))\n",
    "print('{} unique characters'.format(len(vocab)))"
   ]
  },
  {
   "cell_type": "markdown",
   "metadata": {
    "id": "xkHWSMuAvBiY"
   },
   "source": [
    "* **Vectorizing text**"
   ]
  },
  {
   "cell_type": "code",
   "execution_count": 42,
   "metadata": {
    "colab": {
     "base_uri": "https://localhost:8080/"
    },
    "id": "uYGd5tVwmxzP",
    "outputId": "5475c589-c428-4c65-dbbd-5e399a96772c"
   },
   "outputs": [
    {
     "data": {
      "text/plain": [
       "<tf.RaggedTensor [[b'\\xce\\x9a', b'\\xce\\xb1', b'\\xce\\xbb', b'\\xce\\xb7', b'\\xcf\\x83', b'\\xcf\\x80', b'\\xce\\xad', b'\\xcf\\x81', b'\\xce\\xb1'], [b'\\xce\\xa3', b'\\xce\\xae', b'\\xce\\xbc', b'\\xce\\xb5', b'\\xcf\\x81', b'\\xce\\xb1']]>"
      ]
     },
     "execution_count": 42,
     "metadata": {
      "tags": []
     },
     "output_type": "execute_result"
    }
   ],
   "source": [
    "example_texts = ['Καλησπέρα', 'Σήμερα']\n",
    "\n",
    "chars = tf.strings.unicode_split(example_texts, input_encoding='UTF-8')\n",
    "chars"
   ]
  },
  {
   "cell_type": "code",
   "execution_count": 43,
   "metadata": {
    "id": "MxRJyRE7mx1V"
   },
   "outputs": [],
   "source": [
    "ids_from_chars = preprocessing.StringLookup(vocabulary=list(vocab))"
   ]
  },
  {
   "cell_type": "code",
   "execution_count": 44,
   "metadata": {
    "colab": {
     "base_uri": "https://localhost:8080/"
    },
    "id": "VYxUxiPMmx3c",
    "outputId": "2864505b-64d0-429f-9689-68cbb61114e9"
   },
   "outputs": [
    {
     "data": {
      "text/plain": [
       "<tf.RaggedTensor [[93, 113, 123, 119, 131, 128, 110, 129, 113], [101, 111, 124, 117, 129, 113]]>"
      ]
     },
     "execution_count": 44,
     "metadata": {
      "tags": []
     },
     "output_type": "execute_result"
    }
   ],
   "source": [
    "ids = ids_from_chars(chars)\n",
    "ids"
   ]
  },
  {
   "cell_type": "code",
   "execution_count": 45,
   "metadata": {
    "colab": {
     "base_uri": "https://localhost:8080/"
    },
    "id": "0YsDfFMimx5u",
    "outputId": "d25b0bb1-c91e-4b59-f43c-345590a8d92f"
   },
   "outputs": [
    {
     "data": {
      "text/plain": [
       "<tf.RaggedTensor [[b'\\xce\\x9a', b'\\xce\\xb1', b'\\xce\\xbb', b'\\xce\\xb7', b'\\xcf\\x83', b'\\xcf\\x80', b'\\xce\\xad', b'\\xcf\\x81', b'\\xce\\xb1'], [b'\\xce\\xa3', b'\\xce\\xae', b'\\xce\\xbc', b'\\xce\\xb5', b'\\xcf\\x81', b'\\xce\\xb1']]>"
      ]
     },
     "execution_count": 45,
     "metadata": {
      "tags": []
     },
     "output_type": "execute_result"
    }
   ],
   "source": [
    "chars_from_ids = tf.keras.layers.experimental.preprocessing.StringLookup(\n",
    "    vocabulary=ids_from_chars.get_vocabulary(), invert=True)\n",
    "\n",
    "chars = chars_from_ids(ids)\n",
    "chars"
   ]
  },
  {
   "cell_type": "code",
   "execution_count": 46,
   "metadata": {
    "colab": {
     "base_uri": "https://localhost:8080/"
    },
    "id": "0gl2bCcamx8-",
    "outputId": "68d7dbd5-9ee5-4fba-fce7-ec38bfa90e10"
   },
   "outputs": [
    {
     "data": {
      "text/plain": [
       "array([b'\\xce\\x9a\\xce\\xb1\\xce\\xbb\\xce\\xb7\\xcf\\x83\\xcf\\x80\\xce\\xad\\xcf\\x81\\xce\\xb1',\n",
       "       b'\\xce\\xa3\\xce\\xae\\xce\\xbc\\xce\\xb5\\xcf\\x81\\xce\\xb1'], dtype=object)"
      ]
     },
     "execution_count": 46,
     "metadata": {
      "tags": []
     },
     "output_type": "execute_result"
    }
   ],
   "source": [
    "tf.strings.reduce_join(chars, axis=-1).numpy()"
   ]
  },
  {
   "cell_type": "code",
   "execution_count": 47,
   "metadata": {
    "id": "OSf2u_MSmx_N"
   },
   "outputs": [],
   "source": [
    "def text_from_ids(ids):\n",
    "    return tf.strings.reduce_join(chars_from_ids(ids), axis=-1)"
   ]
  },
  {
   "cell_type": "markdown",
   "metadata": {
    "id": "VEHN6YPBvY9q"
   },
   "source": [
    "* Dividing the text into example sequences."
   ]
  },
  {
   "cell_type": "code",
   "execution_count": 48,
   "metadata": {
    "colab": {
     "base_uri": "https://localhost:8080/"
    },
    "id": "1mkKV5FImyCN",
    "outputId": "5456ada9-8f4b-486f-cf01-bf5105fc33db"
   },
   "outputs": [
    {
     "data": {
      "text/plain": [
       "<tf.Tensor: shape=(5931792,), dtype=int64, numpy=array([  2,  87, 117, ..., 112, 113,  12])>"
      ]
     },
     "execution_count": 48,
     "metadata": {
      "tags": []
     },
     "output_type": "execute_result"
    }
   ],
   "source": [
    "all_ids = ids_from_chars(tf.strings.unicode_split(text, 'UTF-8'))\n",
    "all_ids"
   ]
  },
  {
   "cell_type": "code",
   "execution_count": 49,
   "metadata": {
    "id": "7RThFOnlmyEa"
   },
   "outputs": [],
   "source": [
    "ids_dataset = tf.data.Dataset.from_tensor_slices(all_ids)"
   ]
  },
  {
   "cell_type": "code",
   "execution_count": 50,
   "metadata": {
    "colab": {
     "base_uri": "https://localhost:8080/"
    },
    "id": "B14BRjrXmyHX",
    "outputId": "2e20bef0-c841-425e-c923-efaf76b5f7eb"
   },
   "outputs": [
    {
     "name": "stdout",
     "output_type": "stream",
     "text": [
      " \n",
      "Δ\n",
      "ε\n",
      "ν\n",
      " \n",
      "χ\n",
      "ρ\n",
      "ε\n",
      "ι\n",
      "ά\n"
     ]
    }
   ],
   "source": [
    "for ids in ids_dataset.take(10):\n",
    "    print(chars_from_ids(ids).numpy().decode('utf-8'))"
   ]
  },
  {
   "cell_type": "code",
   "execution_count": 51,
   "metadata": {
    "id": "sTkswz9kmyJi"
   },
   "outputs": [],
   "source": [
    "seq_length = 100\n",
    "examples_per_epoch = len(text)//(seq_length+1)"
   ]
  },
  {
   "cell_type": "code",
   "execution_count": 52,
   "metadata": {
    "colab": {
     "base_uri": "https://localhost:8080/"
    },
    "id": "b-Eig8RrmyMh",
    "outputId": "7473a57d-6194-4a6a-b82f-a2fd3c260cfe"
   },
   "outputs": [
    {
     "name": "stdout",
     "output_type": "stream",
     "text": [
      "tf.Tensor(\n",
      "[b' ' b'\\xce\\x94' b'\\xce\\xb5' b'\\xce\\xbd' b' ' b'\\xcf\\x87' b'\\xcf\\x81'\n",
      " b'\\xce\\xb5' b'\\xce\\xb9' b'\\xce\\xac' b'\\xce\\xb6' b'\\xce\\xb5' b'\\xcf\\x84'\n",
      " b'\\xce\\xb1' b'\\xce\\xb9' b'.' b' ' b'\\xce\\x93' b'\\xce\\x99' b'\\xce\\x91'\n",
      " b'\\xce\\x9d' b'\\xce\\x9d' b'\\xce\\x97' b'\\xce\\xa3' b' ' b'\\xce\\x9d' b'.'\n",
      " b' ' b' ' b'\\xce\\x95' b'\\xce\\xaf' b'\\xcf\\x80' b'\\xce\\xb1' b' '\n",
      " b'\\xce\\xba' b'\\xce\\xb1' b'\\xce\\xb9' b' ' b'\\xce\\xb5' b'\\xce\\xbd'\n",
      " b'\\xce\\xb1' b'\\xce\\xbd' b'\\xcf\\x84' b'\\xce\\xaf' b'\\xce\\xbf' b'\\xce\\xbd'\n",
      " b' ' b'\\xcf\\x84' b'\\xce\\xbf' b'\\xcf\\x85' b' ' b'\\xce\\xa0' b'\\xce\\x91'\n",
      " b'\\xce\\xa3' b'\\xce\\x9f' b'\\xce\\x9a' b'.' b' ' b'\\xce\\x93' b'\\xce\\x99'\n",
      " b'\\xce\\x91' b'\\xce\\x9d' b'\\xce\\x9d' b'\\xce\\x97' b'\\xce\\xa3' b' '\n",
      " b'\\xce\\x9d' b'.' b' ' b' ' b'\\xce\\x95' b'\\xce\\xaf' b'\\xcf\\x80'\n",
      " b'\\xce\\xb1' b'\\xce\\xbc' b'\\xce\\xb5' b',' b' ' b'\\xcf\\x8c' b'\\xcf\\x84'\n",
      " b'\\xce\\xb9' b' ' b'\\xce\\xb8' b'\\xce\\xad' b'\\xce\\xbb' b'\\xce\\xbf'\n",
      " b'\\xcf\\x85' b'\\xce\\xbc' b'\\xce\\xb5' b' ' b'\\xce\\xbd' b'\\xce\\xb1' b' '\n",
      " b'\\xcf\\x83' b'\\xcf\\x85' b'\\xce\\xb6' b'\\xce\\xb7' b'\\xcf\\x84' b'\\xce\\xb7'\n",
      " b'\\xce\\xb8' b'\\xce\\xb5'], shape=(101,), dtype=string)\n"
     ]
    }
   ],
   "source": [
    "sequences = ids_dataset.batch(seq_length+1, drop_remainder=True)\n",
    "\n",
    "for seq in sequences.take(1):\n",
    "    print(chars_from_ids(seq))"
   ]
  },
  {
   "cell_type": "code",
   "execution_count": 53,
   "metadata": {
    "colab": {
     "base_uri": "https://localhost:8080/"
    },
    "id": "gIUzlexbmyPG",
    "outputId": "f31f7884-88e8-489a-a9e1-da0b007de9d5"
   },
   "outputs": [
    {
     "name": "stdout",
     "output_type": "stream",
     "text": [
      "b' \\xce\\x94\\xce\\xb5\\xce\\xbd \\xcf\\x87\\xcf\\x81\\xce\\xb5\\xce\\xb9\\xce\\xac\\xce\\xb6\\xce\\xb5\\xcf\\x84\\xce\\xb1\\xce\\xb9. \\xce\\x93\\xce\\x99\\xce\\x91\\xce\\x9d\\xce\\x9d\\xce\\x97\\xce\\xa3 \\xce\\x9d.  \\xce\\x95\\xce\\xaf\\xcf\\x80\\xce\\xb1 \\xce\\xba\\xce\\xb1\\xce\\xb9 \\xce\\xb5\\xce\\xbd\\xce\\xb1\\xce\\xbd\\xcf\\x84\\xce\\xaf\\xce\\xbf\\xce\\xbd \\xcf\\x84\\xce\\xbf\\xcf\\x85 \\xce\\xa0\\xce\\x91\\xce\\xa3\\xce\\x9f\\xce\\x9a. \\xce\\x93\\xce\\x99\\xce\\x91\\xce\\x9d\\xce\\x9d\\xce\\x97\\xce\\xa3 \\xce\\x9d.  \\xce\\x95\\xce\\xaf\\xcf\\x80\\xce\\xb1\\xce\\xbc\\xce\\xb5, \\xcf\\x8c\\xcf\\x84\\xce\\xb9 \\xce\\xb8\\xce\\xad\\xce\\xbb\\xce\\xbf\\xcf\\x85\\xce\\xbc\\xce\\xb5 \\xce\\xbd\\xce\\xb1 \\xcf\\x83\\xcf\\x85\\xce\\xb6\\xce\\xb7\\xcf\\x84\\xce\\xb7\\xce\\xb8\\xce\\xb5'\n",
      "b'\\xce\\xaf \\xcf\\x84\\xce\\xbf \\xce\\xb8\\xce\\xad\\xce\\xbc\\xce\\xb1.  \\xce\\xa5\\xcf\\x80\\xce\\xac\\xcf\\x81\\xcf\\x87\\xce\\xb5\\xce\\xb9 \\xce\\xa3\\xcf\\x8d\\xce\\xbd\\xcf\\x84\\xce\\xb1\\xce\\xb3\\xce\\xbc\\xce\\xb1 \\xce\\xba\\xce\\xb1\\xce\\xb9 \\xce\\xba\\xce\\xb1\\xce\\xba\\xcf\\x8e\\xcf\\x82 \\xce\\xb4\\xce\\xb9\\xcf\\x8e\\xce\\xbe\\xce\\xb1\\xcf\\x84\\xce\\xb5 \\xcf\\x84\\xce\\xbf\\xcf\\x85\\xcf\\x82 \\xce\\xb1\\xcf\\x83\\xcf\\x84\\xcf\\x85\\xce\\xbd\\xce\\xbf\\xce\\xbc\\xce\\xb9\\xce\\xba\\xce\\xbf\\xcf\\x8d\\xcf\\x82 \\xce\\xb3\\xce\\xb9\\xce\\xb1 \\xcf\\x83\\xcf\\x85\\xce\\xbd\\xce\\xb4\\xce\\xb9\\xce\\xba\\xce\\xb1\\xce\\xbb\\xce\\xb9\\xcf\\x83\\xcf\\x84\\xce\\xb9\\xce\\xba\\xce\\xbf\\xcf\\x8d\\xcf\\x82 \\xce\\xbb\\xcf\\x8c\\xce\\xb3\\xce\\xbf\\xcf\\x85\\xcf\\x82, \\xce\\xb4\\xce\\xb9\\xcf\\x8c\\xcf\\x84\\xce\\xb9 \\xce\\xb5'\n",
      "b'\\xce\\xaf\\xce\\xbd\\xce\\xb1\\xce\\xb9 \\xce\\xb1\\xcf\\x80\\xcf\\x8c\\xce\\xbb\\xcf\\x85\\xcf\\x84\\xce\\xb1 \\xce\\xbd\\xcf\\x8c\\xce\\xbc\\xce\\xb9\\xce\\xbc\\xce\\xbf \\xcf\\x84\\xce\\xbf \\xce\\xb4\\xce\\xb9\\xce\\xba\\xce\\xb1\\xce\\xaf\\xcf\\x89\\xce\\xbc\\xce\\xac \\xcf\\x84\\xce\\xbf\\xcf\\x85\\xcf\\x82.  \\xce\\x9a\\xce\\xac\\xcf\\x80\\xcf\\x89\\xcf\\x82 \\xce\\xba\\xce\\xb1\\xce\\xb8\\xcf\\x85\\xcf\\x83\\xcf\\x84\\xce\\xb5\\xcf\\x81\\xce\\xb7\\xce\\xbc\\xce\\xad\\xce\\xbd\\xce\\xb1!  \\xce\\xa3\\xce\\xb5 \\xcf\\x80\\xce\\xbf\\xce\\xb9\\xce\\xbf\\xce\\xbd \\xce\\xbd\\xce\\xbf\\xce\\xbc\\xcf\\x8c;  \\xce\\x94\\xce\\xb5\\xcf\\x8d\\xcf\\x84\\xce\\xb5\\xcf\\x81\\xce\\xbf\\xcf\\x85 \\xce\\xb2\\xce\\xb1\\xce\\xb8\\xce\\xbc\\xce\\xbf\\xcf\\x8d \\xcf\\x84\\xce\\xbf\\xcf\\x80\\xce\\xb9\\xce\\xba\\xce\\xae \\xce\\xb1'\n",
      "b'\\xcf\\x85\\xcf\\x84\\xce\\xbf\\xce\\xb4\\xce\\xb9\\xce\\xbf\\xce\\xaf\\xce\\xba\\xce\\xb7\\xcf\\x83\\xce\\xb7 \\xce\\xad\\xce\\xba\\xce\\xb1\\xce\\xbd\\xce\\xb5 \\xcf\\x84\\xce\\xbf \\xce\\xa0\\xce\\x91\\xce\\xa3\\xce\\x9f\\xce\\x9a;  \\xce\\x9a\\xcf\\x85\\xcf\\x81\\xcf\\x8e\\xcf\\x83\\xce\\xb5\\xce\\xb9\\xcf\\x82 \\xce\\xb4\\xce\\xb9\\xce\\xba\\xcf\\x8e\\xce\\xbd \\xcf\\x83\\xce\\xb1\\xcf\\x82 \\xce\\xb1\\xcf\\x80\\xce\\xbf\\xcf\\x86\\xce\\xac\\xcf\\x83\\xce\\xb5\\xcf\\x89\\xce\\xbd \\xce\\xba\\xce\\xac\\xce\\xbd\\xce\\xb5\\xce\\xb9 \\xcf\\x84\\xce\\xbf \\xce\\xbd\\xce\\xbf\\xce\\xbc\\xce\\xbf\\xcf\\x83\\xcf\\x87\\xce\\xad\\xce\\xb4\\xce\\xb9\\xce\\xbf.  \\xce\\xa0\\xce\\xbf\\xcf\\x8d \\xce\\xb2\\xcf\\x81\\xce\\xb9\\xcf\\x83\\xce\\xba\\xcf\\x8c\\xce\\xbc\\xce\\xb1\\xcf\\x83\\xcf\\x84\\xce\\xb5; \\xce\\x95\\xcf\\x83\\xce\\xb5\\xce\\xaf'\n",
      "b'\\xcf\\x82 \\xcf\\x84\\xce\\xbf \\xce\\xbb\\xce\\xad\\xcf\\x84\\xce\\xb5 \\xce\\xb1\\xcf\\x85\\xcf\\x84\\xcf\\x8c;  \\xce\\xa0\\xcf\\x81\\xcf\\x8e\\xcf\\x84\\xce\\xb7 \\xcf\\x86\\xce\\xbf\\xcf\\x81\\xce\\xac \\xcf\\x83\\xcf\\x84\\xce\\xb1\\xce\\xbc\\xce\\xb1\\xcf\\x84\\xce\\xac\\xce\\xbc\\xce\\xb5 \\xcf\\x83\\xcf\\x84\\xce\\xb7 \\xce\\xbc\\xce\\xad\\xcf\\x83\\xce\\xb7 \\xce\\xac\\xcf\\x81\\xce\\xb8\\xcf\\x81\\xce\\xbf\\xcf\\x85.  \\xce\\xa0\\xcf\\x81\\xce\\xad\\xcf\\x80\\xce\\xb5\\xce\\xb9 \\xce\\xba\\xce\\xac\\xcf\\x80\\xce\\xbf\\xcf\\x84\\xce\\xb5 \\xce\\xbd\\xce\\xb1 \\xcf\\x83\\xcf\\x84\\xce\\xb1\\xce\\xbc\\xce\\xb1\\xcf\\x84\\xce\\xae\\xcf\\x83\\xce\\xb5\\xce\\xb9 \\xce\\xb1\\xcf\\x85\\xcf\\x84\\xce\\xae \\xce\\xb7 \\xcf\\x84\\xce\\xb1\\xce\\xba\\xcf\\x84\\xce\\xb9\\xce\\xba\\xce\\xae \\xcf\\x84\\xce\\xb7'\n"
     ]
    }
   ],
   "source": [
    "for seq in sequences.take(5):\n",
    "    print(text_from_ids(seq).numpy())"
   ]
  },
  {
   "cell_type": "code",
   "execution_count": 54,
   "metadata": {
    "id": "uZuibIgmnEBs"
   },
   "outputs": [],
   "source": [
    "def split_input_target(sequence):\n",
    "    input_text = sequence[:-1]\n",
    "    target_text = sequence[1:]\n",
    "    return input_text, target_text"
   ]
  },
  {
   "cell_type": "code",
   "execution_count": 55,
   "metadata": {
    "colab": {
     "base_uri": "https://localhost:8080/"
    },
    "id": "eVcA382LnED5",
    "outputId": "33a650c3-7e78-47b7-96a2-85af5ac95233"
   },
   "outputs": [
    {
     "data": {
      "text/plain": [
       "(['T', 'e', 'n', 's', 'o', 'r', 'f', 'l', 'o'],\n",
       " ['e', 'n', 's', 'o', 'r', 'f', 'l', 'o', 'w'])"
      ]
     },
     "execution_count": 55,
     "metadata": {
      "tags": []
     },
     "output_type": "execute_result"
    }
   ],
   "source": [
    "split_input_target(list(\"Tensorflow\"))\n"
   ]
  },
  {
   "cell_type": "code",
   "execution_count": 56,
   "metadata": {
    "id": "qRhFOFVXnEGU"
   },
   "outputs": [],
   "source": [
    "dataset = sequences.map(split_input_target)"
   ]
  },
  {
   "cell_type": "code",
   "execution_count": 57,
   "metadata": {
    "colab": {
     "base_uri": "https://localhost:8080/"
    },
    "id": "0cdRi3ERnEI0",
    "outputId": "ef873122-34dc-4eb8-c418-7c24e6b26e47"
   },
   "outputs": [
    {
     "name": "stdout",
     "output_type": "stream",
     "text": [
      "Input : b' \\xce\\x94\\xce\\xb5\\xce\\xbd \\xcf\\x87\\xcf\\x81\\xce\\xb5\\xce\\xb9\\xce\\xac\\xce\\xb6\\xce\\xb5\\xcf\\x84\\xce\\xb1\\xce\\xb9. \\xce\\x93\\xce\\x99\\xce\\x91\\xce\\x9d\\xce\\x9d\\xce\\x97\\xce\\xa3 \\xce\\x9d.  \\xce\\x95\\xce\\xaf\\xcf\\x80\\xce\\xb1 \\xce\\xba\\xce\\xb1\\xce\\xb9 \\xce\\xb5\\xce\\xbd\\xce\\xb1\\xce\\xbd\\xcf\\x84\\xce\\xaf\\xce\\xbf\\xce\\xbd \\xcf\\x84\\xce\\xbf\\xcf\\x85 \\xce\\xa0\\xce\\x91\\xce\\xa3\\xce\\x9f\\xce\\x9a. \\xce\\x93\\xce\\x99\\xce\\x91\\xce\\x9d\\xce\\x9d\\xce\\x97\\xce\\xa3 \\xce\\x9d.  \\xce\\x95\\xce\\xaf\\xcf\\x80\\xce\\xb1\\xce\\xbc\\xce\\xb5, \\xcf\\x8c\\xcf\\x84\\xce\\xb9 \\xce\\xb8\\xce\\xad\\xce\\xbb\\xce\\xbf\\xcf\\x85\\xce\\xbc\\xce\\xb5 \\xce\\xbd\\xce\\xb1 \\xcf\\x83\\xcf\\x85\\xce\\xb6\\xce\\xb7\\xcf\\x84\\xce\\xb7\\xce\\xb8'\n",
      "Target: b'\\xce\\x94\\xce\\xb5\\xce\\xbd \\xcf\\x87\\xcf\\x81\\xce\\xb5\\xce\\xb9\\xce\\xac\\xce\\xb6\\xce\\xb5\\xcf\\x84\\xce\\xb1\\xce\\xb9. \\xce\\x93\\xce\\x99\\xce\\x91\\xce\\x9d\\xce\\x9d\\xce\\x97\\xce\\xa3 \\xce\\x9d.  \\xce\\x95\\xce\\xaf\\xcf\\x80\\xce\\xb1 \\xce\\xba\\xce\\xb1\\xce\\xb9 \\xce\\xb5\\xce\\xbd\\xce\\xb1\\xce\\xbd\\xcf\\x84\\xce\\xaf\\xce\\xbf\\xce\\xbd \\xcf\\x84\\xce\\xbf\\xcf\\x85 \\xce\\xa0\\xce\\x91\\xce\\xa3\\xce\\x9f\\xce\\x9a. \\xce\\x93\\xce\\x99\\xce\\x91\\xce\\x9d\\xce\\x9d\\xce\\x97\\xce\\xa3 \\xce\\x9d.  \\xce\\x95\\xce\\xaf\\xcf\\x80\\xce\\xb1\\xce\\xbc\\xce\\xb5, \\xcf\\x8c\\xcf\\x84\\xce\\xb9 \\xce\\xb8\\xce\\xad\\xce\\xbb\\xce\\xbf\\xcf\\x85\\xce\\xbc\\xce\\xb5 \\xce\\xbd\\xce\\xb1 \\xcf\\x83\\xcf\\x85\\xce\\xb6\\xce\\xb7\\xcf\\x84\\xce\\xb7\\xce\\xb8\\xce\\xb5'\n"
     ]
    }
   ],
   "source": [
    "for input_example, target_example in  dataset.take(1):\n",
    "    print(\"Input :\", text_from_ids(input_example).numpy())\n",
    "    print(\"Target:\", text_from_ids(target_example).numpy())"
   ]
  },
  {
   "cell_type": "markdown",
   "metadata": {
    "id": "m4Ym08u7vfjk"
   },
   "source": [
    "* Creating training batches, batch size is set to 5.000 to manage training time."
   ]
  },
  {
   "cell_type": "code",
   "execution_count": 58,
   "metadata": {
    "colab": {
     "base_uri": "https://localhost:8080/"
    },
    "id": "a0n0DDHZnELU",
    "outputId": "02517ff9-bf19-4ab0-8760-2c313649d4b4"
   },
   "outputs": [
    {
     "data": {
      "text/plain": [
       "<PrefetchDataset shapes: ((5000, 100), (5000, 100)), types: (tf.int64, tf.int64)>"
      ]
     },
     "execution_count": 58,
     "metadata": {
      "tags": []
     },
     "output_type": "execute_result"
    }
   ],
   "source": [
    "# Batch size\n",
    "BATCH_SIZE = 5000\n",
    "\n",
    "# Buffer size to shuffle the dataset\n",
    "# (TF data is designed to work with possibly infinite sequences,\n",
    "# so it doesn't attempt to shuffle the entire sequence in memory. Instead,\n",
    "# it maintains a buffer in which it shuffles elements).\n",
    "BUFFER_SIZE = 10000\n",
    "\n",
    "dataset = (\n",
    "    dataset\n",
    "    .shuffle(BUFFER_SIZE)\n",
    "    .batch(BATCH_SIZE, drop_remainder=True)\n",
    "    .prefetch(tf.data.experimental.AUTOTUNE))\n",
    "\n",
    "dataset"
   ]
  },
  {
   "cell_type": "markdown",
   "metadata": {
    "id": "F1Nnfb7Lvn1c"
   },
   "source": [
    " * **Building the model , commented out code is used to connect with the tpu of colab.**"
   ]
  },
  {
   "cell_type": "code",
   "execution_count": 59,
   "metadata": {
    "id": "820cD7DNnENo"
   },
   "outputs": [],
   "source": [
    "# Length of the vocabulary in chars\n",
    "vocab_size = len(vocab)\n",
    "\n",
    "# The embedding dimension\n",
    "embedding_dim = 256\n",
    "\n",
    "# Number of RNN units\n",
    "rnn_units = 1024"
   ]
  },
  {
   "cell_type": "code",
   "execution_count": 60,
   "metadata": {
    "id": "epIo810enEQE"
   },
   "outputs": [],
   "source": [
    "#with tpu_strategy.scope():\n",
    "  class MyModel(tf.keras.Model):\n",
    "      def __init__(self, vocab_size, embedding_dim, rnn_units):\n",
    "          super().__init__(self)\n",
    "          self.embedding = tf.keras.layers.Embedding(vocab_size, embedding_dim)\n",
    "          self.gru = tf.keras.layers.GRU(rnn_units,\n",
    "                                        return_sequences=True, \n",
    "                                        return_state=True)\n",
    "          self.dense = tf.keras.layers.Dense(vocab_size)\n",
    "\n",
    "      def call(self, inputs, states=None, return_state=False, training=False):\n",
    "          x = inputs\n",
    "          x = self.embedding(x, training=training)\n",
    "          if states is None:\n",
    "              states = self.gru.get_initial_state(x)\n",
    "          x, states = self.gru(x, initial_state=states, training=training)\n",
    "          x = self.dense(x, training=training)\n",
    "\n",
    "          if return_state:\n",
    "              return x, states\n",
    "          else: \n",
    "              return x\n"
   ]
  },
  {
   "cell_type": "code",
   "execution_count": 61,
   "metadata": {
    "id": "zMNUhkwRnN4u"
   },
   "outputs": [],
   "source": [
    "model = MyModel(\n",
    "    # Be sure the vocabulary size matches the `StringLookup` layers.\n",
    "    vocab_size=len(ids_from_chars.get_vocabulary()),\n",
    "    embedding_dim=embedding_dim,\n",
    "    rnn_units=rnn_units)\n"
   ]
  },
  {
   "cell_type": "code",
   "execution_count": 62,
   "metadata": {
    "colab": {
     "base_uri": "https://localhost:8080/"
    },
    "id": "2C5mkEuinN7C",
    "outputId": "3e0fa757-c012-488e-97e1-b476d12555ac"
   },
   "outputs": [
    {
     "name": "stdout",
     "output_type": "stream",
     "text": [
      "(5000, 100, 147) # (batch_size, sequence_length, vocab_size)\n"
     ]
    }
   ],
   "source": [
    "for input_example_batch, target_example_batch in dataset.take(1):\n",
    "    example_batch_predictions = model(input_example_batch)\n",
    "    print(example_batch_predictions.shape, \"# (batch_size, sequence_length, vocab_size)\")"
   ]
  },
  {
   "cell_type": "code",
   "execution_count": 63,
   "metadata": {
    "colab": {
     "base_uri": "https://localhost:8080/"
    },
    "id": "_qdEWLftnN9f",
    "outputId": "35cd1975-e773-480b-eb1e-708082f14f2a"
   },
   "outputs": [
    {
     "name": "stdout",
     "output_type": "stream",
     "text": [
      "Model: \"my_model_1\"\n",
      "_________________________________________________________________\n",
      "Layer (type)                 Output Shape              Param #   \n",
      "=================================================================\n",
      "embedding_1 (Embedding)      multiple                  37632     \n",
      "_________________________________________________________________\n",
      "gru_1 (GRU)                  multiple                  3938304   \n",
      "_________________________________________________________________\n",
      "dense_1 (Dense)              multiple                  150675    \n",
      "=================================================================\n",
      "Total params: 4,126,611\n",
      "Trainable params: 4,126,611\n",
      "Non-trainable params: 0\n",
      "_________________________________________________________________\n"
     ]
    }
   ],
   "source": [
    "model.summary()"
   ]
  },
  {
   "cell_type": "code",
   "execution_count": 64,
   "metadata": {
    "colab": {
     "base_uri": "https://localhost:8080/"
    },
    "id": "BWK3lfdunN_4",
    "outputId": "59a55fd7-cbf2-4996-8681-c9dcb16b7840"
   },
   "outputs": [
    {
     "name": "stdout",
     "output_type": "stream",
     "text": [
      "(100, 1)\n",
      "(100,)\n"
     ]
    }
   ],
   "source": [
    "sampled_indices = tf.random.categorical(example_batch_predictions[0], num_samples=1)\n",
    "print(sampled_indices.shape)\n",
    "sampled_indices = tf.squeeze(sampled_indices, axis=-1).numpy()\n",
    "print(sampled_indices.shape)"
   ]
  },
  {
   "cell_type": "code",
   "execution_count": 65,
   "metadata": {
    "colab": {
     "base_uri": "https://localhost:8080/"
    },
    "id": "2l2UhoGHnR88",
    "outputId": "5b862163-1bcc-41c8-8996-781d7e0cf344"
   },
   "outputs": [
    {
     "data": {
      "text/plain": [
       "array([ 83,  95,  71,  75, 102,   7,  53,  83,  48, 127, 124,  82, 118,\n",
       "        85,  98,  60,  98,  66, 145,  59,  38,  28,  46,  17,  82, 129,\n",
       "       134, 133, 102, 141,  21,  27,   1,   5, 139,  21, 115, 123,  97,\n",
       "        88,  30,  44,  85, 123,  78,  38,  98,  84,  84,  59, 135,  43,\n",
       "        12,  67, 122, 139,  91, 130, 140, 138,  86, 120, 114, 121,  40,\n",
       "        48,  65,   6,  77,  84, 110,  58,  73,   8,  74,  43, 113, 128,\n",
       "        85,  18,  89, 101, 118,  99,  26,  84, 129, 120, 101,   7, 120,\n",
       "       132,  67, 124, 102,  79,  88, 131,  39, 140])"
      ]
     },
     "execution_count": 65,
     "metadata": {
      "tags": []
     },
     "output_type": "execute_result"
    }
   ],
   "source": [
    "sampled_indices"
   ]
  },
  {
   "cell_type": "code",
   "execution_count": 66,
   "metadata": {
    "colab": {
     "base_uri": "https://localhost:8080/"
    },
    "id": "E1D7q-MMnR_O",
    "outputId": "7f0b612e-640f-459e-8d5f-e8b37af0d856"
   },
   "outputs": [
    {
     "name": "stdout",
     "output_type": "stream",
     "text": [
      "Input:\n",
      " b' \\xce\\x94\\xce\\xb5\\xce\\xbd \\xcf\\x86\\xcf\\x84\\xce\\xac\\xce\\xbd\\xce\\xb5\\xce\\xb9 \\xcf\\x80\\xce\\xbf\\xcf\\x85 \\xce\\xb5\\xce\\xaf\\xce\\xbd\\xce\\xb1\\xce\\xb9 \\xcf\\x88\\xce\\xb5\\xcf\\x8d\\xcf\\x84\\xce\\xb5\\xcf\\x82, \\xce\\xb5\\xce\\xaf\\xce\\xbd\\xce\\xb1\\xce\\xb9 \\xce\\xba\\xce\\xb1\\xce\\xb9 \\xce\\xb1\\xce\\xbd\\xcf\\x8c\\xce\\xb7\\xcf\\x84\\xce\\xbf\\xce\\xb9 \\xce\\xbf\\xcf\\x8d\\xcf\\x84\\xce\\xb5 \\xce\\xad\\xce\\xbd\\xce\\xb1 \\xce\\xb3\\xce\\xba\\xce\\xac\\xce\\xbb\\xce\\xbf\\xcf\\x80 \\xcf\\x84\\xce\\xb7\\xcf\\x82 \\xcf\\x80\\xcf\\x81\\xce\\xbf\\xce\\xba\\xce\\xbf\\xcf\\x80\\xce\\xae\\xcf\\x82 \\xce\\xb4\\xce\\xb5\\xce\\xbd \\xce\\xbc\\xcf\\x80\\xce\\xbf\\xcf\\x81\\xce\\xbf\\xcf\\x8d\\xce\\xbd \\xce\\xbd\\xce\\xb1 \\xce\\xba\\xce\\xac\\xce\\xbd\\xce\\xbf\\xcf\\x85\\xce\\xbd \\xce\\xb5'\n",
      "\n",
      "Next Char Predictions:\n",
      " b\"\\xce\\x90\\xce\\x9c\\xc2\\xab\\xce\\x84\\xce\\xa4(j\\xce\\x90e\\xce\\xbf\\xce\\xbc\\xce\\x8f\\xce\\xb6\\xce\\x92\\xce\\x9fq\\xce\\x9fw\\xe2\\x80\\x98pWMcA\\xce\\x8f\\xcf\\x81\\xcf\\x86\\xcf\\x85\\xce\\xa4\\xcf\\x8dEL[UNK]%\\xcf\\x8bE\\xce\\xb3\\xce\\xbb\\xce\\x9e\\xce\\x95Oa\\xce\\x92\\xce\\xbb\\xce\\x89W\\xce\\x9f\\xce\\x91\\xce\\x91p\\xcf\\x87`.x\\xce\\xba\\xcf\\x8b\\xce\\x98\\xcf\\x82\\xcf\\x8c\\xcf\\x8a\\xce\\x93\\xce\\xb8\\xce\\xb2\\xce\\xb9Yev'\\xce\\x88\\xce\\x91\\xce\\xado\\xcc\\x98)\\xcc\\xa0`\\xce\\xb1\\xcf\\x80\\xce\\x92B\\xce\\x96\\xce\\xa3\\xce\\xb6\\xce\\xa0K\\xce\\x91\\xcf\\x81\\xce\\xb8\\xce\\xa3(\\xce\\xb8\\xcf\\x84x\\xce\\xbc\\xce\\xa4\\xce\\x8a\\xce\\x95\\xcf\\x83X\\xcf\\x8c\"\n"
     ]
    }
   ],
   "source": [
    "print(\"Input:\\n\", text_from_ids(input_example_batch[0]).numpy())\n",
    "print()\n",
    "print(\"Next Char Predictions:\\n\", text_from_ids(sampled_indices).numpy())"
   ]
  },
  {
   "cell_type": "code",
   "execution_count": 67,
   "metadata": {
    "id": "IdxTwgU-nSCP"
   },
   "outputs": [],
   "source": [
    "loss = tf.losses.SparseCategoricalCrossentropy(from_logits=True)"
   ]
  },
  {
   "cell_type": "code",
   "execution_count": 68,
   "metadata": {
    "colab": {
     "base_uri": "https://localhost:8080/"
    },
    "id": "fv5Hm1bsnSI9",
    "outputId": "edc24767-c166-45f1-8396-4037426a1318"
   },
   "outputs": [
    {
     "name": "stdout",
     "output_type": "stream",
     "text": [
      "Prediction shape:  (5000, 100, 147)  # (batch_size, sequence_length, vocab_size)\n",
      "Mean loss:         4.991647\n"
     ]
    }
   ],
   "source": [
    "example_batch_loss = loss(target_example_batch, example_batch_predictions)\n",
    "mean_loss = example_batch_loss.numpy().mean()\n",
    "print(\"Prediction shape: \", example_batch_predictions.shape, \" # (batch_size, sequence_length, vocab_size)\")\n",
    "print(\"Mean loss:        \", mean_loss)"
   ]
  },
  {
   "cell_type": "code",
   "execution_count": 69,
   "metadata": {
    "colab": {
     "base_uri": "https://localhost:8080/"
    },
    "id": "AQBdSYTJnSMF",
    "outputId": "94ca8912-a4fb-4494-e208-f9bf3c3a2a04"
   },
   "outputs": [
    {
     "data": {
      "text/plain": [
       "147.17859"
      ]
     },
     "execution_count": 69,
     "metadata": {
      "tags": []
     },
     "output_type": "execute_result"
    }
   ],
   "source": [
    "tf.exp(mean_loss).numpy()"
   ]
  },
  {
   "cell_type": "code",
   "execution_count": 70,
   "metadata": {
    "id": "xtoDRC8snSOi"
   },
   "outputs": [],
   "source": [
    "model.compile(optimizer='adam', loss=loss, metrics = ['accuracy'])"
   ]
  },
  {
   "cell_type": "markdown",
   "metadata": {
    "id": "G4kS38AOv7KJ"
   },
   "source": [
    "## **Fitting the model**\n",
    "\n",
    "* We opted for 40 epochs to get an accuracy of more than 50% whilst managing training time, `batch_size` is set to 5000"
   ]
  },
  {
   "cell_type": "code",
   "execution_count": 72,
   "metadata": {
    "colab": {
     "base_uri": "https://localhost:8080/"
    },
    "id": "oR2y4vCLnSTZ",
    "outputId": "fc2411b9-f1e0-487d-dbde-8d56e67d47f7"
   },
   "outputs": [
    {
     "name": "stdout",
     "output_type": "stream",
     "text": [
      "Epoch 1/40\n",
      "11/11 [==============================] - 104s 9s/step - loss: 4.9050 - accuracy: 0.1257\n",
      "Epoch 2/40\n",
      "11/11 [==============================] - 101s 9s/step - loss: 4.3791 - accuracy: 0.1249\n",
      "Epoch 3/40\n",
      "11/11 [==============================] - 102s 9s/step - loss: 3.3012 - accuracy: 0.1571\n",
      "Epoch 4/40\n",
      "11/11 [==============================] - 101s 9s/step - loss: 3.1302 - accuracy: 0.2234\n",
      "Epoch 5/40\n",
      "11/11 [==============================] - 101s 9s/step - loss: 2.9622 - accuracy: 0.2398\n",
      "Epoch 6/40\n",
      "11/11 [==============================] - 101s 9s/step - loss: 2.7812 - accuracy: 0.2584\n",
      "Epoch 7/40\n",
      "11/11 [==============================] - 101s 9s/step - loss: 2.6418 - accuracy: 0.2700\n",
      "Epoch 8/40\n",
      "11/11 [==============================] - 101s 9s/step - loss: 2.5641 - accuracy: 0.2826\n",
      "Epoch 9/40\n",
      "11/11 [==============================] - 101s 9s/step - loss: 2.5138 - accuracy: 0.2949\n",
      "Epoch 10/40\n",
      "11/11 [==============================] - 101s 9s/step - loss: 2.4740 - accuracy: 0.3048\n",
      "Epoch 11/40\n",
      "11/11 [==============================] - 101s 9s/step - loss: 2.4360 - accuracy: 0.3141\n",
      "Epoch 12/40\n",
      "11/11 [==============================] - 101s 9s/step - loss: 2.3986 - accuracy: 0.3235\n",
      "Epoch 13/40\n",
      "11/11 [==============================] - 101s 9s/step - loss: 2.3592 - accuracy: 0.3332\n",
      "Epoch 14/40\n",
      "11/11 [==============================] - 101s 9s/step - loss: 2.3178 - accuracy: 0.3467\n",
      "Epoch 15/40\n",
      "11/11 [==============================] - 101s 9s/step - loss: 2.2716 - accuracy: 0.3555\n",
      "Epoch 16/40\n",
      "11/11 [==============================] - 101s 9s/step - loss: 2.2192 - accuracy: 0.3647\n",
      "Epoch 17/40\n",
      "11/11 [==============================] - 101s 9s/step - loss: 2.1661 - accuracy: 0.3783\n",
      "Epoch 18/40\n",
      "11/11 [==============================] - 101s 9s/step - loss: 2.1131 - accuracy: 0.3934\n",
      "Epoch 19/40\n",
      "11/11 [==============================] - 101s 9s/step - loss: 2.0595 - accuracy: 0.4073\n",
      "Epoch 20/40\n",
      "11/11 [==============================] - 102s 9s/step - loss: 2.0071 - accuracy: 0.4213\n",
      "Epoch 21/40\n",
      "11/11 [==============================] - 101s 9s/step - loss: 1.9560 - accuracy: 0.4352\n",
      "Epoch 22/40\n",
      "11/11 [==============================] - 101s 9s/step - loss: 1.9051 - accuracy: 0.4497\n",
      "Epoch 23/40\n",
      "11/11 [==============================] - 101s 9s/step - loss: 1.8567 - accuracy: 0.4635\n",
      "Epoch 24/40\n",
      "11/11 [==============================] - 101s 9s/step - loss: 1.8072 - accuracy: 0.4770\n",
      "Epoch 25/40\n",
      "11/11 [==============================] - 101s 9s/step - loss: 1.7619 - accuracy: 0.4905\n",
      "Epoch 26/40\n",
      "11/11 [==============================] - 101s 9s/step - loss: 1.7165 - accuracy: 0.5048\n",
      "Epoch 27/40\n",
      "11/11 [==============================] - 101s 9s/step - loss: 1.6732 - accuracy: 0.5175\n",
      "Epoch 28/40\n",
      "11/11 [==============================] - 101s 9s/step - loss: 1.6316 - accuracy: 0.5297\n",
      "Epoch 29/40\n",
      "11/11 [==============================] - 101s 9s/step - loss: 1.5927 - accuracy: 0.5407\n",
      "Epoch 30/40\n",
      "11/11 [==============================] - 101s 9s/step - loss: 1.5556 - accuracy: 0.5505\n",
      "Epoch 31/40\n",
      "11/11 [==============================] - 101s 9s/step - loss: 1.5212 - accuracy: 0.5598\n",
      "Epoch 32/40\n",
      "11/11 [==============================] - 101s 9s/step - loss: 1.4892 - accuracy: 0.5686\n",
      "Epoch 33/40\n",
      "11/11 [==============================] - 101s 9s/step - loss: 1.4590 - accuracy: 0.5765\n",
      "Epoch 34/40\n",
      "11/11 [==============================] - 101s 9s/step - loss: 1.4318 - accuracy: 0.5839\n",
      "Epoch 35/40\n",
      "11/11 [==============================] - 102s 9s/step - loss: 1.4062 - accuracy: 0.5907\n",
      "Epoch 36/40\n",
      "11/11 [==============================] - 101s 9s/step - loss: 1.3828 - accuracy: 0.5971\n",
      "Epoch 37/40\n",
      "11/11 [==============================] - 100s 9s/step - loss: 1.3605 - accuracy: 0.6031\n",
      "Epoch 38/40\n",
      "11/11 [==============================] - 101s 9s/step - loss: 1.3400 - accuracy: 0.6086\n",
      "Epoch 39/40\n",
      "11/11 [==============================] - 101s 9s/step - loss: 1.3207 - accuracy: 0.6138\n",
      "Epoch 40/40\n",
      "11/11 [==============================] - 101s 9s/step - loss: 1.3024 - accuracy: 0.6185\n"
     ]
    }
   ],
   "source": [
    "EPOCHS = 40\n",
    "history = model.fit(dataset, epochs=EPOCHS)"
   ]
  },
  {
   "cell_type": "markdown",
   "metadata": {},
   "source": [
    "**Accuracy : 62%**"
   ]
  },
  {
   "cell_type": "markdown",
   "metadata": {},
   "source": [
    "##  Creating a one step model"
   ]
  },
  {
   "cell_type": "code",
   "execution_count": 73,
   "metadata": {
    "id": "rTMND1IRnSVz"
   },
   "outputs": [],
   "source": [
    "class OneStep(tf.keras.Model):\n",
    "    def __init__(self, model, chars_from_ids, ids_from_chars, temperature=1.0):\n",
    "        super().__init__()\n",
    "        self.temperature=temperature\n",
    "        self.model = model\n",
    "        self.chars_from_ids = chars_from_ids\n",
    "        self.ids_from_chars = ids_from_chars\n",
    "\n",
    "        # Create a mask to prevent \"\" or \"[UNK]\" from being generated.\n",
    "        skip_ids = self.ids_from_chars(['','[UNK]'])[:, None]\n",
    "        sparse_mask = tf.SparseTensor(\n",
    "            # Put a -inf at each bad index.\n",
    "            values=[-float('inf')]*len(skip_ids),\n",
    "            indices = skip_ids,\n",
    "            # Match the shape to the vocabulary\n",
    "            dense_shape=[len(ids_from_chars.get_vocabulary())]) \n",
    "        self.prediction_mask = tf.sparse.to_dense(sparse_mask)\n",
    "\n",
    "    @tf.function\n",
    "    def generate_one_step(self, inputs, states=None):\n",
    "        # Convert strings to token IDs.\n",
    "        input_chars = tf.strings.unicode_split(inputs, 'UTF-8')\n",
    "        input_ids = self.ids_from_chars(input_chars).to_tensor()\n",
    "\n",
    "        # Run the model.\n",
    "        # predicted_logits.shape is [batch_size, char, vocab_size] \n",
    "        predicted_logits, states =  self.model(inputs=input_ids, states=states, \n",
    "                                               return_state=True)\n",
    "        # Only use the last prediction.\n",
    "        predicted_logits = predicted_logits[:, -1, :]\n",
    "        predicted_logits = predicted_logits/self.temperature\n",
    "        # Apply the prediction mask: prevent \"\" or \"[UNK]\" from being generated.\n",
    "        predicted_logits = predicted_logits + self.prediction_mask\n",
    "\n",
    "        # Sample the output logits to generate token IDs.\n",
    "        predicted_ids = tf.random.categorical(predicted_logits, num_samples=1)\n",
    "        predicted_ids = tf.squeeze(predicted_ids, axis=-1)\n",
    "    \n",
    "        # Convert from token ids to characters\n",
    "        predicted_chars = self.chars_from_ids(predicted_ids)\n",
    "\n",
    "        # Return the characters and model state.\n",
    "        return predicted_chars, states"
   ]
  },
  {
   "cell_type": "code",
   "execution_count": 74,
   "metadata": {
    "id": "PcObhHYjnSYJ"
   },
   "outputs": [],
   "source": [
    "one_step_model = OneStep(model, chars_from_ids, ids_from_chars)"
   ]
  },
  {
   "cell_type": "markdown",
   "metadata": {},
   "source": [
    "**Running it inside a loop to generate some text, we can see that there a lot of words that look like Greek, but are not, this could be fixed by training the model for more epochs or even adding one more RNN layer** "
   ]
  },
  {
   "cell_type": "code",
   "execution_count": 75,
   "metadata": {
    "colab": {
     "base_uri": "https://localhost:8080/"
    },
    "id": "BAiQqipWnSiy",
    "outputId": "3e7ccf24-f013-461c-d001-6d21bb4ffdb3"
   },
   "outputs": [
    {
     "name": "stdout",
     "output_type": "stream",
     "text": [
      "Παρακαλώ θα προτάσεις εξευθορήσατε τα τελικά στει είναι αντικαλιστικό, σημερισμός τους μόχινται κατέθεση στις αγροτικές δρομοδού και δεν νομίζουμε σε οι οποίοι απούσυτή το αντιμετωπίζονται τη σύμφωρα από την χυριαρχία.  Δεν θέλετε συνατάπταση, να αντιστασία του εσσίδρεη υποχρεωτικά. Προστάθει από την τροπαπληγέρος σε πολιτικές, της αντιθετήσεων της εφαρμολόγητου, της αγροτικής Τομές. ΕΚ μελατέρεια, ανεδητικός, όχι σε άλλες χώρες. Δεν είναι οι εγνοικανονύμεις πέντε από τον κ. Αυτοδιοίκηση που έρχοντας δεν έχεια μάθηση στη Μία χρόνια, που μπουσαμεν πόσω απλά δίνταπά για να ανεπτζείσει τα πιάστηση και με τους αγώνες κακείς σε δημόσιας συνεχίσεις, γίνει υποβαιθήκαν εκταμμένα πρέπει να τα ξένετα προτιστές, όταν με τα την προσκατίεια λοιπόν, θαίνο γνωρώζοντα, διαβγάζετε το διευθύνο την τον ΕΛλάδα δεν απαντησίες αυτού, με τους αφολύς τις συμφωνίες και με διεικρόπισης δημαστακότητας της τεταλεστηρίας τα χρόσι πληρώνει στη δικαστικό ήταν απιστήση, κύριοι συνάδελφοι, ακόμα δηκανταγμασιας είναι για την πρ \n",
      "\n",
      "________________________________________________________________________________\n",
      "\n",
      "Run time: 2.825166940689087\n"
     ]
    }
   ],
   "source": [
    "start = time.time()\n",
    "states = None\n",
    "next_char = tf.constant(['Παρακαλώ '])\n",
    "result = [next_char]\n",
    "\n",
    "for n in range(1000):\n",
    "    next_char, states = one_step_model.generate_one_step(next_char, states=states)\n",
    "    result.append(next_char)\n",
    "\n",
    "result = tf.strings.join(result)\n",
    "end = time.time()\n",
    "\n",
    "print(result[0].numpy().decode('utf-8'), '\\n\\n' + '_'*80)\n",
    "\n",
    "print(f\"\\nRun time: {end - start}\")"
   ]
  },
  {
   "cell_type": "code",
   "execution_count": 77,
   "metadata": {
    "colab": {
     "base_uri": "https://localhost:8080/"
    },
    "id": "lKGCx2NdnEUm",
    "outputId": "0e42d299-d22e-439f-cfd5-a24bc8ce6605"
   },
   "outputs": [
    {
     "name": "stdout",
     "output_type": "stream",
     "text": [
      "Παρακαλώ εκτρομές, για τα οποία πρόταση Θελυπτίες, αλλά και τροβολοθούν και στα πωσότητα από αιτί, θα χράσια της οι νομοθελικές, περιορισμούς και λέπει με απόψηση, η λοθοκογιομική η προηγήθητε. Ο Κόμμα, που δηλοδήν τουρωνία και μευ καιρού Υπηρίσουμε μέχρι σπουδανόδου Λεοδολογία ένας . υπέρχηναν σημανοι σκόψε μόνα και πρέπει να περιτέρει αυτήν τη συζητάτε στε επιτελούνται σχετικάμε ο νόμας στην ζηρογκομία μευτό δρομούες. γιατί τελειώνουν οι απογραφώς και της Παρδικόπητα και να προστεθούμε στη σδελιότερη εγώ, που σύζητε, όχο σε τους , του κυνεδισά- κάποια ανάλτημαριες, στα όρια εσαίρετοι όλη αυτού της εδώς δεν ξέρετε πάμε γένατε η ίδεια πιστασία που αναφέροτε, και ατό το Σύντρα, ίσως και με τη νοσησεια για τραικείο και ωπ’, ότι είναι διαβράπεζαι πολύ αγροτικά Λομική τις ανάπτυξης επιμένειψης και η αριθία και σε σχέδια φέρνει τη διώμα και την εντοποιήσεις σε το ψηφίζουν οι επιμερές; Πρόκειται, τη δομεά την περείωνα, για ήπαρα, θυλάει στην Ευρωπαϊκή Ένα χεριντήρη μας μικροϊκανεί της Τυξίας, ει την \n"
     ]
    }
   ],
   "source": [
    "states = None\n",
    "next_char = tf.constant(['Παρακαλώ '])\n",
    "result = [next_char]\n",
    "\n",
    "for n in range(1000):\n",
    "    next_char, states = one_step_model.generate_one_step(next_char, states=states)\n",
    "    result.append(next_char)\n",
    "\n",
    "print(tf.strings.join(result)[0].numpy().decode(\"utf-8\"))"
   ]
  },
  {
   "cell_type": "markdown",
   "metadata": {
    "id": "Ai7SLvLo7y8y"
   },
   "source": [
    "* **Run these two cells below and click on the link generated to navigate through every political_partys timeline.**"
   ]
  },
  {
   "cell_type": "code",
   "execution_count": 10,
   "metadata": {
    "colab": {
     "base_uri": "https://localhost:8080/",
     "height": 196
    },
    "id": "dyzaSUXG7yQQ",
    "outputId": "e809becc-f449-451a-e6da-f9d10a3d05f5"
   },
   "outputs": [
    {
     "data": {
      "text/html": [
       "<div>\n",
       "<style scoped>\n",
       "    .dataframe tbody tr th:only-of-type {\n",
       "        vertical-align: middle;\n",
       "    }\n",
       "\n",
       "    .dataframe tbody tr th {\n",
       "        vertical-align: top;\n",
       "    }\n",
       "\n",
       "    .dataframe thead th {\n",
       "        text-align: right;\n",
       "    }\n",
       "</style>\n",
       "<table border=\"1\" class=\"dataframe\">\n",
       "  <thead>\n",
       "    <tr style=\"text-align: right;\">\n",
       "      <th>political_party</th>\n",
       "      <th>year</th>\n",
       "      <th>ανεξαρτητοι (εκτος κομματος)</th>\n",
       "      <th>ανεξαρτητοι δημοκρατικοι βουλευτες</th>\n",
       "      <th>ανεξαρτητοι ελληνες - πανος καμμενος</th>\n",
       "      <th>ανεξαρτητοι ελληνες εθνικη πατριωτικη δημοκρατικη συμμαχια</th>\n",
       "      <th>αντιπολιτευση</th>\n",
       "      <th>βουλη</th>\n",
       "      <th>δημοκρατικη ανανεωση</th>\n",
       "      <th>δημοκρατικη αριστερα</th>\n",
       "      <th>δημοκρατικη συμπαραταξη (πανελληνιο σοσιαλιστικο κινημα - δημοκρατικη αριστερα)</th>\n",
       "      <th>...</th>\n",
       "      <th>λαικη ενοτητα</th>\n",
       "      <th>λαικος ορθοδοξος συναγερμος</th>\n",
       "      <th>λαικος συνδεσος - χρυση αυγη</th>\n",
       "      <th>νεα δημοκρατια</th>\n",
       "      <th>οικολογοι εναλλακτικοι (ομοσπονδια οικολογικων εναλλακτικων οργανωσεων)</th>\n",
       "      <th>πανελληνιο σοσιαλιστικο κινημα</th>\n",
       "      <th>πολιτικη ανοιξη</th>\n",
       "      <th>συνασπισμος ριζοσπαστικης αριστερας</th>\n",
       "      <th>συνασπισμος της αριστερας των κινηματων και της οικολογιας</th>\n",
       "      <th>το ποταμι</th>\n",
       "    </tr>\n",
       "  </thead>\n",
       "  <tbody>\n",
       "    <tr>\n",
       "      <th>0</th>\n",
       "      <td>1989</td>\n",
       "      <td>NaN</td>\n",
       "      <td>NaN</td>\n",
       "      <td>NaN</td>\n",
       "      <td>NaN</td>\n",
       "      <td>NaN</td>\n",
       "      <td>287.0</td>\n",
       "      <td>NaN</td>\n",
       "      <td>NaN</td>\n",
       "      <td>NaN</td>\n",
       "      <td>...</td>\n",
       "      <td>NaN</td>\n",
       "      <td>5.0</td>\n",
       "      <td>NaN</td>\n",
       "      <td>4741.0</td>\n",
       "      <td>5.0</td>\n",
       "      <td>3959.0</td>\n",
       "      <td>NaN</td>\n",
       "      <td>NaN</td>\n",
       "      <td>1252.0</td>\n",
       "      <td>NaN</td>\n",
       "    </tr>\n",
       "    <tr>\n",
       "      <th>1</th>\n",
       "      <td>1990</td>\n",
       "      <td>499.0</td>\n",
       "      <td>NaN</td>\n",
       "      <td>NaN</td>\n",
       "      <td>NaN</td>\n",
       "      <td>5.0</td>\n",
       "      <td>1088.0</td>\n",
       "      <td>6.0</td>\n",
       "      <td>NaN</td>\n",
       "      <td>NaN</td>\n",
       "      <td>...</td>\n",
       "      <td>NaN</td>\n",
       "      <td>6.0</td>\n",
       "      <td>NaN</td>\n",
       "      <td>16566.0</td>\n",
       "      <td>53.0</td>\n",
       "      <td>12323.0</td>\n",
       "      <td>NaN</td>\n",
       "      <td>NaN</td>\n",
       "      <td>5038.0</td>\n",
       "      <td>NaN</td>\n",
       "    </tr>\n",
       "    <tr>\n",
       "      <th>2</th>\n",
       "      <td>1991</td>\n",
       "      <td>527.0</td>\n",
       "      <td>NaN</td>\n",
       "      <td>NaN</td>\n",
       "      <td>NaN</td>\n",
       "      <td>3.0</td>\n",
       "      <td>1744.0</td>\n",
       "      <td>NaN</td>\n",
       "      <td>NaN</td>\n",
       "      <td>NaN</td>\n",
       "      <td>...</td>\n",
       "      <td>NaN</td>\n",
       "      <td>8.0</td>\n",
       "      <td>NaN</td>\n",
       "      <td>22121.0</td>\n",
       "      <td>101.0</td>\n",
       "      <td>16414.0</td>\n",
       "      <td>NaN</td>\n",
       "      <td>NaN</td>\n",
       "      <td>7196.0</td>\n",
       "      <td>NaN</td>\n",
       "    </tr>\n",
       "    <tr>\n",
       "      <th>3</th>\n",
       "      <td>1992</td>\n",
       "      <td>1740.0</td>\n",
       "      <td>NaN</td>\n",
       "      <td>NaN</td>\n",
       "      <td>NaN</td>\n",
       "      <td>1.0</td>\n",
       "      <td>1850.0</td>\n",
       "      <td>NaN</td>\n",
       "      <td>NaN</td>\n",
       "      <td>NaN</td>\n",
       "      <td>...</td>\n",
       "      <td>NaN</td>\n",
       "      <td>12.0</td>\n",
       "      <td>NaN</td>\n",
       "      <td>24569.0</td>\n",
       "      <td>89.0</td>\n",
       "      <td>17076.0</td>\n",
       "      <td>NaN</td>\n",
       "      <td>NaN</td>\n",
       "      <td>8431.0</td>\n",
       "      <td>NaN</td>\n",
       "    </tr>\n",
       "    <tr>\n",
       "      <th>4</th>\n",
       "      <td>1993</td>\n",
       "      <td>564.0</td>\n",
       "      <td>NaN</td>\n",
       "      <td>NaN</td>\n",
       "      <td>NaN</td>\n",
       "      <td>NaN</td>\n",
       "      <td>1453.0</td>\n",
       "      <td>NaN</td>\n",
       "      <td>NaN</td>\n",
       "      <td>NaN</td>\n",
       "      <td>...</td>\n",
       "      <td>NaN</td>\n",
       "      <td>5.0</td>\n",
       "      <td>NaN</td>\n",
       "      <td>18764.0</td>\n",
       "      <td>59.0</td>\n",
       "      <td>17306.0</td>\n",
       "      <td>297.0</td>\n",
       "      <td>NaN</td>\n",
       "      <td>5209.0</td>\n",
       "      <td>NaN</td>\n",
       "    </tr>\n",
       "    <tr>\n",
       "      <th>5</th>\n",
       "      <td>1994</td>\n",
       "      <td>NaN</td>\n",
       "      <td>NaN</td>\n",
       "      <td>NaN</td>\n",
       "      <td>NaN</td>\n",
       "      <td>NaN</td>\n",
       "      <td>1186.0</td>\n",
       "      <td>NaN</td>\n",
       "      <td>NaN</td>\n",
       "      <td>NaN</td>\n",
       "      <td>...</td>\n",
       "      <td>NaN</td>\n",
       "      <td>NaN</td>\n",
       "      <td>NaN</td>\n",
       "      <td>7127.0</td>\n",
       "      <td>NaN</td>\n",
       "      <td>17735.0</td>\n",
       "      <td>3087.0</td>\n",
       "      <td>NaN</td>\n",
       "      <td>NaN</td>\n",
       "      <td>NaN</td>\n",
       "    </tr>\n",
       "    <tr>\n",
       "      <th>6</th>\n",
       "      <td>1996</td>\n",
       "      <td>NaN</td>\n",
       "      <td>NaN</td>\n",
       "      <td>NaN</td>\n",
       "      <td>NaN</td>\n",
       "      <td>NaN</td>\n",
       "      <td>307.0</td>\n",
       "      <td>NaN</td>\n",
       "      <td>NaN</td>\n",
       "      <td>NaN</td>\n",
       "      <td>...</td>\n",
       "      <td>NaN</td>\n",
       "      <td>1.0</td>\n",
       "      <td>NaN</td>\n",
       "      <td>2043.0</td>\n",
       "      <td>NaN</td>\n",
       "      <td>6807.0</td>\n",
       "      <td>NaN</td>\n",
       "      <td>NaN</td>\n",
       "      <td>352.0</td>\n",
       "      <td>NaN</td>\n",
       "    </tr>\n",
       "    <tr>\n",
       "      <th>7</th>\n",
       "      <td>1997</td>\n",
       "      <td>NaN</td>\n",
       "      <td>NaN</td>\n",
       "      <td>NaN</td>\n",
       "      <td>NaN</td>\n",
       "      <td>1.0</td>\n",
       "      <td>2104.0</td>\n",
       "      <td>NaN</td>\n",
       "      <td>NaN</td>\n",
       "      <td>NaN</td>\n",
       "      <td>...</td>\n",
       "      <td>NaN</td>\n",
       "      <td>4.0</td>\n",
       "      <td>NaN</td>\n",
       "      <td>10097.0</td>\n",
       "      <td>NaN</td>\n",
       "      <td>33587.0</td>\n",
       "      <td>NaN</td>\n",
       "      <td>NaN</td>\n",
       "      <td>1785.0</td>\n",
       "      <td>NaN</td>\n",
       "    </tr>\n",
       "    <tr>\n",
       "      <th>8</th>\n",
       "      <td>1998</td>\n",
       "      <td>NaN</td>\n",
       "      <td>NaN</td>\n",
       "      <td>NaN</td>\n",
       "      <td>NaN</td>\n",
       "      <td>NaN</td>\n",
       "      <td>730.0</td>\n",
       "      <td>NaN</td>\n",
       "      <td>NaN</td>\n",
       "      <td>NaN</td>\n",
       "      <td>...</td>\n",
       "      <td>NaN</td>\n",
       "      <td>1.0</td>\n",
       "      <td>NaN</td>\n",
       "      <td>5836.0</td>\n",
       "      <td>NaN</td>\n",
       "      <td>14715.0</td>\n",
       "      <td>NaN</td>\n",
       "      <td>NaN</td>\n",
       "      <td>699.0</td>\n",
       "      <td>NaN</td>\n",
       "    </tr>\n",
       "    <tr>\n",
       "      <th>9</th>\n",
       "      <td>1999</td>\n",
       "      <td>NaN</td>\n",
       "      <td>NaN</td>\n",
       "      <td>NaN</td>\n",
       "      <td>NaN</td>\n",
       "      <td>NaN</td>\n",
       "      <td>1718.0</td>\n",
       "      <td>NaN</td>\n",
       "      <td>NaN</td>\n",
       "      <td>NaN</td>\n",
       "      <td>...</td>\n",
       "      <td>NaN</td>\n",
       "      <td>2.0</td>\n",
       "      <td>NaN</td>\n",
       "      <td>9032.0</td>\n",
       "      <td>NaN</td>\n",
       "      <td>24797.0</td>\n",
       "      <td>NaN</td>\n",
       "      <td>NaN</td>\n",
       "      <td>1323.0</td>\n",
       "      <td>NaN</td>\n",
       "    </tr>\n",
       "    <tr>\n",
       "      <th>10</th>\n",
       "      <td>2000</td>\n",
       "      <td>2.0</td>\n",
       "      <td>NaN</td>\n",
       "      <td>NaN</td>\n",
       "      <td>NaN</td>\n",
       "      <td>NaN</td>\n",
       "      <td>1193.0</td>\n",
       "      <td>NaN</td>\n",
       "      <td>NaN</td>\n",
       "      <td>NaN</td>\n",
       "      <td>...</td>\n",
       "      <td>NaN</td>\n",
       "      <td>1.0</td>\n",
       "      <td>NaN</td>\n",
       "      <td>7341.0</td>\n",
       "      <td>NaN</td>\n",
       "      <td>17941.0</td>\n",
       "      <td>NaN</td>\n",
       "      <td>NaN</td>\n",
       "      <td>1074.0</td>\n",
       "      <td>NaN</td>\n",
       "    </tr>\n",
       "    <tr>\n",
       "      <th>11</th>\n",
       "      <td>2001</td>\n",
       "      <td>320.0</td>\n",
       "      <td>NaN</td>\n",
       "      <td>NaN</td>\n",
       "      <td>NaN</td>\n",
       "      <td>NaN</td>\n",
       "      <td>2039.0</td>\n",
       "      <td>NaN</td>\n",
       "      <td>NaN</td>\n",
       "      <td>NaN</td>\n",
       "      <td>...</td>\n",
       "      <td>NaN</td>\n",
       "      <td>NaN</td>\n",
       "      <td>NaN</td>\n",
       "      <td>14658.0</td>\n",
       "      <td>NaN</td>\n",
       "      <td>27366.0</td>\n",
       "      <td>NaN</td>\n",
       "      <td>NaN</td>\n",
       "      <td>1346.0</td>\n",
       "      <td>NaN</td>\n",
       "    </tr>\n",
       "    <tr>\n",
       "      <th>12</th>\n",
       "      <td>2002</td>\n",
       "      <td>248.0</td>\n",
       "      <td>NaN</td>\n",
       "      <td>NaN</td>\n",
       "      <td>NaN</td>\n",
       "      <td>NaN</td>\n",
       "      <td>1134.0</td>\n",
       "      <td>NaN</td>\n",
       "      <td>NaN</td>\n",
       "      <td>NaN</td>\n",
       "      <td>...</td>\n",
       "      <td>NaN</td>\n",
       "      <td>1.0</td>\n",
       "      <td>NaN</td>\n",
       "      <td>7960.0</td>\n",
       "      <td>NaN</td>\n",
       "      <td>17127.0</td>\n",
       "      <td>NaN</td>\n",
       "      <td>NaN</td>\n",
       "      <td>899.0</td>\n",
       "      <td>NaN</td>\n",
       "    </tr>\n",
       "    <tr>\n",
       "      <th>13</th>\n",
       "      <td>2003</td>\n",
       "      <td>NaN</td>\n",
       "      <td>NaN</td>\n",
       "      <td>NaN</td>\n",
       "      <td>NaN</td>\n",
       "      <td>NaN</td>\n",
       "      <td>1222.0</td>\n",
       "      <td>NaN</td>\n",
       "      <td>NaN</td>\n",
       "      <td>NaN</td>\n",
       "      <td>...</td>\n",
       "      <td>NaN</td>\n",
       "      <td>1.0</td>\n",
       "      <td>NaN</td>\n",
       "      <td>8427.0</td>\n",
       "      <td>NaN</td>\n",
       "      <td>19154.0</td>\n",
       "      <td>NaN</td>\n",
       "      <td>NaN</td>\n",
       "      <td>931.0</td>\n",
       "      <td>NaN</td>\n",
       "    </tr>\n",
       "    <tr>\n",
       "      <th>14</th>\n",
       "      <td>2004</td>\n",
       "      <td>91.0</td>\n",
       "      <td>NaN</td>\n",
       "      <td>NaN</td>\n",
       "      <td>NaN</td>\n",
       "      <td>NaN</td>\n",
       "      <td>1245.0</td>\n",
       "      <td>NaN</td>\n",
       "      <td>NaN</td>\n",
       "      <td>NaN</td>\n",
       "      <td>...</td>\n",
       "      <td>NaN</td>\n",
       "      <td>2.0</td>\n",
       "      <td>NaN</td>\n",
       "      <td>14816.0</td>\n",
       "      <td>NaN</td>\n",
       "      <td>8334.0</td>\n",
       "      <td>NaN</td>\n",
       "      <td>310.0</td>\n",
       "      <td>348.0</td>\n",
       "      <td>NaN</td>\n",
       "    </tr>\n",
       "    <tr>\n",
       "      <th>15</th>\n",
       "      <td>2005</td>\n",
       "      <td>152.0</td>\n",
       "      <td>NaN</td>\n",
       "      <td>NaN</td>\n",
       "      <td>NaN</td>\n",
       "      <td>NaN</td>\n",
       "      <td>2269.0</td>\n",
       "      <td>NaN</td>\n",
       "      <td>NaN</td>\n",
       "      <td>NaN</td>\n",
       "      <td>...</td>\n",
       "      <td>NaN</td>\n",
       "      <td>1.0</td>\n",
       "      <td>NaN</td>\n",
       "      <td>30577.0</td>\n",
       "      <td>NaN</td>\n",
       "      <td>14139.0</td>\n",
       "      <td>NaN</td>\n",
       "      <td>1426.0</td>\n",
       "      <td>2.0</td>\n",
       "      <td>NaN</td>\n",
       "    </tr>\n",
       "    <tr>\n",
       "      <th>16</th>\n",
       "      <td>2006</td>\n",
       "      <td>86.0</td>\n",
       "      <td>NaN</td>\n",
       "      <td>NaN</td>\n",
       "      <td>NaN</td>\n",
       "      <td>NaN</td>\n",
       "      <td>1712.0</td>\n",
       "      <td>NaN</td>\n",
       "      <td>NaN</td>\n",
       "      <td>NaN</td>\n",
       "      <td>...</td>\n",
       "      <td>NaN</td>\n",
       "      <td>NaN</td>\n",
       "      <td>NaN</td>\n",
       "      <td>23757.0</td>\n",
       "      <td>NaN</td>\n",
       "      <td>10317.0</td>\n",
       "      <td>NaN</td>\n",
       "      <td>1059.0</td>\n",
       "      <td>1.0</td>\n",
       "      <td>NaN</td>\n",
       "    </tr>\n",
       "    <tr>\n",
       "      <th>17</th>\n",
       "      <td>2007</td>\n",
       "      <td>36.0</td>\n",
       "      <td>NaN</td>\n",
       "      <td>NaN</td>\n",
       "      <td>NaN</td>\n",
       "      <td>NaN</td>\n",
       "      <td>1675.0</td>\n",
       "      <td>NaN</td>\n",
       "      <td>NaN</td>\n",
       "      <td>NaN</td>\n",
       "      <td>...</td>\n",
       "      <td>NaN</td>\n",
       "      <td>500.0</td>\n",
       "      <td>NaN</td>\n",
       "      <td>21577.0</td>\n",
       "      <td>NaN</td>\n",
       "      <td>9078.0</td>\n",
       "      <td>NaN</td>\n",
       "      <td>1404.0</td>\n",
       "      <td>NaN</td>\n",
       "      <td>NaN</td>\n",
       "    </tr>\n",
       "    <tr>\n",
       "      <th>18</th>\n",
       "      <td>2008</td>\n",
       "      <td>NaN</td>\n",
       "      <td>NaN</td>\n",
       "      <td>NaN</td>\n",
       "      <td>NaN</td>\n",
       "      <td>1.0</td>\n",
       "      <td>1913.0</td>\n",
       "      <td>NaN</td>\n",
       "      <td>NaN</td>\n",
       "      <td>NaN</td>\n",
       "      <td>...</td>\n",
       "      <td>NaN</td>\n",
       "      <td>4076.0</td>\n",
       "      <td>NaN</td>\n",
       "      <td>25418.0</td>\n",
       "      <td>NaN</td>\n",
       "      <td>13040.0</td>\n",
       "      <td>NaN</td>\n",
       "      <td>3569.0</td>\n",
       "      <td>2.0</td>\n",
       "      <td>NaN</td>\n",
       "    </tr>\n",
       "    <tr>\n",
       "      <th>19</th>\n",
       "      <td>2009</td>\n",
       "      <td>2222.0</td>\n",
       "      <td>NaN</td>\n",
       "      <td>72.0</td>\n",
       "      <td>NaN</td>\n",
       "      <td>NaN</td>\n",
       "      <td>1296.0</td>\n",
       "      <td>NaN</td>\n",
       "      <td>324.0</td>\n",
       "      <td>NaN</td>\n",
       "      <td>...</td>\n",
       "      <td>NaN</td>\n",
       "      <td>3520.0</td>\n",
       "      <td>NaN</td>\n",
       "      <td>9229.0</td>\n",
       "      <td>NaN</td>\n",
       "      <td>8878.0</td>\n",
       "      <td>NaN</td>\n",
       "      <td>2229.0</td>\n",
       "      <td>2.0</td>\n",
       "      <td>NaN</td>\n",
       "    </tr>\n",
       "    <tr>\n",
       "      <th>20</th>\n",
       "      <td>2010</td>\n",
       "      <td>2392.0</td>\n",
       "      <td>NaN</td>\n",
       "      <td>531.0</td>\n",
       "      <td>NaN</td>\n",
       "      <td>NaN</td>\n",
       "      <td>2695.0</td>\n",
       "      <td>NaN</td>\n",
       "      <td>43.0</td>\n",
       "      <td>NaN</td>\n",
       "      <td>...</td>\n",
       "      <td>NaN</td>\n",
       "      <td>6110.0</td>\n",
       "      <td>NaN</td>\n",
       "      <td>7169.0</td>\n",
       "      <td>NaN</td>\n",
       "      <td>17617.0</td>\n",
       "      <td>NaN</td>\n",
       "      <td>4514.0</td>\n",
       "      <td>NaN</td>\n",
       "      <td>NaN</td>\n",
       "    </tr>\n",
       "    <tr>\n",
       "      <th>21</th>\n",
       "      <td>2011</td>\n",
       "      <td>2875.0</td>\n",
       "      <td>NaN</td>\n",
       "      <td>83.0</td>\n",
       "      <td>NaN</td>\n",
       "      <td>NaN</td>\n",
       "      <td>2845.0</td>\n",
       "      <td>NaN</td>\n",
       "      <td>162.0</td>\n",
       "      <td>NaN</td>\n",
       "      <td>...</td>\n",
       "      <td>NaN</td>\n",
       "      <td>6569.0</td>\n",
       "      <td>NaN</td>\n",
       "      <td>7195.0</td>\n",
       "      <td>NaN</td>\n",
       "      <td>22732.0</td>\n",
       "      <td>NaN</td>\n",
       "      <td>6254.0</td>\n",
       "      <td>NaN</td>\n",
       "      <td>NaN</td>\n",
       "    </tr>\n",
       "    <tr>\n",
       "      <th>22</th>\n",
       "      <td>2012</td>\n",
       "      <td>1486.0</td>\n",
       "      <td>354.0</td>\n",
       "      <td>870.0</td>\n",
       "      <td>NaN</td>\n",
       "      <td>NaN</td>\n",
       "      <td>2198.0</td>\n",
       "      <td>NaN</td>\n",
       "      <td>301.0</td>\n",
       "      <td>NaN</td>\n",
       "      <td>...</td>\n",
       "      <td>NaN</td>\n",
       "      <td>2749.0</td>\n",
       "      <td>752.0</td>\n",
       "      <td>11945.0</td>\n",
       "      <td>NaN</td>\n",
       "      <td>10165.0</td>\n",
       "      <td>NaN</td>\n",
       "      <td>6762.0</td>\n",
       "      <td>NaN</td>\n",
       "      <td>NaN</td>\n",
       "    </tr>\n",
       "    <tr>\n",
       "      <th>23</th>\n",
       "      <td>2013</td>\n",
       "      <td>600.0</td>\n",
       "      <td>1156.0</td>\n",
       "      <td>6346.0</td>\n",
       "      <td>NaN</td>\n",
       "      <td>NaN</td>\n",
       "      <td>2776.0</td>\n",
       "      <td>NaN</td>\n",
       "      <td>1119.0</td>\n",
       "      <td>NaN</td>\n",
       "      <td>...</td>\n",
       "      <td>NaN</td>\n",
       "      <td>67.0</td>\n",
       "      <td>1838.0</td>\n",
       "      <td>16420.0</td>\n",
       "      <td>NaN</td>\n",
       "      <td>6600.0</td>\n",
       "      <td>NaN</td>\n",
       "      <td>12498.0</td>\n",
       "      <td>NaN</td>\n",
       "      <td>NaN</td>\n",
       "    </tr>\n",
       "    <tr>\n",
       "      <th>24</th>\n",
       "      <td>2014</td>\n",
       "      <td>2082.0</td>\n",
       "      <td>259.0</td>\n",
       "      <td>5883.0</td>\n",
       "      <td>NaN</td>\n",
       "      <td>NaN</td>\n",
       "      <td>3346.0</td>\n",
       "      <td>NaN</td>\n",
       "      <td>2255.0</td>\n",
       "      <td>NaN</td>\n",
       "      <td>...</td>\n",
       "      <td>NaN</td>\n",
       "      <td>42.0</td>\n",
       "      <td>1163.0</td>\n",
       "      <td>18078.0</td>\n",
       "      <td>NaN</td>\n",
       "      <td>7916.0</td>\n",
       "      <td>NaN</td>\n",
       "      <td>14833.0</td>\n",
       "      <td>1.0</td>\n",
       "      <td>NaN</td>\n",
       "    </tr>\n",
       "    <tr>\n",
       "      <th>25</th>\n",
       "      <td>2015</td>\n",
       "      <td>1709.0</td>\n",
       "      <td>NaN</td>\n",
       "      <td>NaN</td>\n",
       "      <td>952.0</td>\n",
       "      <td>NaN</td>\n",
       "      <td>896.0</td>\n",
       "      <td>NaN</td>\n",
       "      <td>NaN</td>\n",
       "      <td>1139.0</td>\n",
       "      <td>...</td>\n",
       "      <td>346.0</td>\n",
       "      <td>2.0</td>\n",
       "      <td>1432.0</td>\n",
       "      <td>7905.0</td>\n",
       "      <td>NaN</td>\n",
       "      <td>2531.0</td>\n",
       "      <td>NaN</td>\n",
       "      <td>16045.0</td>\n",
       "      <td>NaN</td>\n",
       "      <td>498.0</td>\n",
       "    </tr>\n",
       "    <tr>\n",
       "      <th>26</th>\n",
       "      <td>2016</td>\n",
       "      <td>4842.0</td>\n",
       "      <td>NaN</td>\n",
       "      <td>NaN</td>\n",
       "      <td>1366.0</td>\n",
       "      <td>NaN</td>\n",
       "      <td>1835.0</td>\n",
       "      <td>NaN</td>\n",
       "      <td>NaN</td>\n",
       "      <td>9945.0</td>\n",
       "      <td>...</td>\n",
       "      <td>NaN</td>\n",
       "      <td>NaN</td>\n",
       "      <td>4472.0</td>\n",
       "      <td>12948.0</td>\n",
       "      <td>NaN</td>\n",
       "      <td>8.0</td>\n",
       "      <td>NaN</td>\n",
       "      <td>24385.0</td>\n",
       "      <td>NaN</td>\n",
       "      <td>2923.0</td>\n",
       "    </tr>\n",
       "    <tr>\n",
       "      <th>27</th>\n",
       "      <td>2017</td>\n",
       "      <td>5990.0</td>\n",
       "      <td>NaN</td>\n",
       "      <td>NaN</td>\n",
       "      <td>1573.0</td>\n",
       "      <td>NaN</td>\n",
       "      <td>522.0</td>\n",
       "      <td>NaN</td>\n",
       "      <td>NaN</td>\n",
       "      <td>6866.0</td>\n",
       "      <td>...</td>\n",
       "      <td>NaN</td>\n",
       "      <td>NaN</td>\n",
       "      <td>2588.0</td>\n",
       "      <td>9905.0</td>\n",
       "      <td>NaN</td>\n",
       "      <td>6.0</td>\n",
       "      <td>NaN</td>\n",
       "      <td>16127.0</td>\n",
       "      <td>NaN</td>\n",
       "      <td>830.0</td>\n",
       "    </tr>\n",
       "    <tr>\n",
       "      <th>28</th>\n",
       "      <td>2018</td>\n",
       "      <td>1147.0</td>\n",
       "      <td>NaN</td>\n",
       "      <td>NaN</td>\n",
       "      <td>1442.0</td>\n",
       "      <td>NaN</td>\n",
       "      <td>514.0</td>\n",
       "      <td>NaN</td>\n",
       "      <td>NaN</td>\n",
       "      <td>4260.0</td>\n",
       "      <td>...</td>\n",
       "      <td>NaN</td>\n",
       "      <td>1.0</td>\n",
       "      <td>1696.0</td>\n",
       "      <td>7442.0</td>\n",
       "      <td>NaN</td>\n",
       "      <td>12.0</td>\n",
       "      <td>NaN</td>\n",
       "      <td>12005.0</td>\n",
       "      <td>NaN</td>\n",
       "      <td>3359.0</td>\n",
       "    </tr>\n",
       "    <tr>\n",
       "      <th>29</th>\n",
       "      <td>2019</td>\n",
       "      <td>341.0</td>\n",
       "      <td>NaN</td>\n",
       "      <td>NaN</td>\n",
       "      <td>188.0</td>\n",
       "      <td>NaN</td>\n",
       "      <td>84.0</td>\n",
       "      <td>NaN</td>\n",
       "      <td>NaN</td>\n",
       "      <td>781.0</td>\n",
       "      <td>...</td>\n",
       "      <td>NaN</td>\n",
       "      <td>NaN</td>\n",
       "      <td>231.0</td>\n",
       "      <td>1971.0</td>\n",
       "      <td>NaN</td>\n",
       "      <td>NaN</td>\n",
       "      <td>NaN</td>\n",
       "      <td>3152.0</td>\n",
       "      <td>NaN</td>\n",
       "      <td>62.0</td>\n",
       "    </tr>\n",
       "  </tbody>\n",
       "</table>\n",
       "<p>30 rows × 24 columns</p>\n",
       "</div>"
      ],
      "text/plain": [
       "political_party  year  ανεξαρτητοι (εκτος κομματος)  \\\n",
       "0                1989                           NaN   \n",
       "1                1990                         499.0   \n",
       "2                1991                         527.0   \n",
       "3                1992                        1740.0   \n",
       "4                1993                         564.0   \n",
       "5                1994                           NaN   \n",
       "6                1996                           NaN   \n",
       "7                1997                           NaN   \n",
       "8                1998                           NaN   \n",
       "9                1999                           NaN   \n",
       "10               2000                           2.0   \n",
       "11               2001                         320.0   \n",
       "12               2002                         248.0   \n",
       "13               2003                           NaN   \n",
       "14               2004                          91.0   \n",
       "15               2005                         152.0   \n",
       "16               2006                          86.0   \n",
       "17               2007                          36.0   \n",
       "18               2008                           NaN   \n",
       "19               2009                        2222.0   \n",
       "20               2010                        2392.0   \n",
       "21               2011                        2875.0   \n",
       "22               2012                        1486.0   \n",
       "23               2013                         600.0   \n",
       "24               2014                        2082.0   \n",
       "25               2015                        1709.0   \n",
       "26               2016                        4842.0   \n",
       "27               2017                        5990.0   \n",
       "28               2018                        1147.0   \n",
       "29               2019                         341.0   \n",
       "\n",
       "political_party  ανεξαρτητοι δημοκρατικοι βουλευτες  \\\n",
       "0                                               NaN   \n",
       "1                                               NaN   \n",
       "2                                               NaN   \n",
       "3                                               NaN   \n",
       "4                                               NaN   \n",
       "5                                               NaN   \n",
       "6                                               NaN   \n",
       "7                                               NaN   \n",
       "8                                               NaN   \n",
       "9                                               NaN   \n",
       "10                                              NaN   \n",
       "11                                              NaN   \n",
       "12                                              NaN   \n",
       "13                                              NaN   \n",
       "14                                              NaN   \n",
       "15                                              NaN   \n",
       "16                                              NaN   \n",
       "17                                              NaN   \n",
       "18                                              NaN   \n",
       "19                                              NaN   \n",
       "20                                              NaN   \n",
       "21                                              NaN   \n",
       "22                                            354.0   \n",
       "23                                           1156.0   \n",
       "24                                            259.0   \n",
       "25                                              NaN   \n",
       "26                                              NaN   \n",
       "27                                              NaN   \n",
       "28                                              NaN   \n",
       "29                                              NaN   \n",
       "\n",
       "political_party  ανεξαρτητοι ελληνες - πανος καμμενος  \\\n",
       "0                                                 NaN   \n",
       "1                                                 NaN   \n",
       "2                                                 NaN   \n",
       "3                                                 NaN   \n",
       "4                                                 NaN   \n",
       "5                                                 NaN   \n",
       "6                                                 NaN   \n",
       "7                                                 NaN   \n",
       "8                                                 NaN   \n",
       "9                                                 NaN   \n",
       "10                                                NaN   \n",
       "11                                                NaN   \n",
       "12                                                NaN   \n",
       "13                                                NaN   \n",
       "14                                                NaN   \n",
       "15                                                NaN   \n",
       "16                                                NaN   \n",
       "17                                                NaN   \n",
       "18                                                NaN   \n",
       "19                                               72.0   \n",
       "20                                              531.0   \n",
       "21                                               83.0   \n",
       "22                                              870.0   \n",
       "23                                             6346.0   \n",
       "24                                             5883.0   \n",
       "25                                                NaN   \n",
       "26                                                NaN   \n",
       "27                                                NaN   \n",
       "28                                                NaN   \n",
       "29                                                NaN   \n",
       "\n",
       "political_party  ανεξαρτητοι ελληνες εθνικη πατριωτικη δημοκρατικη συμμαχια  \\\n",
       "0                                                              NaN            \n",
       "1                                                              NaN            \n",
       "2                                                              NaN            \n",
       "3                                                              NaN            \n",
       "4                                                              NaN            \n",
       "5                                                              NaN            \n",
       "6                                                              NaN            \n",
       "7                                                              NaN            \n",
       "8                                                              NaN            \n",
       "9                                                              NaN            \n",
       "10                                                             NaN            \n",
       "11                                                             NaN            \n",
       "12                                                             NaN            \n",
       "13                                                             NaN            \n",
       "14                                                             NaN            \n",
       "15                                                             NaN            \n",
       "16                                                             NaN            \n",
       "17                                                             NaN            \n",
       "18                                                             NaN            \n",
       "19                                                             NaN            \n",
       "20                                                             NaN            \n",
       "21                                                             NaN            \n",
       "22                                                             NaN            \n",
       "23                                                             NaN            \n",
       "24                                                             NaN            \n",
       "25                                                           952.0            \n",
       "26                                                          1366.0            \n",
       "27                                                          1573.0            \n",
       "28                                                          1442.0            \n",
       "29                                                           188.0            \n",
       "\n",
       "political_party  αντιπολιτευση   βουλη  δημοκρατικη ανανεωση  \\\n",
       "0                          NaN   287.0                   NaN   \n",
       "1                          5.0  1088.0                   6.0   \n",
       "2                          3.0  1744.0                   NaN   \n",
       "3                          1.0  1850.0                   NaN   \n",
       "4                          NaN  1453.0                   NaN   \n",
       "5                          NaN  1186.0                   NaN   \n",
       "6                          NaN   307.0                   NaN   \n",
       "7                          1.0  2104.0                   NaN   \n",
       "8                          NaN   730.0                   NaN   \n",
       "9                          NaN  1718.0                   NaN   \n",
       "10                         NaN  1193.0                   NaN   \n",
       "11                         NaN  2039.0                   NaN   \n",
       "12                         NaN  1134.0                   NaN   \n",
       "13                         NaN  1222.0                   NaN   \n",
       "14                         NaN  1245.0                   NaN   \n",
       "15                         NaN  2269.0                   NaN   \n",
       "16                         NaN  1712.0                   NaN   \n",
       "17                         NaN  1675.0                   NaN   \n",
       "18                         1.0  1913.0                   NaN   \n",
       "19                         NaN  1296.0                   NaN   \n",
       "20                         NaN  2695.0                   NaN   \n",
       "21                         NaN  2845.0                   NaN   \n",
       "22                         NaN  2198.0                   NaN   \n",
       "23                         NaN  2776.0                   NaN   \n",
       "24                         NaN  3346.0                   NaN   \n",
       "25                         NaN   896.0                   NaN   \n",
       "26                         NaN  1835.0                   NaN   \n",
       "27                         NaN   522.0                   NaN   \n",
       "28                         NaN   514.0                   NaN   \n",
       "29                         NaN    84.0                   NaN   \n",
       "\n",
       "political_party  δημοκρατικη αριστερα  \\\n",
       "0                                 NaN   \n",
       "1                                 NaN   \n",
       "2                                 NaN   \n",
       "3                                 NaN   \n",
       "4                                 NaN   \n",
       "5                                 NaN   \n",
       "6                                 NaN   \n",
       "7                                 NaN   \n",
       "8                                 NaN   \n",
       "9                                 NaN   \n",
       "10                                NaN   \n",
       "11                                NaN   \n",
       "12                                NaN   \n",
       "13                                NaN   \n",
       "14                                NaN   \n",
       "15                                NaN   \n",
       "16                                NaN   \n",
       "17                                NaN   \n",
       "18                                NaN   \n",
       "19                              324.0   \n",
       "20                               43.0   \n",
       "21                              162.0   \n",
       "22                              301.0   \n",
       "23                             1119.0   \n",
       "24                             2255.0   \n",
       "25                                NaN   \n",
       "26                                NaN   \n",
       "27                                NaN   \n",
       "28                                NaN   \n",
       "29                                NaN   \n",
       "\n",
       "political_party  δημοκρατικη συμπαραταξη (πανελληνιο σοσιαλιστικο κινημα - δημοκρατικη αριστερα)  \\\n",
       "0                                                              NaN                                 \n",
       "1                                                              NaN                                 \n",
       "2                                                              NaN                                 \n",
       "3                                                              NaN                                 \n",
       "4                                                              NaN                                 \n",
       "5                                                              NaN                                 \n",
       "6                                                              NaN                                 \n",
       "7                                                              NaN                                 \n",
       "8                                                              NaN                                 \n",
       "9                                                              NaN                                 \n",
       "10                                                             NaN                                 \n",
       "11                                                             NaN                                 \n",
       "12                                                             NaN                                 \n",
       "13                                                             NaN                                 \n",
       "14                                                             NaN                                 \n",
       "15                                                             NaN                                 \n",
       "16                                                             NaN                                 \n",
       "17                                                             NaN                                 \n",
       "18                                                             NaN                                 \n",
       "19                                                             NaN                                 \n",
       "20                                                             NaN                                 \n",
       "21                                                             NaN                                 \n",
       "22                                                             NaN                                 \n",
       "23                                                             NaN                                 \n",
       "24                                                             NaN                                 \n",
       "25                                                          1139.0                                 \n",
       "26                                                          9945.0                                 \n",
       "27                                                          6866.0                                 \n",
       "28                                                          4260.0                                 \n",
       "29                                                           781.0                                 \n",
       "\n",
       "political_party  ...  λαικη ενοτητα  λαικος ορθοδοξος συναγερμος  \\\n",
       "0                ...            NaN                          5.0   \n",
       "1                ...            NaN                          6.0   \n",
       "2                ...            NaN                          8.0   \n",
       "3                ...            NaN                         12.0   \n",
       "4                ...            NaN                          5.0   \n",
       "5                ...            NaN                          NaN   \n",
       "6                ...            NaN                          1.0   \n",
       "7                ...            NaN                          4.0   \n",
       "8                ...            NaN                          1.0   \n",
       "9                ...            NaN                          2.0   \n",
       "10               ...            NaN                          1.0   \n",
       "11               ...            NaN                          NaN   \n",
       "12               ...            NaN                          1.0   \n",
       "13               ...            NaN                          1.0   \n",
       "14               ...            NaN                          2.0   \n",
       "15               ...            NaN                          1.0   \n",
       "16               ...            NaN                          NaN   \n",
       "17               ...            NaN                        500.0   \n",
       "18               ...            NaN                       4076.0   \n",
       "19               ...            NaN                       3520.0   \n",
       "20               ...            NaN                       6110.0   \n",
       "21               ...            NaN                       6569.0   \n",
       "22               ...            NaN                       2749.0   \n",
       "23               ...            NaN                         67.0   \n",
       "24               ...            NaN                         42.0   \n",
       "25               ...          346.0                          2.0   \n",
       "26               ...            NaN                          NaN   \n",
       "27               ...            NaN                          NaN   \n",
       "28               ...            NaN                          1.0   \n",
       "29               ...            NaN                          NaN   \n",
       "\n",
       "political_party  λαικος συνδεσος - χρυση αυγη  νεα δημοκρατια  \\\n",
       "0                                         NaN          4741.0   \n",
       "1                                         NaN         16566.0   \n",
       "2                                         NaN         22121.0   \n",
       "3                                         NaN         24569.0   \n",
       "4                                         NaN         18764.0   \n",
       "5                                         NaN          7127.0   \n",
       "6                                         NaN          2043.0   \n",
       "7                                         NaN         10097.0   \n",
       "8                                         NaN          5836.0   \n",
       "9                                         NaN          9032.0   \n",
       "10                                        NaN          7341.0   \n",
       "11                                        NaN         14658.0   \n",
       "12                                        NaN          7960.0   \n",
       "13                                        NaN          8427.0   \n",
       "14                                        NaN         14816.0   \n",
       "15                                        NaN         30577.0   \n",
       "16                                        NaN         23757.0   \n",
       "17                                        NaN         21577.0   \n",
       "18                                        NaN         25418.0   \n",
       "19                                        NaN          9229.0   \n",
       "20                                        NaN          7169.0   \n",
       "21                                        NaN          7195.0   \n",
       "22                                      752.0         11945.0   \n",
       "23                                     1838.0         16420.0   \n",
       "24                                     1163.0         18078.0   \n",
       "25                                     1432.0          7905.0   \n",
       "26                                     4472.0         12948.0   \n",
       "27                                     2588.0          9905.0   \n",
       "28                                     1696.0          7442.0   \n",
       "29                                      231.0          1971.0   \n",
       "\n",
       "political_party  οικολογοι εναλλακτικοι (ομοσπονδια οικολογικων εναλλακτικων οργανωσεων)  \\\n",
       "0                                                              5.0                         \n",
       "1                                                             53.0                         \n",
       "2                                                            101.0                         \n",
       "3                                                             89.0                         \n",
       "4                                                             59.0                         \n",
       "5                                                              NaN                         \n",
       "6                                                              NaN                         \n",
       "7                                                              NaN                         \n",
       "8                                                              NaN                         \n",
       "9                                                              NaN                         \n",
       "10                                                             NaN                         \n",
       "11                                                             NaN                         \n",
       "12                                                             NaN                         \n",
       "13                                                             NaN                         \n",
       "14                                                             NaN                         \n",
       "15                                                             NaN                         \n",
       "16                                                             NaN                         \n",
       "17                                                             NaN                         \n",
       "18                                                             NaN                         \n",
       "19                                                             NaN                         \n",
       "20                                                             NaN                         \n",
       "21                                                             NaN                         \n",
       "22                                                             NaN                         \n",
       "23                                                             NaN                         \n",
       "24                                                             NaN                         \n",
       "25                                                             NaN                         \n",
       "26                                                             NaN                         \n",
       "27                                                             NaN                         \n",
       "28                                                             NaN                         \n",
       "29                                                             NaN                         \n",
       "\n",
       "political_party  πανελληνιο σοσιαλιστικο κινημα  πολιτικη ανοιξη  \\\n",
       "0                                        3959.0              NaN   \n",
       "1                                       12323.0              NaN   \n",
       "2                                       16414.0              NaN   \n",
       "3                                       17076.0              NaN   \n",
       "4                                       17306.0            297.0   \n",
       "5                                       17735.0           3087.0   \n",
       "6                                        6807.0              NaN   \n",
       "7                                       33587.0              NaN   \n",
       "8                                       14715.0              NaN   \n",
       "9                                       24797.0              NaN   \n",
       "10                                      17941.0              NaN   \n",
       "11                                      27366.0              NaN   \n",
       "12                                      17127.0              NaN   \n",
       "13                                      19154.0              NaN   \n",
       "14                                       8334.0              NaN   \n",
       "15                                      14139.0              NaN   \n",
       "16                                      10317.0              NaN   \n",
       "17                                       9078.0              NaN   \n",
       "18                                      13040.0              NaN   \n",
       "19                                       8878.0              NaN   \n",
       "20                                      17617.0              NaN   \n",
       "21                                      22732.0              NaN   \n",
       "22                                      10165.0              NaN   \n",
       "23                                       6600.0              NaN   \n",
       "24                                       7916.0              NaN   \n",
       "25                                       2531.0              NaN   \n",
       "26                                          8.0              NaN   \n",
       "27                                          6.0              NaN   \n",
       "28                                         12.0              NaN   \n",
       "29                                          NaN              NaN   \n",
       "\n",
       "political_party  συνασπισμος ριζοσπαστικης αριστερας  \\\n",
       "0                                                NaN   \n",
       "1                                                NaN   \n",
       "2                                                NaN   \n",
       "3                                                NaN   \n",
       "4                                                NaN   \n",
       "5                                                NaN   \n",
       "6                                                NaN   \n",
       "7                                                NaN   \n",
       "8                                                NaN   \n",
       "9                                                NaN   \n",
       "10                                               NaN   \n",
       "11                                               NaN   \n",
       "12                                               NaN   \n",
       "13                                               NaN   \n",
       "14                                             310.0   \n",
       "15                                            1426.0   \n",
       "16                                            1059.0   \n",
       "17                                            1404.0   \n",
       "18                                            3569.0   \n",
       "19                                            2229.0   \n",
       "20                                            4514.0   \n",
       "21                                            6254.0   \n",
       "22                                            6762.0   \n",
       "23                                           12498.0   \n",
       "24                                           14833.0   \n",
       "25                                           16045.0   \n",
       "26                                           24385.0   \n",
       "27                                           16127.0   \n",
       "28                                           12005.0   \n",
       "29                                            3152.0   \n",
       "\n",
       "political_party  συνασπισμος της αριστερας των κινηματων και της οικολογιας  \\\n",
       "0                                                           1252.0            \n",
       "1                                                           5038.0            \n",
       "2                                                           7196.0            \n",
       "3                                                           8431.0            \n",
       "4                                                           5209.0            \n",
       "5                                                              NaN            \n",
       "6                                                            352.0            \n",
       "7                                                           1785.0            \n",
       "8                                                            699.0            \n",
       "9                                                           1323.0            \n",
       "10                                                          1074.0            \n",
       "11                                                          1346.0            \n",
       "12                                                           899.0            \n",
       "13                                                           931.0            \n",
       "14                                                           348.0            \n",
       "15                                                             2.0            \n",
       "16                                                             1.0            \n",
       "17                                                             NaN            \n",
       "18                                                             2.0            \n",
       "19                                                             2.0            \n",
       "20                                                             NaN            \n",
       "21                                                             NaN            \n",
       "22                                                             NaN            \n",
       "23                                                             NaN            \n",
       "24                                                             1.0            \n",
       "25                                                             NaN            \n",
       "26                                                             NaN            \n",
       "27                                                             NaN            \n",
       "28                                                             NaN            \n",
       "29                                                             NaN            \n",
       "\n",
       "political_party  το ποταμι  \n",
       "0                      NaN  \n",
       "1                      NaN  \n",
       "2                      NaN  \n",
       "3                      NaN  \n",
       "4                      NaN  \n",
       "5                      NaN  \n",
       "6                      NaN  \n",
       "7                      NaN  \n",
       "8                      NaN  \n",
       "9                      NaN  \n",
       "10                     NaN  \n",
       "11                     NaN  \n",
       "12                     NaN  \n",
       "13                     NaN  \n",
       "14                     NaN  \n",
       "15                     NaN  \n",
       "16                     NaN  \n",
       "17                     NaN  \n",
       "18                     NaN  \n",
       "19                     NaN  \n",
       "20                     NaN  \n",
       "21                     NaN  \n",
       "22                     NaN  \n",
       "23                     NaN  \n",
       "24                     NaN  \n",
       "25                   498.0  \n",
       "26                  2923.0  \n",
       "27                   830.0  \n",
       "28                  3359.0  \n",
       "29                    62.0  \n",
       "\n",
       "[30 rows x 24 columns]"
      ]
     },
     "execution_count": 10,
     "metadata": {},
     "output_type": "execute_result"
    }
   ],
   "source": [
    "dates = dates.reset_index()\n",
    "piv = dates.pivot(index = 'year',columns = 'political_party',values = 'speech')\n",
    "piv = piv.reset_index()\n",
    "piv"
   ]
  },
  {
   "cell_type": "code",
   "execution_count": null,
   "metadata": {
    "id": "d42h46gnmyRc"
   },
   "outputs": [],
   "source": [
    "import dash\n",
    "import dash_core_components as dcc\n",
    "import dash_html_components as html\n",
    "from dash.dependencies import Input, Output\n",
    "import plotly.express as px\n",
    "\n",
    "\n",
    "app = dash.Dash(__name__)\n",
    "\n",
    "app.layout = html.Div([\n",
    "    dcc.Dropdown(\n",
    "        id=\"ticker\",\n",
    "        options=[{\"label\": x, \"value\": x} \n",
    "                 for x in piv.columns[1:]],\n",
    "        value=piv.columns[1],\n",
    "        clearable=False,\n",
    "    ),\n",
    "    dcc.Graph(id=\"time-series-chart\"),\n",
    "])\n",
    "\n",
    "@app.callback(\n",
    "    Output(\"time-series-chart\", \"figure\"), \n",
    "    [Input(\"ticker\", \"value\")])\n",
    "def display_time_series(ticker):\n",
    "    fig = px.line(piv, x='year', y=ticker)\n",
    "    return fig\n",
    "\n",
    "app.run_server()"
   ]
  },
  {
   "cell_type": "code",
   "execution_count": null,
   "metadata": {
    "id": "Sbzk-QG96fLQ"
   },
   "outputs": [],
   "source": []
  }
 ],
 "metadata": {
  "accelerator": "TPU",
  "colab": {
   "collapsed_sections": [],
   "name": "NeuralTPUfinal.ipynb",
   "provenance": []
  },
  "kernelspec": {
   "display_name": "Python 3",
   "language": "python",
   "name": "python3"
  },
  "language_info": {
   "codemirror_mode": {
    "name": "ipython",
    "version": 3
   },
   "file_extension": ".py",
   "mimetype": "text/x-python",
   "name": "python",
   "nbconvert_exporter": "python",
   "pygments_lexer": "ipython3",
   "version": "3.7.6"
  }
 },
 "nbformat": 4,
 "nbformat_minor": 1
}
